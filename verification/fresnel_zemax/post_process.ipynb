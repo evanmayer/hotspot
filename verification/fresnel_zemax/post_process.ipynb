{
 "cells": [
  {
   "cell_type": "code",
   "execution_count": 4,
   "metadata": {},
   "outputs": [],
   "source": [
    "import glob\n",
    "import numpy as np\n",
    "\n",
    "from astropy.modeling.models import Gaussian2D\n",
    "from astropy.modeling.fitting import LevMarLSQFitter"
   ]
  },
  {
   "cell_type": "markdown",
   "metadata": {},
   "source": [
    "Get the worst-case (smallest) spot size"
   ]
  },
  {
   "cell_type": "code",
   "execution_count": 18,
   "metadata": {},
   "outputs": [
    {
     "name": "stdout",
     "output_type": "stream",
     "text": [
      "..\\F1_to_K3_config_3_field_1_results.npz Parameter('x_mean', value=0.021351630812269567) Parameter('y_mean', value=0.005047163122442153) 0.07642846260675831 0.13464328670218667 Parameter('theta', value=0.03759968830939521)\n",
      "..\\F1_to_K3_config_3_field_8_results.npz Parameter('x_mean', value=-0.34280175668180557) Parameter('y_mean', value=-0.012928508283897846) 2.7680776601369656e-38 2.7680776601369656e-38 Parameter('theta', value=0.021122365826883652)\n",
      "..\\K1_to_FLANGE_config_3_field_1_results.npz Parameter('x_mean', value=0.015469944322659523) Parameter('y_mean', value=-0.3644696312299665) 2.7680776601369656e-38 2.7680776601369656e-38 Parameter('theta', value=3.2673048225429926)\n"
     ]
    },
    {
     "name": "stderr",
     "output_type": "stream",
     "text": [
      "WARNING: The fit may be unsuccessful; check fit_info['message'] for more information. [astropy.modeling.fitting]\n"
     ]
    },
    {
     "name": "stdout",
     "output_type": "stream",
     "text": [
      "..\\K1_to_FLANGE_config_3_field_8_results.npz Parameter('x_mean', value=-0.008039823974292672) Parameter('y_mean', value=0.17204880603995332) 0.03853298656612211 0.03445825027527766 Parameter('theta', value=-0.0035562461713523888)\n",
      "..\\K2_to_K1_config_3_field_1_results.npz Parameter('x_mean', value=0.033440865125625906) Parameter('y_mean', value=-0.0014070447803342045) 2.7680776601369656e-38 2.7680776601369656e-38 Parameter('theta', value=-0.1213452452840738)\n",
      "..\\K2_to_K1_config_3_field_8_results.npz Parameter('x_mean', value=-2.3866351571018023) Parameter('y_mean', value=-0.0284913102873105) 2.7680776601369656e-38 2.7680776601369656e-38 Parameter('theta', value=0.10001570736664717)\n",
      "..\\K3_to_K2_config_3_field_1_results.npz Parameter('x_mean', value=0.04192557510659267) Parameter('y_mean', value=0.002590995039604957) 2.7680776601369656e-38 2.7680776601369656e-38 Parameter('theta', value=0.03896245357842139)\n",
      "..\\K3_to_K2_config_3_field_8_results.npz Parameter('x_mean', value=-0.21085309237672226) Parameter('y_mean', value=-0.014959813179429108) 0.0769974299570248 0.05607041689462689 Parameter('theta', value=0.3159033863124769)\n",
      "..\\P1_to_F1_config_3_field_1_results.npz Parameter('x_mean', value=0.012487067559976292) Parameter('y_mean', value=-0.0009020476660320869) 0.10093966840000554 0.17941976383522557 Parameter('theta', value=-0.003383416650684138)\n",
      "..\\P1_to_F1_config_3_field_8_results.npz Parameter('x_mean', value=-0.08574486859967242) Parameter('y_mean', value=0.09142540937994502) 2.7680776601369656e-38 2.7680776601369656e-38 Parameter('theta', value=0.006918006103845796)\n",
      "..\\P2_to_P1_config_3_field_1_results.npz Parameter('x_mean', value=-0.011125311877956479) Parameter('y_mean', value=0.03528722691111132) 2.7680776601369656e-38 2.7680776601369656e-38 Parameter('theta', value=0.17530617528333098)\n",
      "..\\P2_to_P1_config_3_field_8_results.npz Parameter('x_mean', value=0.04031615485866156) Parameter('y_mean', value=0.002428452606713355) 2.7680776601369656e-38 2.7680776601369656e-38 Parameter('theta', value=0.27885864867733656)\n",
      "..\\F1_to_K3_config_3_field_8_results.npz 2.7680776601369656e-38\n",
      "..\\F1_to_K3_config_3_field_8_results.npz 2.7680776601369656e-38\n"
     ]
    }
   ],
   "source": [
    "files = glob.glob('../*results.npz')\n",
    "smallest_x = np.inf\n",
    "smallest_y = np.inf\n",
    "smallest_file_x = ''\n",
    "smallest_file_y = ''\n",
    "for file in files:\n",
    "    data = np.load(file)\n",
    "    xx = data['xx_img']\n",
    "    yy = data['yy_img']\n",
    "    img = np.abs(data['fresnel_img']) ** 2.\n",
    "    # fit a 2D Gaussian to data and extract fit params\n",
    "    p_init = Gaussian2D(\n",
    "        amplitude=img.max(),\n",
    "        x_mean=0.,\n",
    "        y_mean=0.\n",
    "    )\n",
    "    fit_p = LevMarLSQFitter()\n",
    "    p = fit_p(p_init, xx, yy, img)\n",
    "    print(file, p.x_mean, p.y_mean, p.x_fwhm, p.y_fwhm, p.theta)\n",
    "    if p.x_fwhm < smallest_x:\n",
    "        smallest_x = p.x_fwhm\n",
    "        smallest_file_x = file\n",
    "    if p.x_fwhm < smallest_y:\n",
    "        smallest_y = p.y_fwhm\n",
    "        smallest_file_y = file\n",
    "print(smallest_file_x, smallest_x)\n",
    "print(smallest_file_y, smallest_y)"
   ]
  },
  {
   "cell_type": "code",
   "execution_count": null,
   "metadata": {},
   "outputs": [],
   "source": []
  }
 ],
 "metadata": {
  "kernelspec": {
   "display_name": "astr",
   "language": "python",
   "name": "python3"
  },
  "language_info": {
   "codemirror_mode": {
    "name": "ipython",
    "version": 3
   },
   "file_extension": ".py",
   "mimetype": "text/x-python",
   "name": "python",
   "nbconvert_exporter": "python",
   "pygments_lexer": "ipython3",
   "version": "3.9.6"
  },
  "orig_nbformat": 4
 },
 "nbformat": 4,
 "nbformat_minor": 2
}
