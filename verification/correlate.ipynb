{
 "cells": [
  {
   "cell_type": "code",
   "execution_count": 26,
   "metadata": {},
   "outputs": [
    {
     "name": "stdout",
     "output_type": "stream",
     "text": [
      "Using matplotlib backend: Qt5Agg\n"
     ]
    }
   ],
   "source": [
    "import matplotlib.pyplot as plt\n",
    "from matplotlib import image\n",
    "from matplotlib.patches import Circle, Rectangle\n",
    "from matplotlib.collections import PatchCollection\n",
    "import numpy as np\n",
    "from scipy import signal\n",
    "from scipy import ndimage\n",
    "\n",
    "%matplotlib\n",
    "\n",
    "np.random.seed(77777)"
   ]
  },
  {
   "cell_type": "code",
   "execution_count": 27,
   "metadata": {},
   "outputs": [],
   "source": [
    "def gen_template(w: float, h: float, dpi: int, loc: str, plot=False):\n",
    "    '''\n",
    "    Generate an image of a photogrammetry target.\n",
    "\n",
    "    Parameters\n",
    "    ----------\n",
    "    w\n",
    "        total image width, m\n",
    "    h\n",
    "        total image height, m\n",
    "    dpi\n",
    "        output image dpi, converts between matrix coordinates and real width\n",
    "    loc\n",
    "        [SW, NW, SE, NE, raft] generates a different pattern for each loc\n",
    "    '''\n",
    "    IN_TO_METERS = 0.0254\n",
    "    w_in = w / IN_TO_METERS\n",
    "    h_in = h / IN_TO_METERS\n",
    "    w_px = np.round(w_in * dpi).astype(int)\n",
    "    h_px = np.round(h_in * dpi).astype(int)\n",
    "\n",
    "    fig, ax = plt.subplots()\n",
    "    fig.set_size_inches(w_in, h_in)\n",
    "    fig.tight_layout()\n",
    "    fig.subplots_adjust(left=0., right=1., top=1., bottom=0.)\n",
    "    ax.scatter([0, 0, w_px, w_px], [0, h_px, 0, h_px], color='k')\n",
    "\n",
    "    # black background\n",
    "    # ax.add_patch(Rectangle((0, 0), w_px, h_px, color='k'))\n",
    "    pattern_size = 8\n",
    "    pattern = np.random.random((pattern_size,pattern_size)) * 0.5 + .5\n",
    "    pattern[0][0] = 0\n",
    "    pattern[pattern_size - 1][pattern_size - 1] = 1\n",
    "    ax.imshow(ndimage.zoom(pattern, h_px / pattern_size, order=0), cmap='Greys')\n",
    "\n",
    "    # center cross\n",
    "    c_size = dpi * 0.01 / IN_TO_METERS # 10 cm\n",
    "    c_thick = dpi * 0.001 / IN_TO_METERS # 1 mm\n",
    "    ax.add_patch(Rectangle((w_px / 2 - c_size / 2, h_px / 2 - c_thick / 2), c_size, c_thick, color='w')) # horz\n",
    "    ax.add_patch(Rectangle((w_px / 2 - c_thick / 2, h_px / 2 - c_size / 2), c_thick, c_size, color='w')) # vert\n",
    "\n",
    "    circ_diam = c_size\n",
    "    if loc == 'SW':\n",
    "        locs = (\n",
    "            (circ_diam / 2, 0),\n",
    "            (w_px / 4, h_px / 4),\n",
    "        )\n",
    "    elif loc == 'NW':\n",
    "        locs = (\n",
    "            (circ_diam / 2, 0),\n",
    "            (w_px / 4 + circ_diam / 2, 0),\n",
    "            (w_px / 4, 3 * h_px / 4),\n",
    "        )\n",
    "    elif loc == 'NE':\n",
    "        locs = (\n",
    "            (circ_diam / 2, 0),\n",
    "            (w_px / 4 + circ_diam / 2, 0),\n",
    "            (2 * w_px / 4 + circ_diam / 2, 0),\n",
    "            (3 * w_px / 4, 3 * h_px / 4),\n",
    "        )\n",
    "    elif loc == 'SE':\n",
    "        locs = (\n",
    "            (circ_diam / 2, 0),\n",
    "            (w_px / 4 + circ_diam / 2, 0),\n",
    "            (2 * w_px / 4 + circ_diam / 2, 0),\n",
    "            (3 * w_px / 4 + circ_diam / 2, 0),\n",
    "            (3 * w_px / 4, h_px / 4),\n",
    "        )\n",
    "    elif loc == 'raft':\n",
    "        locs = (\n",
    "            (w_px / 4, h_px / 4),\n",
    "            (w_px / 4, 3 * h_px / 4),\n",
    "            (3 * w_px / 4, 3 * h_px / 4),\n",
    "            (3 * w_px / 4, h_px / 4),\n",
    "        )\n",
    "    else:\n",
    "        raise ValueError(f'loc {loc} is not an option')\n",
    "\n",
    "    for elem in locs:\n",
    "        ax.add_patch(Circle(elem, circ_diam / 2, color='w', zorder=1))\n",
    "\n",
    "    ax.set_aspect('equal')\n",
    "    ax.set_xlim([0, w_px])\n",
    "    ax.set_ylim([0, h_px])\n",
    "    ax.set_xticks([])\n",
    "    ax.set_yticks([])\n",
    "    fig.savefig(f'{loc}_target.png')\n",
    "    if not plot:\n",
    "        plt.close()\n",
    "\n",
    "plt.close('all')\n",
    "locs = ['raft', 'SW']\n",
    "TARGET_W = 0.04 # 40 mm\n",
    "TARGET_H = 0.04\n",
    "# for loc in locs:\n",
    "    # gen_template(TARGET_W, TARGET_H, 300, loc, plot=False)"
   ]
  },
  {
   "cell_type": "code",
   "execution_count": 28,
   "metadata": {},
   "outputs": [
    {
     "data": {
      "text/plain": [
       "Text(0.5, 1.0, 'Similarity Metric (xcorr)')"
      ]
     },
     "execution_count": 28,
     "metadata": {},
     "output_type": "execute_result"
    }
   ],
   "source": [
    "f0 = plt.figure(constrained_layout=True)\n",
    "axd = f0.subplot_mosaic(\n",
    "    \"\"\"\n",
    "    aa\n",
    "    bc\n",
    "    \"\"\"\n",
    ")\n",
    "im = image.imread('2022-01-10 15.36.jpeg')\n",
    "im = np.sum(im.astype(float), axis=2) # single channel\n",
    "im = np.max(im) - im # invert value\n",
    "im -= im.mean() # detrend\n",
    "stride = 2\n",
    "im = ndimage.rotate(im, -92)\n",
    "im = im[::stride,::stride]\n",
    "axd['a'].imshow(im, cmap='Greys')\n",
    "axd['b'].set_title('Similarity Metric (xcorr)')"
   ]
  },
  {
   "cell_type": "code",
   "execution_count": 29,
   "metadata": {},
   "outputs": [
    {
     "name": "stdout",
     "output_type": "stream",
     "text": [
      "raft target center is at (2011.0, 1289.0) px in image\n",
      "Calculated pixels per m: 3634.470950694876\n",
      "SW target center is at (494.0, 2708.0) px in image\n",
      "Calculated pixels per m: 3686.2490302799843\n"
     ]
    }
   ],
   "source": [
    "# plot convergence\n",
    "f1, ax = plt.subplots(nrows=5)\n",
    "f1.tight_layout()\n",
    "\n",
    "found_pos = []\n",
    "px_per_ms = []\n",
    "for i, loc in enumerate(locs):\n",
    "    axd['c'].set_title(f'Target Template Image: {loc}')\n",
    "    ax[i].set_title(loc)\n",
    "    ax[i].set_xlabel('Template Image Size (px)')\n",
    "    ax[i].set_ylabel('Peak Correlation Value')\n",
    "    l = None\n",
    "\n",
    "    maxes = []\n",
    "    tmp = image.imread(loc + '_target.png')\n",
    "    tmp = np.sum(tmp.astype(float) , axis=2) # single channel\n",
    "    tmp = np.max(tmp) - tmp # invert\n",
    "    tmp -= tmp.mean() # detrend\n",
    "    # try different scales to find the size of the template, in pixels.\n",
    "    # Proper range for this will depend on the angular size of the target in the image.\n",
    "    pxs = np.logspace(7, 8, num=50, base=2) / stride\n",
    "    sz = np.max(tmp.shape)\n",
    "    zooms = pxs / sz\n",
    "    for j, zoom in enumerate(zooms):\n",
    "        # print(f'Trying zoom {100. * zoom} %, {pxs[j]} px...')\n",
    "        tmp_zoom = ndimage.zoom(tmp, zoom) # apply zoom\n",
    "        xcorr = signal.fftconvolve(im, tmp_zoom[::-1, ::-1], mode='valid')\n",
    "        max_val = np.max(xcorr)\n",
    "        y,x = np.unravel_index(np.argmax(xcorr), xcorr.shape)\n",
    "        maxes.append(max_val)\n",
    "\n",
    "        im_xcorr = axd['b'].imshow(xcorr)\n",
    "        axd['c'].imshow(tmp_zoom, cmap='Greys')\n",
    "        if not l:\n",
    "            l, = ax[i].plot(pxs[:len(maxes)], maxes)\n",
    "        else:\n",
    "            l.set_data(pxs[:len(maxes)], maxes)\n",
    "            ax[i].set_xlim(.9 * min(pxs[:len(maxes)]), max(pxs[:len(maxes)]) * 1.1)\n",
    "            ax[i].set_ylim(.9 * min(maxes), max(maxes) * 1.1)\n",
    "\n",
    "        # Generally, a match has been found when the scale reaches a maximum.\n",
    "        if (len(maxes) > 3) and (maxes[-1] < maxes[-2] and (maxes[-3] < maxes[-2])):\n",
    "            x_cent = x + tmp_zoom.shape[0] / 2\n",
    "            y_cent = y + tmp_zoom.shape[1] / 2\n",
    "            print(f'{loc} target center is at {(x_cent * stride, y_cent * stride)} px in image')\n",
    "            axd['a'].add_patch(Rectangle((x, y), tmp_zoom.shape[0], tmp_zoom.shape[1], fill=False, color='red'))\n",
    "            axd['a'].scatter(x_cent, y_cent)\n",
    "            axd['a'].annotate(f'{loc}, est. size = {pxs[j]:.2f} px', (x,y))\n",
    "            px_per_ms.append(pxs[j] * stride / (TARGET_W))\n",
    "            found_pos.append((x_cent * stride, y_cent * stride))\n",
    "            print(f'Calculated pixels per m: {pxs[j] * stride / (TARGET_W)}')\n",
    "            break\n",
    "        \n",
    "        f0.canvas.draw_idle()\n",
    "        f1.canvas.draw_idle()\n",
    "        plt.pause(0.001)"
   ]
  },
  {
   "cell_type": "code",
   "execution_count": 30,
   "metadata": {},
   "outputs": [
    {
     "name": "stdout",
     "output_type": "stream",
     "text": [
      "(x,y): (0.4144401107930342, 0.3876667878808935)\n"
     ]
    }
   ],
   "source": [
    "avg_px_per_m = np.array(px_per_ms).mean() \n",
    "\n",
    "raft_loc = np.array(found_pos[0]) / avg_px_per_m\n",
    "sw_loc = np.array(found_pos[1]) / avg_px_per_m\n",
    "\n",
    "dist_x = raft_loc[0] - sw_loc[0]\n",
    "dist_y = sw_loc[1] - raft_loc[1]\n",
    "print(f'(x,y): {(dist_x, dist_y)}')"
   ]
  },
  {
   "cell_type": "code",
   "execution_count": null,
   "metadata": {},
   "outputs": [],
   "source": []
  }
 ],
 "metadata": {
  "interpreter": {
   "hash": "2c78355426ab29dd466d6c9fb37ae1bcdf5ce1e23673f940012e871d663c0200"
  },
  "kernelspec": {
   "display_name": "Python 3.6.15 64-bit ('hotspot': conda)",
   "language": "python",
   "name": "python3"
  },
  "language_info": {
   "codemirror_mode": {
    "name": "ipython",
    "version": 3
   },
   "file_extension": ".py",
   "mimetype": "text/x-python",
   "name": "python",
   "nbconvert_exporter": "python",
   "pygments_lexer": "ipython3",
   "version": "3.9.6"
  },
  "orig_nbformat": 4
 },
 "nbformat": 4,
 "nbformat_minor": 2
}
