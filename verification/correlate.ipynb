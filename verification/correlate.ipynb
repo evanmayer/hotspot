{
 "cells": [
  {
   "cell_type": "code",
   "execution_count": 1,
   "metadata": {},
   "outputs": [
    {
     "name": "stdout",
     "output_type": "stream",
     "text": [
      "Using matplotlib backend: Qt5Agg\n"
     ]
    }
   ],
   "source": [
    "import matplotlib.pyplot as plt\n",
    "from matplotlib import image\n",
    "from matplotlib.patches import Circle, Rectangle\n",
    "from matplotlib.collections import PatchCollection\n",
    "import numpy as np\n",
    "from scipy import signal\n",
    "from scipy import ndimage\n",
    "\n",
    "%matplotlib\n",
    "\n",
    "np.random.seed(77777)"
   ]
  },
  {
   "cell_type": "code",
   "execution_count": 2,
   "metadata": {},
   "outputs": [],
   "source": [
    "def gen_template(w: float, h: float, dpi: int, loc: str, plot=False):\n",
    "    '''\n",
    "    Generate an image of a photogrammetry target.\n",
    "\n",
    "    Parameters\n",
    "    ----------\n",
    "    w\n",
    "        total image width, m\n",
    "    h\n",
    "        total image height, m\n",
    "    dpi\n",
    "        output image dpi, converts between matrix coordinates and real width\n",
    "    loc\n",
    "        [SW, NW, SE, NE, raft] generates a different pattern for each loc\n",
    "    '''\n",
    "    IN_TO_METERS = 0.0254\n",
    "    w_in = w / IN_TO_METERS\n",
    "    h_in = h / IN_TO_METERS\n",
    "    w_px = np.round(w_in * dpi).astype(int)\n",
    "    h_px = np.round(h_in * dpi).astype(int)\n",
    "\n",
    "    fig, ax = plt.subplots()\n",
    "    fig.set_size_inches(w_in, h_in)\n",
    "    fig.tight_layout()\n",
    "    fig.subplots_adjust(left=0., right=1., top=1., bottom=0.)\n",
    "    ax.scatter([0, 0, w_px, w_px], [0, h_px, 0, h_px], color='k')\n",
    "\n",
    "    # black background\n",
    "    # ax.add_patch(Rectangle((0, 0), w_px, h_px, color='k'))\n",
    "    pattern_size = 8\n",
    "    pattern = np.random.random((pattern_size,pattern_size)) * 0.5 + .5\n",
    "    pattern[0][0] = 0\n",
    "    pattern[pattern_size - 1][pattern_size - 1] = 1\n",
    "    ax.imshow(ndimage.zoom(pattern, h_px / pattern_size, order=0), cmap='Greys')\n",
    "\n",
    "    # center cross\n",
    "    c_size = dpi * 0.01 / IN_TO_METERS # 10 cm\n",
    "    c_thick = dpi * 0.001 / IN_TO_METERS # 1 mm\n",
    "    ax.add_patch(Rectangle((w_px / 2 - c_size / 2, h_px / 2 - c_thick / 2), c_size, c_thick, color='w')) # horz\n",
    "    ax.add_patch(Rectangle((w_px / 2 - c_thick / 2, h_px / 2 - c_size / 2), c_thick, c_size, color='w')) # vert\n",
    "\n",
    "    circ_diam = c_size\n",
    "    if loc == 'SW':\n",
    "        locs = (\n",
    "            (circ_diam / 2, 0),\n",
    "            (w_px / 4, h_px / 4),\n",
    "        )\n",
    "    elif loc == 'NW':\n",
    "        locs = (\n",
    "            (circ_diam / 2, 0),\n",
    "            (w_px / 4 + circ_diam / 2, 0),\n",
    "            (w_px / 4, 3 * h_px / 4),\n",
    "        )\n",
    "    elif loc == 'NE':\n",
    "        locs = (\n",
    "            (circ_diam / 2, 0),\n",
    "            (w_px / 4 + circ_diam / 2, 0),\n",
    "            (2 * w_px / 4 + circ_diam / 2, 0),\n",
    "            (3 * w_px / 4, 3 * h_px / 4),\n",
    "        )\n",
    "    elif loc == 'SE':\n",
    "        locs = (\n",
    "            (circ_diam / 2, 0),\n",
    "            (w_px / 4 + circ_diam / 2, 0),\n",
    "            (2 * w_px / 4 + circ_diam / 2, 0),\n",
    "            (3 * w_px / 4 + circ_diam / 2, 0),\n",
    "            (3 * w_px / 4, h_px / 4),\n",
    "        )\n",
    "    elif loc == 'raft':\n",
    "        locs = (\n",
    "            (w_px / 4, h_px / 4),\n",
    "            (w_px / 4, 3 * h_px / 4),\n",
    "            (3 * w_px / 4, 3 * h_px / 4),\n",
    "            (3 * w_px / 4, h_px / 4),\n",
    "        )\n",
    "    else:\n",
    "        raise ValueError(f'loc {loc} is not an option')\n",
    "\n",
    "    for elem in locs:\n",
    "        ax.add_patch(Circle(elem, circ_diam / 2, color='w', zorder=1))\n",
    "\n",
    "    ax.set_aspect('equal')\n",
    "    ax.set_xlim([0, w_px])\n",
    "    ax.set_ylim([0, h_px])\n",
    "    ax.set_xticks([])\n",
    "    ax.set_yticks([])\n",
    "    fig.savefig(f'{loc}_target.png')\n",
    "    if not plot:\n",
    "        plt.close()\n",
    "\n",
    "plt.close('all')\n",
    "locs = ['NW', 'SW', 'NE', 'SE', 'raft']\n",
    "# for loc in locs:\n",
    "    # gen_template(0.04, 0.04, 300, loc, plot=False)"
   ]
  },
  {
   "cell_type": "code",
   "execution_count": 3,
   "metadata": {},
   "outputs": [
    {
     "data": {
      "text/plain": [
       "<matplotlib.image.AxesImage at 0x213c9fcfe80>"
      ]
     },
     "execution_count": 3,
     "metadata": {},
     "output_type": "execute_result"
    }
   ],
   "source": [
    "f0 = plt.figure(constrained_layout=True)\n",
    "axd = f0.subplot_mosaic(\n",
    "    \"\"\"\n",
    "    aa\n",
    "    bc\n",
    "    \"\"\"\n",
    ")\n",
    "im = image.imread('2022-01-09 22.37.05.jpeg')\n",
    "im = np.sum(im.astype(float), axis=2) # single channel\n",
    "im = np.max(im) - im # invert value\n",
    "im -= im.mean() # detrend\n",
    "stride = 3\n",
    "im = im[100:-500:stride,500:-500:stride]\n",
    "axd['a'].imshow(im, cmap='Greys')\n"
   ]
  },
  {
   "cell_type": "code",
   "execution_count": 4,
   "metadata": {},
   "outputs": [
    {
     "name": "stdout",
     "output_type": "stream",
     "text": [
      "NW target is at (52, 97) in image\n",
      "SW target is at (66, 510) in image\n",
      "NE target is at (725, 132) in image\n",
      "SE target is at (696, 497) in image\n",
      "raft target is at (374, 286) in image\n"
     ]
    }
   ],
   "source": [
    "# plot convergence\n",
    "f1, ax = plt.subplots(nrows=5)\n",
    "f1.tight_layout()\n",
    "\n",
    "for i, loc in enumerate(locs):\n",
    "    ax[i].set_title(loc)\n",
    "    ax[i].set_xlabel('Template Image Scale Factor')\n",
    "    ax[i].set_ylabel('Peak Correlation Value')\n",
    "    l = None\n",
    "\n",
    "    maxes = []\n",
    "    tmp = image.imread(loc + '_target.png')\n",
    "    tmp = np.max(tmp) - tmp # invert\n",
    "    tmp = np.sum(tmp.astype(float) , axis=2) # single channel\n",
    "    tmp -= tmp.mean() # detrend\n",
    "    # try different scales\n",
    "    sz = np.max(im.shape)\n",
    "    zooms = np.linspace(0.4 * sz, 1.5 * sz, num=50) / np.max(im.shape)\n",
    "    for j, zoom in enumerate(zooms):\n",
    "        # print(f'Trying zoom {100. * zoom} % ...')\n",
    "        tmp_zoom = ndimage.zoom(tmp, zoom) # apply zoom\n",
    "        xcorr = signal.fftconvolve(im, tmp_zoom[::-1, ::-1], mode='valid')\n",
    "        max_val = np.max(xcorr)\n",
    "        y,x = np.unravel_index(np.argmax(xcorr), xcorr.shape)\n",
    "        maxes.append(max_val)\n",
    "\n",
    "        axd['b'].imshow(xcorr, cmap='Greys')\n",
    "        axd['c'].imshow(tmp_zoom, cmap='Greys')\n",
    "        if not l:\n",
    "            l, = ax[i].plot(zooms[:len(maxes)], maxes)\n",
    "        else:\n",
    "            l.set_data(zooms[:len(maxes)], maxes)\n",
    "            ax[i].set_xlim(.9 * min(zooms[:len(maxes)]), max(zooms[:len(maxes)]) * 1.1)\n",
    "            ax[i].set_ylim(.9 * min(maxes), max(maxes) * 1.1)\n",
    "\n",
    "        # Generally, a match has been found when the scale reaches its first maximum.\n",
    "        # It will then increase again without bound, so select the first max only.\n",
    "        if (len(maxes) > 2) and (maxes[-1] < maxes[-2]):\n",
    "            print(f'{loc} target is at {(x, y)} in image')\n",
    "            axd['a'].add_patch(Rectangle((x, y), tmp_zoom.shape[0], tmp_zoom.shape[1], fill = False, color='red'))\n",
    "            axd['a'].scatter(x,y)\n",
    "            axd['a'].annotate(f'{loc}, zoom={zoom:.2f}', (x,y))\n",
    "            break\n",
    "        \n",
    "        f0.canvas.draw_idle()\n",
    "        f1.canvas.draw_idle()\n",
    "        plt.pause(0.001)\n",
    "\n"
   ]
  }
 ],
 "metadata": {
  "interpreter": {
   "hash": "2c78355426ab29dd466d6c9fb37ae1bcdf5ce1e23673f940012e871d663c0200"
  },
  "kernelspec": {
   "display_name": "Python 3.6.15 64-bit ('hotspot': conda)",
   "language": "python",
   "name": "python3"
  },
  "language_info": {
   "codemirror_mode": {
    "name": "ipython",
    "version": 3
   },
   "file_extension": ".py",
   "mimetype": "text/x-python",
   "name": "python",
   "nbconvert_exporter": "python",
   "pygments_lexer": "ipython3",
   "version": "3.9.6"
  },
  "orig_nbformat": 4
 },
 "nbformat": 4,
 "nbformat_minor": 2
}
