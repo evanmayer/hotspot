{
 "cells": [
  {
   "cell_type": "code",
   "execution_count": 55,
   "metadata": {},
   "outputs": [
    {
     "name": "stdout",
     "output_type": "stream",
     "text": [
      "Using matplotlib backend: Qt5Agg\n"
     ]
    }
   ],
   "source": [
    "import cv2\n",
    "import matplotlib.pyplot as plt\n",
    "from matplotlib import image\n",
    "from matplotlib.patches import Circle, Rectangle\n",
    "import numpy as np\n",
    "import os\n",
    "import re\n",
    "from scipy import spatial\n",
    "from scipy import signal\n",
    "from scipy import ndimage\n",
    "from scipy import optimize\n",
    "\n",
    "%matplotlib"
   ]
  },
  {
   "cell_type": "markdown",
   "metadata": {},
   "source": [
    "## Creating Photogrammetry Targets"
   ]
  },
  {
   "cell_type": "code",
   "execution_count": 56,
   "metadata": {},
   "outputs": [],
   "source": [
    "def gen_template(w: float, h: float, dpi: int, loc: str, plot=False):\n",
    "    '''\n",
    "    Generate an image of a photogrammetry target.\n",
    "\n",
    "    Parameters\n",
    "    ----------\n",
    "    w\n",
    "        total image width, m\n",
    "    h\n",
    "        total image height, m\n",
    "    dpi\n",
    "        output image dpi, converts between matrix coordinates and real width\n",
    "    loc\n",
    "        [SW, NW, SE, NE, raft] generates a different pattern for each loc\n",
    "    '''\n",
    "    np.random.seed(77777) # generate same noise pattern every time\n",
    "\n",
    "    IN_TO_METERS = 0.0254\n",
    "    w_in = w / IN_TO_METERS\n",
    "    h_in = h / IN_TO_METERS\n",
    "    w_px = np.round(w_in * dpi).astype(int)\n",
    "    h_px = np.round(h_in * dpi).astype(int)\n",
    "\n",
    "    fig, ax = plt.subplots()\n",
    "    fig.set_size_inches(w_in, h_in)\n",
    "    fig.tight_layout()\n",
    "    fig.subplots_adjust(left=0., right=1., top=1., bottom=0.)\n",
    "    ax.scatter([0, 0, w_px, w_px], [0, h_px, 0, h_px], color='k')\n",
    "\n",
    "    # black background\n",
    "    # ax.add_patch(Rectangle((0, 0), w_px, h_px, color='k'))\n",
    "    pattern_size = 8\n",
    "    pattern = np.random.random((pattern_size,pattern_size)) * 0.5 + .5\n",
    "    pattern[0][0] = 0\n",
    "    pattern[pattern_size - 1][pattern_size - 1] = 1\n",
    "    ax.imshow(ndimage.zoom(pattern, h_px / pattern_size, order=0), cmap='Greys')\n",
    "\n",
    "    # center cross\n",
    "    c_size = dpi * 0.01 / IN_TO_METERS # 10 cm\n",
    "    c_thick = dpi * 0.001 / IN_TO_METERS # 1 mm\n",
    "    ax.add_patch(Rectangle((w_px / 2 - c_size / 2, h_px / 2 - c_thick / 2), c_size, c_thick, color='w')) # horz\n",
    "    ax.add_patch(Rectangle((w_px / 2 - c_thick / 2, h_px / 2 - c_size / 2), c_thick, c_size, color='w')) # vert\n",
    "\n",
    "    circ_diam = c_size\n",
    "    if loc == 'SW':\n",
    "        locs = (\n",
    "            (circ_diam / 2, 0),\n",
    "            (w_px / 4, h_px / 4),\n",
    "        )\n",
    "    elif loc == 'NW':\n",
    "        locs = (\n",
    "            (circ_diam / 2, 0),\n",
    "            (w_px / 4 + circ_diam / 2, 0),\n",
    "            (w_px / 4, 3 * h_px / 4),\n",
    "        )\n",
    "    elif loc == 'NE':\n",
    "        locs = (\n",
    "            (circ_diam / 2, 0),\n",
    "            (w_px / 4 + circ_diam / 2, 0),\n",
    "            (2 * w_px / 4 + circ_diam / 2, 0),\n",
    "            (3 * w_px / 4, 3 * h_px / 4),\n",
    "        )\n",
    "    elif loc == 'SE':\n",
    "        locs = (\n",
    "            (circ_diam / 2, 0),\n",
    "            (w_px / 4 + circ_diam / 2, 0),\n",
    "            (2 * w_px / 4 + circ_diam / 2, 0),\n",
    "            (3 * w_px / 4 + circ_diam / 2, 0),\n",
    "            (3 * w_px / 4, h_px / 4),\n",
    "        )\n",
    "    elif loc == 'raft':\n",
    "        locs = (\n",
    "            (w_px / 4, h_px / 4),\n",
    "            (w_px / 4, 3 * h_px / 4),\n",
    "            (3 * w_px / 4, 3 * h_px / 4),\n",
    "            (3 * w_px / 4, h_px / 4),\n",
    "        )\n",
    "    else:\n",
    "        raise ValueError(f'loc {loc} is not an option')\n",
    "\n",
    "    for elem in locs:\n",
    "        ax.add_patch(Circle(elem, circ_diam / 2, color='w', zorder=1))\n",
    "\n",
    "    ax.set_aspect('equal')\n",
    "    ax.set_xlim([0, w_px])\n",
    "    ax.set_ylim([0, h_px])\n",
    "    ax.set_xticks([])\n",
    "    ax.set_yticks([])\n",
    "    fig.savefig(f'{loc}_target.png')\n",
    "    if not plot:\n",
    "        plt.close()"
   ]
  },
  {
   "cell_type": "code",
   "execution_count": 57,
   "metadata": {},
   "outputs": [],
   "source": [
    "gen_locs = ['SW', 'NW', 'NE', 'SE', 'raft']\n",
    "TARGET_W = 0.04 # 40 mm\n",
    "TARGET_H = TARGET_W\n",
    "# for loc in locs:\n",
    "    # gen_template(TARGET_W, TARGET_H, 300, loc, plot=False)"
   ]
  }
 ],
 "metadata": {
  "interpreter": {
   "hash": "2c78355426ab29dd466d6c9fb37ae1bcdf5ce1e23673f940012e871d663c0200"
  },
  "kernelspec": {
   "display_name": "Python 3.6.15 64-bit ('hotspot': conda)",
   "language": "python",
   "name": "python3"
  },
  "language_info": {
   "codemirror_mode": {
    "name": "ipython",
    "version": 3
   },
   "file_extension": ".py",
   "mimetype": "text/x-python",
   "name": "python",
   "nbconvert_exporter": "python",
   "pygments_lexer": "ipython3",
   "version": "3.9.6"
  },
  "orig_nbformat": 4
 },
 "nbformat": 4,
 "nbformat_minor": 2
}
