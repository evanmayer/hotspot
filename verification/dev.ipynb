{
 "cells": [
  {
   "cell_type": "code",
   "execution_count": null,
   "metadata": {},
   "outputs": [],
   "source": [
    "import cv2\n",
    "import glob\n",
    "import matplotlib.pyplot as plt\n",
    "import numpy as np\n",
    "import os\n",
    "import pickle\n",
    "import photogrammetry as pg\n",
    "\n",
    "# plt.style.use('seaborn-poster')\n",
    "plt.style.use('default')\n",
    "\n",
    "%load_ext autoreload\n",
    "%autoreload 2\n",
    "%matplotlib widget"
   ]
  },
  {
   "cell_type": "code",
   "execution_count": null,
   "metadata": {},
   "outputs": [],
   "source": [
    "# in case a new board type is needed\n",
    "# pg.generate_charuco_board(pg.BOARD_SQUARE_SIZE, pg.BOARD_ARUCO_SIZE, aruco_dict=cv2.aruco.DICT_4X4_1000, gen_png=True)"
   ]
  },
  {
   "cell_type": "code",
   "execution_count": null,
   "metadata": {},
   "outputs": [],
   "source": [
    "# check for pickled camera matrices to avoid expensive recalibration\n",
    "cal_path = os.path.join(os.path.expanduser('~'), 'tmp', 'calib')\n",
    "\n",
    "extensions = ['.jpeg', '.jpg', '.JPG', '.tiff', '.TIFF']\n",
    "files = []\n",
    "for ext in extensions:\n",
    "    files += sorted(glob.glob(os.path.join(cal_path, '**' + ext)))\n",
    "assert files, 'No image files found when searching for images for camera calibration.'\n",
    "\n",
    "if not (\n",
    "    os.path.exists(os.path.join(cal_path, 'camera_cal_mtx.pickle')) and\n",
    "    os.path.exists(os.path.join(cal_path, 'camera_cal_dist.pickle')) and\n",
    "    os.path.exists(os.path.join(cal_path, 'camera_cal_optimal_camera_matrix.pickle'))\n",
    "):\n",
    "    # calibrate the camera for distortion\n",
    "    mtx, dist, optimal_camera_matrix, roi = pg.calibrate_camera(\n",
    "        files,\n",
    "        square_size=pg.BOARD_SQUARE_SIZE,\n",
    "        aruco_size=pg.BOARD_ARUCO_SIZE,\n",
    "        plot=False\n",
    "    )\n",
    "\n",
    "    with open(os.path.join(cal_path, 'camera_cal_mtx.pickle'), 'wb') as f:\n",
    "        pickle.dump(mtx, f, protocol=pickle.HIGHEST_PROTOCOL)\n",
    "    with open(os.path.join(cal_path, 'camera_cal_dist.pickle'), 'wb') as f:\n",
    "        pickle.dump(dist, f, protocol=pickle.HIGHEST_PROTOCOL)\n",
    "    with open(os.path.join(cal_path, 'camera_cal_optimal_camera_matrix.pickle'), 'wb') as f:\n",
    "        pickle.dump(optimal_camera_matrix, f, protocol=pickle.HIGHEST_PROTOCOL)\n",
    "else:\n",
    "    with open(os.path.join(cal_path, 'camera_cal_mtx.pickle'), 'rb') as f:\n",
    "        mtx = pickle.load(f)\n",
    "    with open(os.path.join(cal_path, 'camera_cal_dist.pickle'), 'rb') as f:\n",
    "        dist = pickle.load(f)\n",
    "    with open(os.path.join(cal_path, 'camera_cal_optimal_camera_matrix.pickle'), 'rb') as f:\n",
    "        optimal_camera_matrix = pickle.load(f)\n",
    "print(mtx)\n",
    "print(dist)\n",
    "print(optimal_camera_matrix)"
   ]
  },
  {
   "cell_type": "code",
   "execution_count": null,
   "metadata": {},
   "outputs": [],
   "source": [
    "meas_path = os.path.join(os.path.expanduser('~'), 'tmp', 'meas')\n",
    "files = []\n",
    "for ext in extensions:\n",
    "    files += sorted(glob.glob(os.path.join(meas_path, '**' + ext)))\n",
    "assert files, 'No image files found when searching for images for camera calibration.'"
   ]
  },
  {
   "cell_type": "code",
   "execution_count": null,
   "metadata": {},
   "outputs": [],
   "source": [
    "# use camera cal matrix to de-distort a few images to check\n",
    "for file in files[:3]:\n",
    "    fig, ax = plt.subplots()\n",
    "    ax.imshow(pg.load_to_gray(file, optimal_camera_matrix, dist), cmap='bone')"
   ]
  },
  {
   "cell_type": "code",
   "execution_count": null,
   "metadata": {},
   "outputs": [],
   "source": [
    "%autoreload\n",
    "\n",
    "img_data = pg.measure_images(files, optimal_camera_matrix, dist, aruco_ids=[46], plot=False)"
   ]
  },
  {
   "cell_type": "code",
   "execution_count": null,
   "metadata": {},
   "outputs": [],
   "source": [
    "fig, ax = plt.subplots(subplot_kw={'projection':'3d'})\n",
    "\n",
    "for file, entities in img_data.items():\n",
    "    for id, pose in entities.items():\n",
    "        for key, val in pose.items():\n",
    "            print(file, id, key, val)\n",
    "            if key == 'tvec':\n",
    "                ax.scatter(val[0], val[1], val[2], label=id)\n",
    "ax.legend()\n",
    "ax.set_box_aspect([1,1,1])\n",
    "ax.set_xlim(-.2,.2)\n",
    "ax.set_ylim(-.2,.2)\n",
    "ax.set_zlim(-.2,.2)"
   ]
  },
  {
   "cell_type": "code",
   "execution_count": null,
   "metadata": {},
   "outputs": [],
   "source": [
    "for file in files:\n",
    "    if file in img_data.keys():\n",
    "        theta = pg.estimate_angular_offset(img_data, file, 'board', 46)\n",
    "        print(np.rad2deg(theta))"
   ]
  },
  {
   "cell_type": "code",
   "execution_count": null,
   "metadata": {},
   "outputs": [],
   "source": [
    "%autoreload\n",
    "\n",
    "commanded_pts, actual_points, residuals = pg.post_process_scan(\n",
    "    img_data,\n",
    "    '/home/evanmayer/tmp/calib/',\n",
    "    os.path.join('..', 'data', 'input', 'profiles', '24in_breadboard_raster_skipline_10x10_0.30mx0.30m.csv'),\n",
    "    raft_id=46\n",
    ")"
   ]
  },
  {
   "cell_type": "code",
   "execution_count": null,
   "metadata": {},
   "outputs": [],
   "source": []
  },
  {
   "cell_type": "code",
   "execution_count": null,
   "metadata": {},
   "outputs": [],
   "source": []
  },
  {
   "cell_type": "code",
   "execution_count": null,
   "metadata": {},
   "outputs": [],
   "source": []
  }
 ],
 "metadata": {
  "kernelspec": {
   "display_name": "Python 3 (ipykernel)",
   "language": "python",
   "name": "python3"
  },
  "language_info": {
   "codemirror_mode": {
    "name": "ipython",
    "version": 3
   },
   "file_extension": ".py",
   "mimetype": "text/x-python",
   "name": "python",
   "nbconvert_exporter": "python",
   "pygments_lexer": "ipython3",
   "version": "3.9.6"
  },
  "vscode": {
   "interpreter": {
    "hash": "6750627cd874d0c95877acff9acc62195d6a8718424fed6513219ae2f64cd542"
   }
  }
 },
 "nbformat": 4,
 "nbformat_minor": 2
}
