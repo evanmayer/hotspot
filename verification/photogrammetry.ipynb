{
 "cells": [
  {
   "cell_type": "code",
   "execution_count": 13,
   "metadata": {},
   "outputs": [],
   "source": [
    "import importlib\n",
    "import matplotlib.pyplot as plt\n",
    "import os\n",
    "import pickle\n",
    "import photogrammetry as pg\n",
    "\n",
    "plt.style.use('seaborn-poster')\n",
    "\n",
    "%matplotlib qt"
   ]
  },
  {
   "cell_type": "code",
   "execution_count": 25,
   "metadata": {},
   "outputs": [
    {
     "data": {
      "text/plain": [
       "<module 'photogrammetry' from '/home/evanmayer/github/hotspot/verification/photogrammetry.py'>"
      ]
     },
     "execution_count": 25,
     "metadata": {},
     "output_type": "execute_result"
    }
   ],
   "source": [
    "importlib.reload(pg)"
   ]
  },
  {
   "cell_type": "code",
   "execution_count": 3,
   "metadata": {},
   "outputs": [],
   "source": [
    "# check for pickled camera matrices to avoid expensive recalibration\n",
    "if not (\n",
    "    os.path.exists('camera_cal_mtx.pickle') and\n",
    "    os.path.exists('camera_cal_dist.pickle') and\n",
    "    os.path.exists('camera_cal_optimal_camera_matrix.pickle')\n",
    "):\n",
    "    # calibrate the camera for distortion\n",
    "    mtx, dist, optimal_camera_matrix, roi = pg.calibrate_camera(\n",
    "        os.path.join('input', 'camera_cal'),\n",
    "        plot=False\n",
    "    )\n",
    "    with open('camera_cal_mtx.pickle', 'wb') as f:\n",
    "        pickle.dump(mtx, f, protocol=pickle.HIGHEST_PROTOCOL)\n",
    "    with open('camera_cal_dist.pickle', 'wb') as f:\n",
    "        pickle.dump(dist, f, protocol=pickle.HIGHEST_PROTOCOL)\n",
    "    with open('camera_cal_optimal_camera_matrix.pickle', 'wb') as f:\n",
    "        pickle.dump(optimal_camera_matrix, f, protocol=pickle.HIGHEST_PROTOCOL)\n",
    "else:\n",
    "    with open('camera_cal_mtx.pickle', 'rb') as f:\n",
    "        mtx = pickle.load(f)\n",
    "    with open('camera_cal_dist.pickle', 'rb') as f:\n",
    "        dist = pickle.load(f)\n",
    "    with open('camera_cal_optimal_camera_matrix.pickle', 'rb') as f:\n",
    "        optimal_camera_matrix = pickle.load(f)"
   ]
  },
  {
   "cell_type": "code",
   "execution_count": 4,
   "metadata": {},
   "outputs": [
    {
     "name": "stderr",
     "output_type": "stream",
     "text": [
      "INFO:photogrammetry:Corner detection after de-distortion in input/meas/try1/IMG_7525.JPG: True\n",
      "INFO:photogrammetry:Corner detection after de-distortion in input/meas/try1/IMG_7526.JPG: True\n",
      "INFO:photogrammetry:Corner detection after de-distortion in input/meas/try1/IMG_7528.JPG: True\n",
      "INFO:photogrammetry:Corner detection after de-distortion in input/meas/try1/IMG_7522.JPG: True\n",
      "INFO:photogrammetry:Corner detection after de-distortion in input/meas/try1/IMG_7527.JPG: True\n",
      "INFO:photogrammetry:Corner detection after de-distortion in input/meas/try1/IMG_7521.JPG: True\n",
      "INFO:photogrammetry:Corner detection after de-distortion in input/meas/try1/IMG_7524.JPG: True\n",
      "INFO:photogrammetry:Corner detection after de-distortion in input/meas/try1/IMG_7523.JPG: True\n",
      "INFO:photogrammetry:Corner detection after de-distortion in input/meas/try1/IMG_7529.JPG: True\n",
      "INFO:photogrammetry:Corner detection after de-distortion in input/meas/try1/IMG_7531.JPG: True\n",
      "INFO:photogrammetry:Corner detection after de-distortion in input/meas/try1/IMG_7530.JPG: True\n",
      "INFO:photogrammetry:Corner detection after de-distortion in input/meas/try1/IMG_7532.JPG: True\n",
      "INFO:photogrammetry:Corner detection after de-distortion in input/meas/try1/IMG_7533.JPG: True\n",
      "INFO:photogrammetry:Corner detection after de-distortion in input/meas/try1/IMG_7534.JPG: True\n",
      "INFO:photogrammetry:Corner detection after de-distortion in input/meas/try1/IMG_7535.JPG: True\n",
      "INFO:photogrammetry:Corner detection after de-distortion in input/meas/try1/IMG_7536.JPG: True\n",
      "INFO:photogrammetry:Corner detection after de-distortion in input/meas/try1/IMG_7537.JPG: True\n",
      "INFO:photogrammetry:Corner detection after de-distortion in input/meas/try1/IMG_7538.JPG: True\n",
      "INFO:photogrammetry:Corner detection after de-distortion in input/meas/try1/IMG_7539.JPG: True\n",
      "INFO:photogrammetry:Corner detection after de-distortion in input/meas/try1/IMG_7540.JPG: True\n",
      "INFO:photogrammetry:Corner detection after de-distortion in input/meas/try1/IMG_7541.JPG: True\n",
      "INFO:photogrammetry:Corner detection after de-distortion in input/meas/try1/IMG_7542.JPG: True\n",
      "INFO:photogrammetry:Corner detection after de-distortion in input/meas/try1/IMG_7544.JPG: True\n",
      "INFO:photogrammetry:Corner detection after de-distortion in input/meas/try1/IMG_7543.JPG: True\n",
      "INFO:photogrammetry:Corner detection after de-distortion in input/meas/try1/IMG_7545.JPG: True\n",
      "INFO:photogrammetry:Corner detection after de-distortion in input/meas/try1/IMG_7547.JPG: True\n",
      "INFO:photogrammetry:Corner detection after de-distortion in input/meas/try1/IMG_7546.JPG: True\n",
      "INFO:photogrammetry:Corner detection after de-distortion in input/meas/try1/IMG_7548.JPG: True\n",
      "INFO:photogrammetry:Corner detection after de-distortion in input/meas/try1/IMG_7549.JPG: True\n",
      "INFO:photogrammetry:Corner detection after de-distortion in input/meas/try1/IMG_7550.JPG: True\n",
      "INFO:photogrammetry:Corner detection after de-distortion in input/meas/try1/IMG_7552.JPG: True\n",
      "INFO:photogrammetry:Corner detection after de-distortion in input/meas/try1/IMG_7551.JPG: True\n",
      "INFO:photogrammetry:Corner detection after de-distortion in input/meas/try1/IMG_7553.JPG: True\n",
      "INFO:photogrammetry:Corner detection after de-distortion in input/meas/try1/IMG_7555.JPG: True\n",
      "INFO:photogrammetry:Corner detection after de-distortion in input/meas/try1/IMG_7554.JPG: True\n",
      "INFO:photogrammetry:Corner detection after de-distortion in input/meas/try1/IMG_7556.JPG: True\n",
      "INFO:photogrammetry:Corner detection after de-distortion in input/meas/try1/IMG_7557.JPG: True\n",
      "INFO:photogrammetry:Corner detection after de-distortion in input/meas/try1/IMG_7558.JPG: True\n",
      "INFO:photogrammetry:Corner detection after de-distortion in input/meas/try1/IMG_7559.JPG: True\n",
      "INFO:photogrammetry:Corner detection after de-distortion in input/meas/try1/IMG_7560.JPG: True\n",
      "INFO:photogrammetry:Corner detection after de-distortion in input/meas/try1/IMG_7561.JPG: True\n",
      "INFO:photogrammetry:Corner detection after de-distortion in input/meas/try1/IMG_7562.JPG: True\n",
      "INFO:photogrammetry:Corner detection after de-distortion in input/meas/try1/IMG_7563.JPG: True\n",
      "INFO:photogrammetry:Corner detection after de-distortion in input/meas/try1/IMG_7564.JPG: True\n",
      "INFO:photogrammetry:Corner detection after de-distortion in input/meas/try1/IMG_7565.JPG: True\n",
      "INFO:photogrammetry:Corner detection after de-distortion in input/meas/try1/IMG_7567.JPG: True\n",
      "INFO:photogrammetry:Corner detection after de-distortion in input/meas/try1/IMG_7566.JPG: True\n",
      "INFO:photogrammetry:Corner detection after de-distortion in input/meas/try1/IMG_7568.JPG: True\n",
      "INFO:photogrammetry:Corner detection after de-distortion in input/meas/try1/IMG_7569.JPG: True\n",
      "INFO:photogrammetry:Corner detection after de-distortion in input/meas/try1/IMG_7570.JPG: True\n",
      "INFO:photogrammetry:Corner detection after de-distortion in input/meas/try1/IMG_7571.JPG: True\n",
      "INFO:photogrammetry:Corner detection after de-distortion in input/meas/try1/IMG_7572.JPG: True\n",
      "INFO:photogrammetry:Corner detection after de-distortion in input/meas/try1/IMG_7573.JPG: True\n",
      "INFO:photogrammetry:Corner detection after de-distortion in input/meas/try1/IMG_7574.JPG: True\n",
      "INFO:photogrammetry:Corner detection after de-distortion in input/meas/try1/IMG_7575.JPG: True\n",
      "INFO:photogrammetry:Corner detection after de-distortion in input/meas/try1/IMG_7576.JPG: True\n",
      "INFO:photogrammetry:Corner detection after de-distortion in input/meas/try1/IMG_7577.JPG: True\n",
      "INFO:photogrammetry:Corner detection after de-distortion in input/meas/try1/IMG_7578.JPG: True\n",
      "INFO:photogrammetry:Corner detection after de-distortion in input/meas/try1/IMG_7579.JPG: True\n",
      "INFO:photogrammetry:Corner detection after de-distortion in input/meas/try1/IMG_7580.JPG: True\n",
      "INFO:photogrammetry:Corner detection after de-distortion in input/meas/try1/IMG_7581.JPG: True\n",
      "INFO:photogrammetry:Corner detection after de-distortion in input/meas/try1/IMG_7582.JPG: True\n",
      "INFO:photogrammetry:Corner detection after de-distortion in input/meas/try1/IMG_7583.JPG: True\n",
      "INFO:photogrammetry:Corner detection after de-distortion in input/meas/try1/IMG_7584.JPG: True\n",
      "INFO:photogrammetry:Corner detection after de-distortion in input/meas/try1/IMG_7585.JPG: True\n",
      "INFO:photogrammetry:Corner detection after de-distortion in input/meas/try1/IMG_7587.JPG: True\n",
      "INFO:photogrammetry:Corner detection after de-distortion in input/meas/try1/IMG_7586.JPG: True\n",
      "INFO:photogrammetry:Corner detection after de-distortion in input/meas/try1/IMG_7588.JPG: True\n",
      "INFO:photogrammetry:Corner detection after de-distortion in input/meas/try1/IMG_7589.JPG: True\n",
      "INFO:photogrammetry:Corner detection after de-distortion in input/meas/try1/IMG_7590.JPG: True\n",
      "INFO:photogrammetry:Corner detection after de-distortion in input/meas/try1/IMG_7591.JPG: True\n",
      "INFO:photogrammetry:Corner detection after de-distortion in input/meas/try1/IMG_7592.JPG: True\n",
      "INFO:photogrammetry:Corner detection after de-distortion in input/meas/try1/IMG_7593.JPG: True\n",
      "INFO:photogrammetry:Corner detection after de-distortion in input/meas/try1/IMG_7594.JPG: True\n",
      "INFO:photogrammetry:Corner detection after de-distortion in input/meas/try1/IMG_7595.JPG: True\n",
      "INFO:photogrammetry:Corner detection after de-distortion in input/meas/try1/IMG_7596.JPG: True\n",
      "INFO:photogrammetry:Corner detection after de-distortion in input/meas/try1/IMG_7597.JPG: True\n",
      "INFO:photogrammetry:Corner detection after de-distortion in input/meas/try1/IMG_7598.JPG: True\n",
      "INFO:photogrammetry:Corner detection after de-distortion in input/meas/try1/IMG_7600.JPG: True\n",
      "INFO:photogrammetry:Corner detection after de-distortion in input/meas/try1/IMG_7599.JPG: True\n",
      "INFO:photogrammetry:Corner detection after de-distortion in input/meas/try1/IMG_7601.JPG: True\n"
     ]
    }
   ],
   "source": [
    "image_data = pg.find_targets(\n",
    "    os.path.join('input', 'meas', 'try0'),\n",
    "    os.path.join('input', 'targets'),\n",
    "    mtx,\n",
    "    dist,\n",
    "    optimal_camera_matrix,\n",
    "    plot=False\n",
    ")"
   ]
  },
  {
   "cell_type": "code",
   "execution_count": 26,
   "metadata": {},
   "outputs": [],
   "source": [
    "plt.close('all')"
   ]
  },
  {
   "cell_type": "code",
   "execution_count": 27,
   "metadata": {},
   "outputs": [],
   "source": [
    "command_file = os.path.join('..', 'data', 'input', 'profiles', '24in_breadboard_raster_9x9_.2x.2.csv')\n",
    "pg.post_process_many_to_many(image_data, command_file)"
   ]
  },
  {
   "cell_type": "code",
   "execution_count": null,
   "metadata": {},
   "outputs": [],
   "source": []
  }
 ],
 "metadata": {
  "interpreter": {
   "hash": "3f7d6449d6e38d9464716f7867ca49d547230cad11817e08e660ed63d0553b3c"
  },
  "kernelspec": {
   "display_name": "Python 3.9.6 ('astr')",
   "language": "python",
   "name": "python3"
  },
  "language_info": {
   "codemirror_mode": {
    "name": "ipython",
    "version": 3
   },
   "file_extension": ".py",
   "mimetype": "text/x-python",
   "name": "python",
   "nbconvert_exporter": "python",
   "pygments_lexer": "ipython3",
   "version": "3.9.6"
  },
  "orig_nbformat": 4
 },
 "nbformat": 4,
 "nbformat_minor": 2
}
