{
 "cells": [
  {
   "cell_type": "code",
   "execution_count": null,
   "metadata": {},
   "outputs": [],
   "source": [
    "import cv2\n",
    "import glob\n",
    "import matplotlib.pyplot as plt\n",
    "import numpy as np\n",
    "import os\n",
    "import pickle\n",
    "import photogrammetry as pg\n",
    "\n",
    "# %matplotlib qt\n",
    "\n",
    "plt.style.use('default')\n",
    "\n",
    "%load_ext autoreload\n",
    "%autoreload 2"
   ]
  },
  {
   "cell_type": "code",
   "execution_count": null,
   "metadata": {},
   "outputs": [],
   "source": [
    "# in case a new board type is needed\n",
    "# pg.generate_charuco_board(pg.BOARD_SQUARE_SIZE, pg.BOARD_ARUCO_SIZE, aruco_dict=cv2.aruco.DICT_4X4_1000, gen_png=True)"
   ]
  },
  {
   "cell_type": "code",
   "execution_count": null,
   "metadata": {
    "scrolled": true
   },
   "outputs": [],
   "source": [
    "%autoreload 2\n",
    "# check for pickled camera matrices to avoid expensive recalibration\n",
    "run = '20230616_0'\n",
    "cal_path = f'/home/evanmayer/TIME_data/mirror_mapping/testing/{run}/calibration/06182023_1'\n",
    "\n",
    "extensions = ['.jpeg', '.jpg', '.JPG', '.PNG']#, '.tiff', '.TIFF']\n",
    "files = []\n",
    "for ext in extensions:\n",
    "    files += sorted(glob.glob(os.path.join(cal_path, '**' + ext), recursive=False))\n",
    "assert files, 'No image files found when searching for images for camera calibration.'\n",
    "\n",
    "if not (\n",
    "    os.path.exists(os.path.join(cal_path, 'camera_cal_mtx.pickle')) and\n",
    "    os.path.exists(os.path.join(cal_path, 'camera_cal_dist.pickle')) and\n",
    "    os.path.exists(os.path.join(cal_path, 'camera_cal_optimal_camera_matrix.pickle'))\n",
    "):\n",
    "    # calibrate the camera for distortion\n",
    "    mtx, dist, optimal_camera_matrix, roi = pg.calibrate_camera(\n",
    "        files,\n",
    "        square_size=pg.BOARD_SQUARE_SIZE,\n",
    "        aruco_size=pg.BOARD_ARUCO_SIZE,\n",
    "        guess_intrinsics=True,\n",
    "        plot=False\n",
    "    )\n",
    "\n",
    "    with open(os.path.join(cal_path, 'camera_cal_mtx.pickle'), 'wb') as f:\n",
    "        pickle.dump(mtx, f, protocol=pickle.HIGHEST_PROTOCOL)\n",
    "    with open(os.path.join(cal_path, 'camera_cal_dist.pickle'), 'wb') as f:\n",
    "        pickle.dump(dist, f, protocol=pickle.HIGHEST_PROTOCOL)\n",
    "    with open(os.path.join(cal_path, 'camera_cal_optimal_camera_matrix.pickle'), 'wb') as f:\n",
    "        pickle.dump(optimal_camera_matrix, f, protocol=pickle.HIGHEST_PROTOCOL)\n",
    "else:\n",
    "    with open(os.path.join(cal_path, 'camera_cal_mtx.pickle'), 'rb') as f:\n",
    "        mtx = pickle.load(f)\n",
    "    with open(os.path.join(cal_path, 'camera_cal_dist.pickle'), 'rb') as f:\n",
    "        dist = pickle.load(f)\n",
    "    with open(os.path.join(cal_path, 'camera_cal_optimal_camera_matrix.pickle'), 'rb') as f:\n",
    "        optimal_camera_matrix = pickle.load(f)\n",
    "print(mtx)\n",
    "print(dist)\n",
    "print(optimal_camera_matrix)\n",
    "print(cv2.calibrationMatrixValues(mtx, (4032, 3024), 1.7e-6 * 4032, 1.7e-6 * 3024))"
   ]
  },
  {
   "attachments": {},
   "cell_type": "markdown",
   "metadata": {},
   "source": [
    "`sort_images_exif ./ ./`"
   ]
  },
  {
   "cell_type": "code",
   "execution_count": null,
   "metadata": {},
   "outputs": [],
   "source": [
    "meas_path = f'/home/evanmayer/TIME_data/mirror_mapping/testing/{run}/measurement/'\n",
    "files = []\n",
    "for ext in extensions:\n",
    "    files += sorted(glob.glob(os.path.join(meas_path, '**' + ext)))\n",
    "assert files, 'No image files found when searching for images for measurement.'"
   ]
  },
  {
   "cell_type": "code",
   "execution_count": null,
   "metadata": {
    "scrolled": true
   },
   "outputs": [],
   "source": [
    "# use camera cal matrix to de-distort a few images to check\n",
    "for file in files[:2]:\n",
    "    fig, ax = plt.subplots()\n",
    "    ax.imshow(pg.load_to_gray(file, mtx, dist), cmap='bone')"
   ]
  },
  {
   "cell_type": "code",
   "execution_count": null,
   "metadata": {},
   "outputs": [],
   "source": [
    "origin_id = 48\n",
    "raft_id = 50"
   ]
  },
  {
   "cell_type": "code",
   "execution_count": null,
   "metadata": {
    "scrolled": true
   },
   "outputs": [],
   "source": [
    "img_data = pg.measure_images(files, mtx, dist, aruco_ids=[origin_id, raft_id], plot=False)"
   ]
  },
  {
   "cell_type": "code",
   "execution_count": null,
   "metadata": {
    "scrolled": true
   },
   "outputs": [],
   "source": [
    "fig, ax = plt.subplots(figsize=(12,5), subplot_kw={'projection':'3d'})\n",
    "ax.view_init(elev=0, azim=-90, roll=0)\n",
    "\n",
    "for file, entities in img_data.items():\n",
    "    for id, pose in entities.items():\n",
    "        for key, val in pose.items():\n",
    "            print(os.path.basename(file), id, key, val)\n",
    "            if key == 'tvec':\n",
    "                if id == raft_id:\n",
    "                    color = 'k'\n",
    "                elif id == origin_id:\n",
    "                    color = 'b'\n",
    "                elif id == 'board':\n",
    "                    color = 'r'\n",
    "                else:\n",
    "                    continue\n",
    "                ax.scatter(\n",
    "                    val[0],\n",
    "                    val[1],\n",
    "                    val[2],\n",
    "                    color=color,\n",
    "                    # label=id,\n",
    "                    alpha=0.7\n",
    "                )\n",
    "# ax.legend()\n",
    "ax.set_box_aspect([1,1,1])\n",
    "origin = np.array([-0.10, -0.00, 0.0])\n",
    "sz = .3\n",
    "ax.set_xlim(-sz + origin[0], sz + origin[0])\n",
    "ax.set_ylim(-sz + origin[1], sz + origin[1])\n",
    "ax.set_zlim(-sz + origin[2], sz + origin[2]);"
   ]
  },
  {
   "cell_type": "code",
   "execution_count": null,
   "metadata": {},
   "outputs": [],
   "source": [
    "fig, ax = plt.subplots()\n",
    "origin_zs = []\n",
    "raft_zs = []\n",
    "for file, entities in img_data.items():\n",
    "    for id, pose in entities.items():\n",
    "        for key, val in pose.items():\n",
    "            if key == 'tvec':\n",
    "                if id == origin_id:\n",
    "                    origin_zs.append(val[2])\n",
    "                elif id == raft_id:\n",
    "                    raft_zs.append(val[2])\n",
    "                else:\n",
    "                    continue\n",
    "origin_zs = np.array(origin_zs)\n",
    "raft_zs = np.array(raft_zs)\n",
    "inliers = np.where(np.abs(origin_zs - np.nanmean(origin_zs)) <= np.nanmean(origin_zs) + 5. * np.nanstd(origin_zs))[0]\n",
    "ax.plot(range(len(origin_zs[inliers])), origin_zs[inliers]*1e3, marker='o', linestyle='none')\n",
    "ax.plot(range(len(raft_zs[inliers])), raft_zs[inliers]*1e3, marker='o', linestyle='none')\n",
    "print('origin std', np.nanstd(origin_zs[inliers]))\n",
    "print('raft std', np.nanstd(raft_zs[inliers]))\n",
    "ax.set_xlabel('Scan Number')\n",
    "ax.set_ylabel('z-position in board frame (mm)')\n",
    "print(raft_zs[inliers])"
   ]
  },
  {
   "cell_type": "code",
   "execution_count": null,
   "metadata": {},
   "outputs": [],
   "source": [
    "thetas = []\n",
    "for file in files:\n",
    "    if file in img_data.keys():\n",
    "        try:\n",
    "            theta = pg.estimate_angular_offset(img_data, file, 'board', raft_id)\n",
    "            thetas.append(theta)\n",
    "        except:\n",
    "            pass\n",
    "thetas = np.array(thetas)\n",
    "\n",
    "fig, ax = plt.subplots()\n",
    "ax.hist(thetas, bins=50);"
   ]
  },
  {
   "cell_type": "code",
   "execution_count": null,
   "metadata": {},
   "outputs": [],
   "source": [
    "%autoreload\n",
    "\n",
    "commanded_pts, actual_points, residuals = pg.post_process_scan(\n",
    "    img_data,\n",
    "    f'/home/evanmayer/TIME_data/mirror_mapping/testing/{run}/results/',\n",
    "    os.path.join('..', 'data', 'input', 'profiles', '25in_breadboard_raster_skipline_10x10_0.30mx0.30m.csv'),\n",
    "    raft_id,\n",
    "    origin_id=None,#origin_id,\n",
    "    savefig=False\n",
    ")"
   ]
  },
  {
   "cell_type": "code",
   "execution_count": null,
   "metadata": {},
   "outputs": [],
   "source": []
  }
 ],
 "metadata": {
  "kernelspec": {
   "display_name": "Python 3 (ipykernel)",
   "language": "python",
   "name": "python3"
  },
  "language_info": {
   "codemirror_mode": {
    "name": "ipython",
    "version": 3
   },
   "file_extension": ".py",
   "mimetype": "text/x-python",
   "name": "python",
   "nbconvert_exporter": "python",
   "pygments_lexer": "ipython3",
   "version": "3.9.6"
  },
  "vscode": {
   "interpreter": {
    "hash": "6750627cd874d0c95877acff9acc62195d6a8718424fed6513219ae2f64cd542"
   }
  }
 },
 "nbformat": 4,
 "nbformat_minor": 2
}
