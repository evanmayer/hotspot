{
 "cells": [
  {
   "cell_type": "code",
   "execution_count": null,
   "metadata": {},
   "outputs": [],
   "source": [
    "import datetime as dt\n",
    "import importlib\n",
    "import json\n",
    "import matplotlib.pyplot as plt\n",
    "import numpy as np\n",
    "import os\n",
    "import pickle\n",
    "import photogrammetry as pg\n",
    "\n",
    "plt.style.use('seaborn-poster')\n",
    "# plt.style.use('default')"
   ]
  },
  {
   "cell_type": "code",
   "execution_count": null,
   "metadata": {},
   "outputs": [],
   "source": [
    "importlib.reload(pg)"
   ]
  },
  {
   "cell_type": "code",
   "execution_count": null,
   "metadata": {},
   "outputs": [],
   "source": [
    "# date_dir = dt.date.today().strftime(\"%Y%m%d\")\n",
    "date_dir = '20220804'"
   ]
  },
  {
   "cell_type": "code",
   "execution_count": null,
   "metadata": {},
   "outputs": [],
   "source": [
    "# check for pickled camera matrices to avoid expensive recalibration\n",
    "cal_path = os.path.join(date_dir, 'input', 'camera_cal')\n",
    "if not (\n",
    "    os.path.exists(os.path.join(cal_path, 'camera_cal_mtx.pickle')) and\n",
    "    os.path.exists(os.path.join(cal_path, 'camera_cal_dist.pickle')) and\n",
    "    os.path.exists(os.path.join(cal_path, 'camera_cal_optimal_camera_matrix.pickle'))\n",
    "):\n",
    "    # calibrate the camera for distortion\n",
    "    mtx, dist, optimal_camera_matrix, roi = pg.calibrate_camera(\n",
    "        os.path.join(date_dir, 'input', 'camera_cal'),\n",
    "        method='charuco',\n",
    "        plot=False\n",
    "    )\n",
    "    with open(os.path.join(cal_path, 'camera_cal_mtx.pickle'), 'wb') as f:\n",
    "        pickle.dump(mtx, f, protocol=pickle.HIGHEST_PROTOCOL)\n",
    "    with open(os.path.join(cal_path, 'camera_cal_mtx.pickle'), 'wb') as f:\n",
    "        pickle.dump(dist, f, protocol=pickle.HIGHEST_PROTOCOL)\n",
    "    with open(os.path.join(cal_path, 'camera_cal_mtx.pickle'), 'wb') as f:\n",
    "        pickle.dump(optimal_camera_matrix, f, protocol=pickle.HIGHEST_PROTOCOL)\n",
    "else:\n",
    "    with open(os.path.join(cal_path, 'camera_cal_mtx.pickle'), 'rb') as f:\n",
    "        mtx = pickle.load(f)\n",
    "    with open(os.path.join(cal_path, 'camera_cal_dist.pickle'), 'rb') as f:\n",
    "        dist = pickle.load(f)\n",
    "    with open(os.path.join(cal_path, 'camera_cal_optimal_camera_matrix.pickle'), 'rb') as f:\n",
    "        optimal_camera_matrix = pickle.load(f)"
   ]
  },
  {
   "cell_type": "code",
   "execution_count": null,
   "metadata": {},
   "outputs": [],
   "source": [
    "importlib.reload(pg)\n",
    "\n",
    "run_name = '10x10_0.30x0.30_20220804_r5'\n",
    "image_data_charuco = pg.find_targets(\n",
    "    os.path.join(date_dir, 'input', 'meas', run_name),\n",
    "    os.path.join('targets'),\n",
    "    mtx,\n",
    "    dist,\n",
    "    optimal_camera_matrix,\n",
    "    stride=1,\n",
    "    plot=False\n",
    ")"
   ]
  },
  {
   "cell_type": "code",
   "execution_count": null,
   "metadata": {},
   "outputs": [],
   "source": [
    "%matplotlib widget\n",
    "importlib.reload(pg)\n",
    "\n",
    "command_file = os.path.join('..', 'data', 'input', 'profiles', '24in_breadboard_raster_skipline_10x10_0.30x0.30.csv')\n",
    "os.makedirs(os.path.join(date_dir, 'output', run_name), exist_ok=True)\n",
    "out_dir = os.path.join(date_dir, 'output', run_name)\n",
    "commanded_pts, actual_points, residuals = pg.post_process_scan(image_data_charuco, out_dir, command_file, SW_offset=(.05822, .18449))"
   ]
  },
  {
   "cell_type": "code",
   "execution_count": null,
   "metadata": {},
   "outputs": [],
   "source": [
    "importlib.reload(pg)\n",
    "locs = pg.post_process_SW_reference(image_data_charuco, out_dir)"
   ]
  },
  {
   "cell_type": "code",
   "execution_count": null,
   "metadata": {},
   "outputs": [],
   "source": [
    "# save off processed data:\n",
    "with open(os.path.join(out_dir, 'image_data.json'), mode='w') as f:\n",
    "    s = json.dumps(image_data_charuco)\n",
    "    f.write(s)\n",
    "with open(os.path.join(out_dir, 'pos_command_data.npy'), mode='wb') as f:\n",
    "    np.save(f, commanded_pts)\n",
    "with open(os.path.join(out_dir, 'pos_actual_data.npy'), mode='wb') as f:\n",
    "    np.save(f, actual_points)\n",
    "with open(os.path.join(out_dir, 'pos_residual_data.npy'), mode='wb') as f:\n",
    "    np.save(f, residuals)"
   ]
  },
  {
   "cell_type": "code",
   "execution_count": null,
   "metadata": {},
   "outputs": [],
   "source": [
    "pixel_scales = []\n",
    "for img, img_data in image_data_charuco.items():\n",
    "    if os.path.exists(img):\n",
    "        pixel_scales.append(img_data['px_per_m'] / 1000.)\n",
    "f = plt.figure()\n",
    "ax = plt.axes()\n",
    "ax.hist(pixel_scales, edgecolor='k')\n",
    "ax.set_xlabel('Pixels per millimeter')\n",
    "ax.set_ylabel('Counts')\n",
    "ax.ticklabel_format(axis='x', useOffset=False)\n",
    "plt.show()"
   ]
  }
 ],
 "metadata": {
  "kernelspec": {
   "display_name": "Python 3 (ipykernel)",
   "language": "python",
   "name": "python3"
  },
  "language_info": {
   "codemirror_mode": {
    "name": "ipython",
    "version": 3
   },
   "file_extension": ".py",
   "mimetype": "text/x-python",
   "name": "python",
   "nbconvert_exporter": "python",
   "pygments_lexer": "ipython3",
   "version": "3.10.5"
  },
  "vscode": {
   "interpreter": {
    "hash": "6750627cd874d0c95877acff9acc62195d6a8718424fed6513219ae2f64cd542"
   }
  }
 },
 "nbformat": 4,
 "nbformat_minor": 2
}
