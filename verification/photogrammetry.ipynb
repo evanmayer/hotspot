{
 "cells": [
  {
   "cell_type": "code",
   "execution_count": 1,
   "metadata": {},
   "outputs": [],
   "source": [
    "import cv2\n",
    "import matplotlib.pyplot as plt\n",
    "from matplotlib import image\n",
    "import numpy as np\n",
    "import os\n",
    "import re\n",
    "from scipy import spatial\n",
    "from scipy import signal\n",
    "from scipy import ndimage\n",
    "from scipy import optimize\n",
    "\n",
    "%matplotlib qt"
   ]
  },
  {
   "cell_type": "code",
   "execution_count": 13,
   "metadata": {},
   "outputs": [],
   "source": [
    "# https://learnopencv.com/camera-calibration-using-opencv/\n",
    "CHECKERBOARD = (6,9)\n",
    "objpoints = []\n",
    "imgpoints = []\n",
    "objp = np.zeros((1, CHECKERBOARD[0] * CHECKERBOARD[1], 3), np.float32)\n",
    "objp[0,:,:2] = np.mgrid[0:CHECKERBOARD[0], 0:CHECKERBOARD[1]].T.reshape(-1, 2)\n",
    "prev_img_shape = None\n",
    "criteria = (cv2.TERM_CRITERIA_EPS + cv2.TERM_CRITERIA_MAX_ITER, 30, 0.001)\n",
    "\n",
    "im = image.imread('far.jpeg')\n",
    "gray = cv2.cvtColor(im, cv2.COLOR_BGR2GRAY)"
   ]
  },
  {
   "cell_type": "code",
   "execution_count": 14,
   "metadata": {},
   "outputs": [],
   "source": [
    "ret, corners = cv2.findChessboardCorners(gray, CHECKERBOARD, cv2.CALIB_CB_ADAPTIVE_THRESH + cv2.CALIB_CB_FAST_CHECK + cv2.CALIB_CB_NORMALIZE_IMAGE)"
   ]
  },
  {
   "cell_type": "code",
   "execution_count": 15,
   "metadata": {},
   "outputs": [
    {
     "name": "stdout",
     "output_type": "stream",
     "text": [
      "True\n"
     ]
    }
   ],
   "source": [
    "print(ret)"
   ]
  },
  {
   "cell_type": "code",
   "execution_count": 16,
   "metadata": {},
   "outputs": [],
   "source": [
    "if ret == True:\n",
    "    objpoints.append(objp)\n",
    "    corners2 = cv2.cornerSubPix(gray, corners, (11,11),(-1,-1), criteria)\n",
    "    imgpoints.append(corners2)\n",
    "    im = cv2.drawChessboardCorners(im, CHECKERBOARD, corners2, ret)\n",
    "plt.imshow(im)\n",
    "ax = plt.gca()\n",
    "ax.set_aspect('equal')"
   ]
  },
  {
   "cell_type": "code",
   "execution_count": 17,
   "metadata": {},
   "outputs": [],
   "source": [
    "h,w = im.shape[:2]\n",
    "ret, mtx, dist, rvecs, tvecs = cv2.calibrateCamera(objpoints, imgpoints, gray.shape[::-1], None, None)\n",
    "optimal_camera_matrix, roi = cv2.getOptimalNewCameraMatrix(\n",
    "    mtx,\n",
    "    dist, \n",
    "    (w,h), \n",
    "    1, \n",
    "    (w,h)\n",
    ")\n",
    "undistorted_image = cv2.undistort(\n",
    "    im,\n",
    "    mtx,\n",
    "    dist,\n",
    "    None, \n",
    "    optimal_camera_matrix\n",
    ")\n",
    "plt.imshow(undistorted_image)\n",
    "ax = plt.gca()\n",
    "ax.set_aspect('equal')"
   ]
  },
  {
   "cell_type": "code",
   "execution_count": 18,
   "metadata": {},
   "outputs": [],
   "source": [
    "def xcorr_prep(im):\n",
    "    im_corr = np.sum(im.astype(np.float64), axis=2) # ensure single channel\n",
    "    im_corr = np.max(im_corr) - im_corr # invert value\n",
    "    im_corr /= im_corr.max() # normalize\n",
    "    im_corr -= im_corr.mean() # detrend\n",
    "    return im_corr"
   ]
  },
  {
   "cell_type": "code",
   "execution_count": 20,
   "metadata": {},
   "outputs": [
    {
     "data": {
      "text/plain": [
       "<matplotlib.collections.PathCollection at 0x20d130a0220>"
      ]
     },
     "execution_count": 20,
     "metadata": {},
     "output_type": "execute_result"
    }
   ],
   "source": [
    "plt.close('all')\n",
    "tmp = np.rot90(image.imread('raft_crop.jpeg'))\n",
    "stride = 1\n",
    "a = xcorr_prep(im)[::stride,::stride]\n",
    "b = xcorr_prep(tmp)[::stride,::stride]\n",
    "f1 = plt.figure()\n",
    "plt.imshow(a)\n",
    "f2 = plt.figure()\n",
    "plt.imshow(b)\n",
    "xcorr = signal.fftconvolve(\n",
    "    a,\n",
    "    b[::-1, ::-1],\n",
    "    mode='valid'\n",
    ")\n",
    "f3 = plt.figure()\n",
    "plt.imshow(xcorr)\n",
    "y,x = np.unravel_index(np.argmax(xcorr), xcorr.shape)\n",
    "xfound = x + tmp.shape[0] / 2\n",
    "yfound = y + tmp.shape[1] / 2\n",
    "ax = f1.get_axes()[0]\n",
    "ax.scatter(xfound, yfound)\n"
   ]
  },
  {
   "cell_type": "code",
   "execution_count": null,
   "metadata": {},
   "outputs": [],
   "source": []
  }
 ],
 "metadata": {
  "interpreter": {
   "hash": "2c78355426ab29dd466d6c9fb37ae1bcdf5ce1e23673f940012e871d663c0200"
  },
  "kernelspec": {
   "display_name": "Python 3.6.15 64-bit ('hotspot': conda)",
   "language": "python",
   "name": "python3"
  },
  "language_info": {
   "codemirror_mode": {
    "name": "ipython",
    "version": 3
   },
   "file_extension": ".py",
   "mimetype": "text/x-python",
   "name": "python",
   "nbconvert_exporter": "python",
   "pygments_lexer": "ipython3",
   "version": "3.9.6"
  },
  "orig_nbformat": 4
 },
 "nbformat": 4,
 "nbformat_minor": 2
}
