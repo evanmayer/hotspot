{
 "cells": [
  {
   "cell_type": "code",
   "execution_count": 31,
   "metadata": {},
   "outputs": [
    {
     "name": "stdout",
     "output_type": "stream",
     "text": [
      "Using matplotlib backend: QtAgg\n"
     ]
    }
   ],
   "source": [
    "import cv2\n",
    "import glob\n",
    "import matplotlib.pyplot as plt\n",
    "from matplotlib import image\n",
    "from matplotlib.patches import Circle, Rectangle\n",
    "import numpy as np\n",
    "import os\n",
    "import re\n",
    "from scipy import spatial\n",
    "from scipy import signal\n",
    "from scipy import ndimage\n",
    "from scipy import optimize\n",
    "\n",
    "%matplotlib"
   ]
  },
  {
   "cell_type": "code",
   "execution_count": 32,
   "metadata": {},
   "outputs": [],
   "source": [
    "def xcorr_prep(im):\n",
    "    im_corr = np.sum(im.astype(np.float64), axis=2) # ensure single channel\n",
    "    im_corr = np.max(im_corr) - im_corr # invert value\n",
    "    im_corr /= im_corr.max() # normalize\n",
    "    im_corr -= np.median(im_corr) # detrend\n",
    "    return im_corr"
   ]
  },
  {
   "cell_type": "code",
   "execution_count": 33,
   "metadata": {},
   "outputs": [],
   "source": [
    "def gen_template(w: float, h: float, dpi: int, loc: str, plot=False):\n",
    "    '''\n",
    "    Generate an image of a photogrammetry target.\n",
    "\n",
    "    Parameters\n",
    "    ----------\n",
    "    w\n",
    "        total image width, m\n",
    "    h\n",
    "        total image height, m\n",
    "    dpi\n",
    "        output image dpi, converts between matrix coordinates and real width\n",
    "    loc\n",
    "        [SW, NW, SE, NE, raft] generates a different pattern for each loc\n",
    "    '''\n",
    "    IN_TO_METERS = 0.0254\n",
    "    w_in = w / IN_TO_METERS\n",
    "    h_in = h / IN_TO_METERS\n",
    "    w_px = np.round(w_in * dpi).astype(int)\n",
    "    h_px = np.round(h_in * dpi).astype(int)\n",
    "\n",
    "    fig, ax = plt.subplots()\n",
    "    fig.set_size_inches(w_in, h_in)\n",
    "    fig.tight_layout()\n",
    "    fig.subplots_adjust(left=0., right=1., top=1., bottom=0.)\n",
    "\n",
    "    pattern_size = 8\n",
    "    pattern = np.random.choice([0.1,0.9], size=(pattern_size,pattern_size))\n",
    "    pattern[0][0] = 0\n",
    "    pattern[pattern_size - 1][pattern_size - 1] = 1\n",
    "    ax.imshow(ndimage.zoom(pattern, h_px / pattern_size, order=0), cmap='Greys')\n",
    "\n",
    "    # center cross\n",
    "    c_size = dpi * 0.01 / IN_TO_METERS # 10 cm\n",
    "    c_thick = dpi * 0.001 / IN_TO_METERS # 1 mm\n",
    "\n",
    "    ax.add_patch(Rectangle((w_px / 2 - c_size / 2, h_px / 2 - c_thick / 2), c_size, c_thick, color='silver')) # horz\n",
    "    ax.add_patch(Rectangle((w_px / 2 - c_thick / 2, h_px / 2 - c_size / 2), c_thick, c_size, color='silver')) # vert\n",
    "    ax.add_patch(Rectangle((w_px / 2 - c_size / 2, h_px / 2 - c_thick / 4), c_size, c_thick / 2, color='k')) # horz\n",
    "    ax.add_patch(Rectangle((w_px / 2 - c_thick / 4, h_px / 2 - c_size / 2), c_thick / 2, c_size, color='k')) # vert\n",
    "\n",
    "    ax.set_aspect('equal')\n",
    "    ax.set_xlim([0, w_px])\n",
    "    ax.set_ylim([0, h_px])\n",
    "    ax.set_xticks([])\n",
    "    ax.set_yticks([])\n",
    "    fig.savefig(f'{loc}_target.png')\n",
    "    if not plot:\n",
    "        plt.close()"
   ]
  },
  {
   "cell_type": "code",
   "execution_count": 34,
   "metadata": {},
   "outputs": [],
   "source": [
    "np.random.seed(77777) # generate same noise pattern every time\n",
    "gen_locs = ['SW', 'NW', 'NE', 'SE', 'raft']\n",
    "TARGET_W = 0.03 # 40 mm\n",
    "TARGET_H = TARGET_W\n",
    "for loc in gen_locs:\n",
    "    gen_template(TARGET_W, TARGET_H, 300, loc, plot=False)"
   ]
  },
  {
   "cell_type": "code",
   "execution_count": 38,
   "metadata": {},
   "outputs": [
    {
     "name": "stdout",
     "output_type": "stream",
     "text": [
      "True\n",
      "True\n",
      "True\n",
      "True\n",
      "True\n",
      "True\n"
     ]
    }
   ],
   "source": [
    "plt.close('all')\n",
    "\n",
    "# https://learnopencv.com/camera-calibration-using-opencv/\n",
    "CHECKERBOARD = (5,8)\n",
    "objpoints = []\n",
    "imgpoints = []\n",
    "objp = np.zeros((1, CHECKERBOARD[0] * CHECKERBOARD[1], 3), np.float32)\n",
    "objp[0,:,:2] = np.mgrid[0:CHECKERBOARD[0], 0:CHECKERBOARD[1]].T.reshape(-1, 2)\n",
    "square_size = 0.025 # 25 mm\n",
    "objp *= square_size\n",
    "prev_img_shape = None\n",
    "criteria = (cv2.TERM_CRITERIA_EPS + cv2.TERM_CRITERIA_MAX_ITER, 30, 0.001)\n",
    "\n",
    "for fname in sorted(glob.glob('input/**.*', recursive=True)):\n",
    "    # do camera calibration from chessboard images\n",
    "    im = image.imread(fname)\n",
    "    gray = cv2.cvtColor(im, cv2.COLOR_BGR2GRAY)\n",
    "    \n",
    "    ret, corners = cv2.findChessboardCorners(gray, CHECKERBOARD, cv2.CALIB_CB_ADAPTIVE_THRESH + cv2.CALIB_CB_FAST_CHECK + cv2.CALIB_CB_NORMALIZE_IMAGE)\n",
    "    print(ret)\n",
    "    if ret == True:\n",
    "        objpoints.append(objp)\n",
    "        corners2 = cv2.cornerSubPix(gray, corners, (5,5),(-1,-1), criteria)\n",
    "        imgpoints.append(corners2)\n",
    "        im = cv2.drawChessboardCorners(im, CHECKERBOARD, corners2, ret)\n",
    "    plt.figure()\n",
    "    plt.imshow(im)\n",
    "    ax = plt.gca()\n",
    "    ax.set_aspect('equal')\n",
    "\n",
    "h,w = im.shape[:2]\n",
    "ret, mtx, dist, rvecs, tvecs = cv2.calibrateCamera(objpoints, imgpoints, gray.shape[::-1], None, None)\n",
    "optimal_camera_matrix, roi = cv2.getOptimalNewCameraMatrix(\n",
    "    mtx,\n",
    "    dist, \n",
    "    (w,h), \n",
    "    1, \n",
    "    (w,h)\n",
    ")\n",
    "undistorted_image = cv2.undistort(\n",
    "    im,\n",
    "    mtx,\n",
    "    dist,\n",
    "    None,\n",
    "    optimal_camera_matrix\n",
    ")\n",
    "print(tvecs)\n",
    "plt.imshow(undistorted_image)\n",
    "ax = plt.gca()\n",
    "ax.set_aspect('equal')\n"
   ]
  },
  {
   "cell_type": "code",
   "execution_count": 36,
   "metadata": {},
   "outputs": [
    {
     "name": "stdout",
     "output_type": "stream",
     "text": [
      "['input/IMG_6928.jpg', 'input/IMG_6929.jpg', 'input/IMG_6930.jpg', 'input/IMG_6931.jpg', 'input/IMG_6932.jpg', 'input/IMG_6933.jpg', 'input/IMG_6934.jpg', 'input/IMG_6935.jpg', 'input/IMG_6936.jpg']\n",
      "px per m 2276.214039361299\n",
      "px per m 2251.649588969216\n",
      "px per m 2622.1913374715773\n",
      "px per m 2774.5861656986067\n",
      "px per m 3029.411438899254\n",
      "px per m 3126.256802687004\n",
      "px per m 2369.0549935867534\n",
      "px per m 2299.1099161176535\n",
      "px per m 3034.367965015013\n",
      "std error induced by pixel cal across span of .7m: 0.08982044030763624\n"
     ]
    }
   ],
   "source": [
    "plt.close('all')\n",
    "\n",
    "chessboard_sq_side = 0.025 # m\n",
    "\n",
    "px_per_ms = []\n",
    "files = sorted(glob.glob('input/**.jpg', recursive=True))\n",
    "# which image will we deproject all others to be like?\n",
    "ref_idx = len(files) - 1\n",
    "print(files)\n",
    "for img_idx in range(len(files)):\n",
    "    plt.figure()\n",
    "    ax = plt.axes()\n",
    "    ax.set_aspect('equal')\n",
    "    ax.grid(True)\n",
    "\n",
    "    # use camera cal matrix to de-distort all images\n",
    "    im = image.imread(files[img_idx])\n",
    "    undistorted_image = cv2.undistort(\n",
    "        im,\n",
    "        mtx,\n",
    "        dist,\n",
    "        None, \n",
    "        optimal_camera_matrix\n",
    "    )\n",
    "\n",
    "    this_obj = objpoints[img_idx][0,:,:2]\n",
    "    this_img = imgpoints[img_idx][:,0,:]\n",
    "\n",
    "    h, status = cv2.findHomography(\n",
    "        this_img,\n",
    "        imgpoints[ref_idx][:,0,:]\n",
    "    )\n",
    "    im_warped = cv2.warpPerspective(\n",
    "        undistorted_image,\n",
    "        h,\n",
    "        (undistorted_image.shape[1], undistorted_image.shape[0])\n",
    "    )\n",
    "    gray = cv2.cvtColor(im_warped, cv2.COLOR_BGR2GRAY)\n",
    "    # ax.imshow(im_warped)\n",
    "\n",
    "    # locate chessboard corners in de-distorted, deprojected image to calcualte pixel scale\n",
    "    ret, corners = cv2.findChessboardCorners(\n",
    "        gray,\n",
    "        CHECKERBOARD,\n",
    "        cv2.CALIB_CB_ADAPTIVE_THRESH + cv2.CALIB_CB_FAST_CHECK + cv2.CALIB_CB_NORMALIZE_IMAGE\n",
    "    )\n",
    "    if ret == True:\n",
    "        corners2 = cv2.cornerSubPix(gray, corners, (5,5),(-1,-1), criteria)\n",
    "        im_warped_corners = cv2.drawChessboardCorners(im_warped, CHECKERBOARD, corners2, ret)\n",
    "        im_warped_corners_grey = cv2.cvtColor(im_warped_corners, cv2.COLOR_BGR2GRAY)\n",
    "    cmap = 'Greys'\n",
    "    if img_idx == ref_idx:\n",
    "        cmap = 'viridis'\n",
    "    ax.imshow(im_warped_corners_grey, cmap=cmap)\n",
    "\n",
    "    # calc pixel scale: get pairs of euclidean distances along each axis\n",
    "    found_corners = corners2[:,0,:].reshape((CHECKERBOARD[1], CHECKERBOARD[0], 2))\n",
    "    dists = np.array([])\n",
    "    for i in range(found_corners.shape[0]):\n",
    "        d = np.diff(found_corners[i,:,:], axis=0)\n",
    "        dists = np.concatenate([dists, np.sqrt((d ** 2).sum(axis=1))])\n",
    "    for j in range(found_corners.shape[1]):\n",
    "        d = np.diff(found_corners[:,j,:], axis=0)\n",
    "        dists = np.concatenate([dists, np.sqrt((d ** 2).sum(axis=1))])\n",
    "    avg_spacing = np.mean(np.abs(dists))\n",
    "    px_per_m = avg_spacing / chessboard_sq_side\n",
    "    px_per_ms.append(px_per_m)\n",
    "    print('px per m', px_per_m)\n",
    "\n",
    "frac_err = np.std(px_per_ms) / np.mean(px_per_ms)\n",
    "avg_px_per_m = np.mean(px_per_ms)\n",
    "print('std error induced by pixel cal across span of .7m:', 0.7 * frac_err)"
   ]
  },
  {
   "cell_type": "code",
   "execution_count": 37,
   "metadata": {},
   "outputs": [
    {
     "ename": "FileNotFoundError",
     "evalue": "[Errno 2] No such file or directory: 'input\\\\raft_crop.jpeg'",
     "output_type": "error",
     "traceback": [
      "\u001b[0;31m---------------------------------------------------------------------------\u001b[0m",
      "\u001b[0;31mFileNotFoundError\u001b[0m                         Traceback (most recent call last)",
      "\u001b[0;32m/tmp/ipykernel_8708/1762333191.py\u001b[0m in \u001b[0;36m<module>\u001b[0;34m\u001b[0m\n\u001b[1;32m      1\u001b[0m \u001b[0mplt\u001b[0m\u001b[0;34m.\u001b[0m\u001b[0mclose\u001b[0m\u001b[0;34m(\u001b[0m\u001b[0;34m'all'\u001b[0m\u001b[0;34m)\u001b[0m\u001b[0;34m\u001b[0m\u001b[0;34m\u001b[0m\u001b[0m\n\u001b[0;32m----> 2\u001b[0;31m \u001b[0mtmp\u001b[0m \u001b[0;34m=\u001b[0m \u001b[0mndimage\u001b[0m\u001b[0;34m.\u001b[0m\u001b[0mzoom\u001b[0m\u001b[0;34m(\u001b[0m\u001b[0mimage\u001b[0m\u001b[0;34m.\u001b[0m\u001b[0mimread\u001b[0m\u001b[0;34m(\u001b[0m\u001b[0;34m'input\\\\raft_crop.jpeg'\u001b[0m\u001b[0;34m)\u001b[0m\u001b[0;34m,\u001b[0m \u001b[0;36m2\u001b[0m\u001b[0;34m)\u001b[0m\u001b[0;34m\u001b[0m\u001b[0;34m\u001b[0m\u001b[0m\n\u001b[0m\u001b[1;32m      3\u001b[0m \u001b[0mstride\u001b[0m \u001b[0;34m=\u001b[0m \u001b[0;36m2\u001b[0m\u001b[0;34m\u001b[0m\u001b[0;34m\u001b[0m\u001b[0m\n\u001b[1;32m      4\u001b[0m \u001b[0ma\u001b[0m \u001b[0;34m=\u001b[0m \u001b[0mxcorr_prep\u001b[0m\u001b[0;34m(\u001b[0m\u001b[0mim_warped\u001b[0m\u001b[0;34m)\u001b[0m\u001b[0;34m[\u001b[0m\u001b[0;34m:\u001b[0m\u001b[0;34m:\u001b[0m\u001b[0mstride\u001b[0m\u001b[0;34m,\u001b[0m\u001b[0;34m:\u001b[0m\u001b[0;34m:\u001b[0m\u001b[0mstride\u001b[0m\u001b[0;34m]\u001b[0m\u001b[0;34m\u001b[0m\u001b[0;34m\u001b[0m\u001b[0m\n\u001b[1;32m      5\u001b[0m \u001b[0mb\u001b[0m \u001b[0;34m=\u001b[0m \u001b[0mxcorr_prep\u001b[0m\u001b[0;34m(\u001b[0m\u001b[0mtmp\u001b[0m\u001b[0;34m)\u001b[0m\u001b[0;34m[\u001b[0m\u001b[0;34m:\u001b[0m\u001b[0;34m:\u001b[0m\u001b[0mstride\u001b[0m\u001b[0;34m,\u001b[0m\u001b[0;34m:\u001b[0m\u001b[0;34m:\u001b[0m\u001b[0mstride\u001b[0m\u001b[0;34m]\u001b[0m\u001b[0;34m\u001b[0m\u001b[0;34m\u001b[0m\u001b[0m\n",
      "\u001b[0;32m~/miniconda3/envs/astr/lib/python3.9/site-packages/matplotlib/image.py\u001b[0m in \u001b[0;36mimread\u001b[0;34m(fname, format)\u001b[0m\n\u001b[1;32m   1558\u001b[0m                     \u001b[0mresponse\u001b[0m \u001b[0;34m=\u001b[0m \u001b[0mio\u001b[0m\u001b[0;34m.\u001b[0m\u001b[0mBytesIO\u001b[0m\u001b[0;34m(\u001b[0m\u001b[0mresponse\u001b[0m\u001b[0;34m.\u001b[0m\u001b[0mread\u001b[0m\u001b[0;34m(\u001b[0m\u001b[0;34m)\u001b[0m\u001b[0;34m)\u001b[0m\u001b[0;34m\u001b[0m\u001b[0;34m\u001b[0m\u001b[0m\n\u001b[1;32m   1559\u001b[0m                 \u001b[0;32mreturn\u001b[0m \u001b[0mimread\u001b[0m\u001b[0;34m(\u001b[0m\u001b[0mresponse\u001b[0m\u001b[0;34m,\u001b[0m \u001b[0mformat\u001b[0m\u001b[0;34m=\u001b[0m\u001b[0mext\u001b[0m\u001b[0;34m)\u001b[0m\u001b[0;34m\u001b[0m\u001b[0;34m\u001b[0m\u001b[0m\n\u001b[0;32m-> 1560\u001b[0;31m     \u001b[0;32mwith\u001b[0m \u001b[0mimg_open\u001b[0m\u001b[0;34m(\u001b[0m\u001b[0mfname\u001b[0m\u001b[0;34m)\u001b[0m \u001b[0;32mas\u001b[0m \u001b[0mimage\u001b[0m\u001b[0;34m:\u001b[0m\u001b[0;34m\u001b[0m\u001b[0;34m\u001b[0m\u001b[0m\n\u001b[0m\u001b[1;32m   1561\u001b[0m         return (_pil_png_to_float_array(image)\n\u001b[1;32m   1562\u001b[0m                 \u001b[0;32mif\u001b[0m \u001b[0misinstance\u001b[0m\u001b[0;34m(\u001b[0m\u001b[0mimage\u001b[0m\u001b[0;34m,\u001b[0m \u001b[0mPIL\u001b[0m\u001b[0;34m.\u001b[0m\u001b[0mPngImagePlugin\u001b[0m\u001b[0;34m.\u001b[0m\u001b[0mPngImageFile\u001b[0m\u001b[0;34m)\u001b[0m \u001b[0;32melse\u001b[0m\u001b[0;34m\u001b[0m\u001b[0;34m\u001b[0m\u001b[0m\n",
      "\u001b[0;32m~/miniconda3/envs/astr/lib/python3.9/site-packages/PIL/Image.py\u001b[0m in \u001b[0;36mopen\u001b[0;34m(fp, mode, formats)\u001b[0m\n\u001b[1;32m   2973\u001b[0m \u001b[0;34m\u001b[0m\u001b[0m\n\u001b[1;32m   2974\u001b[0m     \u001b[0;32mif\u001b[0m \u001b[0mfilename\u001b[0m\u001b[0;34m:\u001b[0m\u001b[0;34m\u001b[0m\u001b[0;34m\u001b[0m\u001b[0m\n\u001b[0;32m-> 2975\u001b[0;31m         \u001b[0mfp\u001b[0m \u001b[0;34m=\u001b[0m \u001b[0mbuiltins\u001b[0m\u001b[0;34m.\u001b[0m\u001b[0mopen\u001b[0m\u001b[0;34m(\u001b[0m\u001b[0mfilename\u001b[0m\u001b[0;34m,\u001b[0m \u001b[0;34m\"rb\"\u001b[0m\u001b[0;34m)\u001b[0m\u001b[0;34m\u001b[0m\u001b[0;34m\u001b[0m\u001b[0m\n\u001b[0m\u001b[1;32m   2976\u001b[0m         \u001b[0mexclusive_fp\u001b[0m \u001b[0;34m=\u001b[0m \u001b[0;32mTrue\u001b[0m\u001b[0;34m\u001b[0m\u001b[0;34m\u001b[0m\u001b[0m\n\u001b[1;32m   2977\u001b[0m \u001b[0;34m\u001b[0m\u001b[0m\n",
      "\u001b[0;31mFileNotFoundError\u001b[0m: [Errno 2] No such file or directory: 'input\\\\raft_crop.jpeg'"
     ]
    }
   ],
   "source": [
    "plt.close('all')\n",
    "tmp = ndimage.zoom(image.imread('input\\\\raft_crop.jpeg'), 2)\n",
    "stride = 2\n",
    "a = xcorr_prep(im_warped)[::stride,::stride]\n",
    "b = xcorr_prep(tmp)[::stride,::stride]\n",
    "f1 = plt.figure()\n",
    "plt.imshow(a)\n",
    "f2 = plt.figure()\n",
    "plt.imshow(b)\n",
    "xcorr = signal.fftconvolve(\n",
    "    a,\n",
    "    b[::-1, ::-1],\n",
    "    mode='valid'\n",
    ")\n",
    "f3 = plt.figure()\n",
    "plt.imshow(xcorr)\n",
    "y,x = np.unravel_index(np.argmax(xcorr), xcorr.shape)\n",
    "xfound = x + tmp.shape[0] / 2\n",
    "yfound = y + tmp.shape[1] / 2\n",
    "ax = f1.get_axes()[0]\n",
    "ax.scatter(xfound, yfound)\n"
   ]
  },
  {
   "cell_type": "markdown",
   "metadata": {},
   "source": [
    "##### Plot location of each point"
   ]
  },
  {
   "cell_type": "code",
   "execution_count": null,
   "metadata": {},
   "outputs": [
    {
     "name": "stdout",
     "output_type": "stream",
     "text": [
      "px per m 3750.1422512915824\n"
     ]
    }
   ],
   "source": [
    "# plt.close('all')\n",
    "\n",
    "# plt.figure()\n",
    "# ax = plt.axes()\n",
    "# ax.set_aspect('equal')\n",
    "# order = 0\n",
    "# found_corners = corners2[:,0,:].reshape((CHECKERBOARD[1], CHECKERBOARD[0], 2))\n",
    "# for i in range(found_corners.shape[0]):\n",
    "#     for j in range(found_corners.shape[1]):\n",
    "#         ax.scatter(found_corners[i][j][0], found_corners[i][j][1], color='g')\n",
    "#         ax.annotate(f'{order}', (found_corners[i][j][0], found_corners[i][j][1]), fontsize=12)\n",
    "#         order += 1\n",
    "# # calc pixel scale: get pairs of euclidean distances along each axis\n",
    "# dists = np.array([])\n",
    "# for i in range(found_corners.shape[0]):\n",
    "#     d = np.diff(found_corners[i,:,:], axis=0)\n",
    "#     dists = np.concatenate([dists, np.sqrt((d ** 2).sum(axis=1))])\n",
    "# for j in range(found_corners.shape[1]):\n",
    "#     d = np.diff(found_corners[:,j,:], axis=0)\n",
    "#     dists = np.concatenate([dists, np.sqrt((d ** 2).sum(axis=1))])\n",
    "# avg_spacing = np.mean(np.abs(dists))\n",
    "# print('px per m', avg_spacing / 0.02)\n"
   ]
  },
  {
   "cell_type": "code",
   "execution_count": null,
   "metadata": {},
   "outputs": [],
   "source": []
  }
 ],
 "metadata": {
  "interpreter": {
   "hash": "2c78355426ab29dd466d6c9fb37ae1bcdf5ce1e23673f940012e871d663c0200"
  },
  "kernelspec": {
   "display_name": "Python 3.6.15 64-bit ('hotspot': conda)",
   "language": "python",
   "name": "python3"
  },
  "language_info": {
   "codemirror_mode": {
    "name": "ipython",
    "version": 3
   },
   "file_extension": ".py",
   "mimetype": "text/x-python",
   "name": "python",
   "nbconvert_exporter": "python",
   "pygments_lexer": "ipython3",
   "version": "3.9.6"
  },
  "orig_nbformat": 4
 },
 "nbformat": 4,
 "nbformat_minor": 2
}
