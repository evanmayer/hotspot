{
 "cells": [
  {
   "cell_type": "code",
   "execution_count": null,
   "metadata": {},
   "outputs": [],
   "source": [
    "import cv2\n",
    "import glob\n",
    "import matplotlib.pyplot as plt\n",
    "import numpy as np\n",
    "import os\n",
    "import pickle\n",
    "import photogrammetry as pg\n",
    "import seaborn as sns\n",
    "import time\n",
    "\n",
    "# %matplotlib qt\n",
    "\n",
    "plt.style.use('default')\n",
    "\n",
    "%load_ext autoreload\n",
    "%autoreload 2"
   ]
  },
  {
   "cell_type": "code",
   "execution_count": null,
   "metadata": {},
   "outputs": [],
   "source": [
    "# in case a new board type is needed\n",
    "# pg.generate_charuco_board(pg.BOARD_VERT_SHAPE, pg.BOARD_SQUARE_SIZE, pg.BOARD_ARUCO_SIZE, aruco_dict=cv2.aruco.DICT_4X4_1000, gen_png=True, invert=True)"
   ]
  },
  {
   "cell_type": "code",
   "execution_count": null,
   "metadata": {
    "scrolled": true
   },
   "outputs": [],
   "source": [
    "%autoreload 2\n",
    "\n",
    "run = '20230623_1'\n",
    "cal_path = f'/home/evanmayer/TIME_data/mirror_mapping/testing/{run}/calibration/20230629_0'\n",
    "\n",
    "extensions = ['.jpeg', '.jpg', '.JPG', '.PNG']#, '.tiff', '.TIFF']\n",
    "files = []\n",
    "for ext in extensions:\n",
    "    files += sorted(glob.glob(os.path.join(cal_path, '**/**' + ext), recursive=True))\n",
    "assert files, 'No image files found when searching for images for camera calibration.'\n",
    "\n",
    "# check for pickled camera matrices to avoid expensive recalibration\n",
    "if not (\n",
    "    os.path.exists(os.path.join(cal_path, 'camera_cal_mtx.pickle')) and\n",
    "    os.path.exists(os.path.join(cal_path, 'camera_cal_dist.pickle')) and\n",
    "    os.path.exists(os.path.join(cal_path, 'camera_cal_optimal_camera_matrix.pickle'))\n",
    "):\n",
    "    # calibrate the camera for distortion\n",
    "    mtx, dist, optimal_camera_matrix, roi = pg.calibrate_camera(\n",
    "        cal_path,\n",
    "        files,\n",
    "        square_size=pg.BOARD_SQUARE_SIZE,\n",
    "        aruco_size=pg.BOARD_ARUCO_SIZE,\n",
    "        guess_intrinsics=True,\n",
    "        plot=True,\n",
    "        savefig=False,\n",
    "        write_mrcal=False,\n",
    "    )\n",
    "\n",
    "    with open(os.path.join(cal_path, 'camera_cal_mtx.pickle'), 'wb') as f:\n",
    "        pickle.dump(mtx, f, protocol=pickle.HIGHEST_PROTOCOL)\n",
    "    with open(os.path.join(cal_path, 'camera_cal_dist.pickle'), 'wb') as f:\n",
    "        pickle.dump(dist, f, protocol=pickle.HIGHEST_PROTOCOL)\n",
    "    with open(os.path.join(cal_path, 'camera_cal_optimal_camera_matrix.pickle'), 'wb') as f:\n",
    "        pickle.dump(optimal_camera_matrix, f, protocol=pickle.HIGHEST_PROTOCOL)\n",
    "else:\n",
    "    with open(os.path.join(cal_path, 'camera_cal_mtx.pickle'), 'rb') as f:\n",
    "        mtx = pickle.load(f)\n",
    "    with open(os.path.join(cal_path, 'camera_cal_dist.pickle'), 'rb') as f:\n",
    "        dist = pickle.load(f)\n",
    "    with open(os.path.join(cal_path, 'camera_cal_optimal_camera_matrix.pickle'), 'rb') as f:\n",
    "        optimal_camera_matrix = pickle.load(f)\n",
    "\n",
    "print('Camera matrix:', mtx)\n",
    "print('Distortion matrix:', dist)\n",
    "mtx_boofcv = np.array([\n",
    "    [1653.5405560649892, 0, 2011.1627804232648],\n",
    "    [0, 1655.631444381979,  1515.845563652173],\n",
    "    [0, 0, 1]\n",
    "])\n",
    "print('Mine:\\n', cv2.calibrationMatrixValues(mtx, (4032, 3024), 1.7e-6 * 4032, 1.7e-6 * 3024))\n",
    "print('vs. BoofCV:\\n', cv2.calibrationMatrixValues(mtx_boofcv, (4032, 3024), 1.7e-6 * 4032, 1.7e-6 * 3024))\n",
    "\n",
    "print('Mine: (may not share distortion model with BoofCV)\\n', dist)\n",
    "dist_boofcv = np.array([\n",
    "    -0.001963787455093832,\n",
    "    0.0026115087601481127,\n",
    "    -0.015169613897069615,\n",
    "    0.02001275069414555,\n",
    "    -0.01121304725629186,\n",
    "    0.0023117429319429944\n",
    "])\n",
    "print('vs. BoofCV:\\n', dist_boofcv)"
   ]
  },
  {
   "attachments": {},
   "cell_type": "markdown",
   "metadata": {},
   "source": [
    "`sort_images_exif ./ ./`"
   ]
  },
  {
   "cell_type": "code",
   "execution_count": null,
   "metadata": {},
   "outputs": [],
   "source": [
    "meas_path = f'/home/evanmayer/TIME_data/mirror_mapping/testing/{run}/measurement/'\n",
    "files = []\n",
    "for ext in extensions:\n",
    "    files += sorted(glob.glob(os.path.join(meas_path, '**' + ext)))\n",
    "assert files, 'No image files found when searching for images for measurement.'\n",
    "\n",
    "# If necessary, skip some images (e.g. interleaved visits of the home position)\n",
    "slice = np.s_[0::2] # scans\n",
    "# slice = np.s_[1::2] # repeatability\n",
    "# slice = np.s_[:] # all\n",
    "files = files[slice]\n",
    "print(len(files))"
   ]
  },
  {
   "cell_type": "code",
   "execution_count": null,
   "metadata": {
    "scrolled": true
   },
   "outputs": [],
   "source": [
    "# use camera cal matrix to de-distort a few images to check\n",
    "for file in files[:2]:\n",
    "    fig, ax = plt.subplots(figsize=(12,7))\n",
    "    ax.imshow(pg.load_to_gray(file, mtx, dist), cmap='bone')"
   ]
  },
  {
   "cell_type": "code",
   "execution_count": null,
   "metadata": {},
   "outputs": [],
   "source": [
    "origin_id = 998\n",
    "raft_id = 999"
   ]
  },
  {
   "cell_type": "code",
   "execution_count": null,
   "metadata": {
    "scrolled": true
   },
   "outputs": [],
   "source": [
    "%autoreload 2\n",
    "\n",
    "img_data = pg.measure_images(files, mtx, dist, aruco_ids=[origin_id, raft_id], use_extrinsic_priors=False, plot=False)\n",
    "# img_data = np.load('/home/evanmayer/TIME_data/mirror_mapping/testing/20230623_1/results_recal/1694456444_9875538_img_data.pickle', allow_pickle=True)"
   ]
  },
  {
   "cell_type": "code",
   "execution_count": null,
   "metadata": {
    "scrolled": true
   },
   "outputs": [],
   "source": [
    "fig, ax = plt.subplots(figsize=(12,5), subplot_kw={'projection':'3d'})\n",
    "ax.view_init(elev=-15, azim=145, roll=0)\n",
    "\n",
    "for file, entities in img_data.items():\n",
    "    for id, pose in entities.items():\n",
    "        for key, val in pose.items():\n",
    "            print(os.path.basename(file), id, key, val)\n",
    "            if key == 'tvec_rel_camera':\n",
    "            # if key == 'tvec':\n",
    "                if id == raft_id:\n",
    "                    color = 'k'\n",
    "                elif id == origin_id:\n",
    "                    color = 'r'\n",
    "                elif id == 'board':\n",
    "                    color = 'b'\n",
    "                else:\n",
    "                    continue\n",
    "                ax.scatter(\n",
    "                    val[0],\n",
    "                    val[1],\n",
    "                    val[2],\n",
    "                    color=color,\n",
    "                    # label=id,\n",
    "                    alpha=0.7\n",
    "                )\n",
    "\n",
    "ax.scatter(0,0,0, color='m', label='origin')\n",
    "ax.set(xlabel='x', ylabel='y', zlabel='z')\n",
    "ax.set_box_aspect([1,1,1])\n",
    "# ax.legend()\n",
    "# origin = np.array([-0.27714734, 0.28417057, 0.36009227])\n",
    "# sz = .01\n",
    "# ax.set_xlim(-sz + origin[0], sz + origin[0])\n",
    "# ax.set_ylim(-sz + origin[1], sz + origin[1])\n",
    "# ax.set_zlim(-sz + origin[2], sz + origin[2]);\n",
    "\n",
    "board_median_tvec_rel_camera = np.median(pg.unwind_img_data(img_data, 'board', 'tvec_rel_camera'), axis=0)\n",
    "board_median_rvec_rel_camera = np.median(pg.unwind_img_data(img_data, 'board', 'rvec_rel_camera'), axis=0)\n",
    "print(board_median_tvec_rel_camera)\n",
    "ax.scatter(board_median_tvec_rel_camera[0], board_median_tvec_rel_camera[1], board_median_tvec_rel_camera[2], color='limegreen', zorder=0)"
   ]
  },
  {
   "cell_type": "code",
   "execution_count": null,
   "metadata": {},
   "outputs": [],
   "source": [
    "def plot_xyz_scatter(vals):\n",
    "    median = np.median(vals, axis=0)\n",
    "    std = np.std(vals, axis=0)\n",
    "    [print(f'{m:.4E}') for m in median]\n",
    "    print()\n",
    "    [print(f'{s:.4E}') for s in std]\n",
    "\n",
    "    sz = 2e-3\n",
    "\n",
    "    fig, ax = plt.subplots(ncols=3)\n",
    "    ax[0].scatter(vals[:,0], vals[:,1], alpha=0.2)\n",
    "    ax[0].scatter(median[0], median[1], color='r')\n",
    "    ax[0].set_xlim(median[0]-sz, median[0]+sz)\n",
    "    ax[0].set_ylim(median[1]-sz, median[1]+sz)\n",
    "    ax[0].set(xlabel='X', ylabel='Y')\n",
    "\n",
    "    ax[1].scatter(vals[:,1], vals[:,2], alpha=0.2)\n",
    "    ax[1].scatter(median[1], median[2], color='r')\n",
    "    ax[1].set_xlim(median[1]-sz, median[1]+sz)\n",
    "    ax[1].set_ylim(median[2]-sz, median[2]+sz)\n",
    "    ax[1].set(xlabel='Y', ylabel='Z')\n",
    "\n",
    "    ax[2].scatter(vals[:,0], vals[:,2], alpha=0.2)\n",
    "    ax[2].scatter(median[0], median[2], color='r')\n",
    "    ax[2].set_xlim(median[0]-sz, median[0]+sz)\n",
    "    ax[2].set_ylim(median[2]-sz, median[2]+sz)\n",
    "    ax[2].set(xlabel='X', ylabel='Z')\n",
    "\n",
    "    for i, a in enumerate(ax):\n",
    "        a.set_aspect('equal')\n",
    "\n",
    "    fig.tight_layout()\n",
    "    return fig, ax"
   ]
  },
  {
   "cell_type": "code",
   "execution_count": null,
   "metadata": {},
   "outputs": [],
   "source": [
    "vals = pg.unwind_img_data(img_data, 'board', 'tvec_rel_camera')\n",
    "fig, ax = plot_xyz_scatter(vals)"
   ]
  },
  {
   "cell_type": "code",
   "execution_count": null,
   "metadata": {},
   "outputs": [],
   "source": [
    "vals = pg.unwind_img_data(img_data, 998, 'tvec_rel_camera')\n",
    "fig, ax = plot_xyz_scatter(vals)"
   ]
  },
  {
   "cell_type": "code",
   "execution_count": null,
   "metadata": {},
   "outputs": [],
   "source": [
    "board_eulers = pg.unwind_img_data(img_data, 'board', 'euler_zyx_deg')\n",
    "euler_zs = board_eulers[:,0]\n",
    "euler_ys = board_eulers[:,1]\n",
    "euler_xs = board_eulers[:,2]\n",
    "\n",
    "fig, ax = plt.subplots(figsize=(12,5), ncols=3)\n",
    "sns.kdeplot(euler_zs, fill=True, ax=ax[0])\n",
    "sns.rugplot(euler_zs, ax=ax[0])\n",
    "ax[0].axvline(np.median(euler_zs), linestyle='--')\n",
    "ax[0].set_xlabel(f'Euler z Angle (deg)\\n{np.median(euler_zs):.2f} +/- {np.std(euler_zs):.2f}', fontsize=14)\n",
    "ax[0].yaxis.label.set_size(14)\n",
    "\n",
    "sns.kdeplot(euler_ys, fill=True, ax=ax[1])\n",
    "sns.rugplot(euler_ys, ax=ax[1])\n",
    "ax[1].axvline(np.median(euler_ys), linestyle='--')\n",
    "ax[1].set_xlabel(f'Euler y Angle (deg)\\n{np.median(euler_ys):.2f} +/- {np.std(euler_ys):.2f}', fontsize=14)\n",
    "ax[1].yaxis.label.set_size(14)\n",
    "\n",
    "sns.kdeplot(euler_xs, fill=True, ax=ax[2])\n",
    "sns.rugplot(euler_xs, ax=ax[2])\n",
    "ax[2].axvline(np.median(euler_xs), linestyle='--')\n",
    "# ax.set_xlim(-181, -179)\n",
    "ax[2].set_xlabel(f'Euler x Angle (deg)\\n{np.median(euler_xs):.2f} +/- {np.std(euler_xs):.2f}', fontsize=14)\n",
    "ax[2].yaxis.label.set_size(14)\n",
    "\n",
    "fig.suptitle('ChArUco Board')\n",
    "\n",
    "timestamp = str(time.time()).replace('.', '_')\n",
    "# fig.savefig(\n",
    "#     os.path.join(\n",
    "#         f'/home/evanmayer/TIME_data/mirror_mapping/testing/{run}/results_recal/',\n",
    "#         f'{timestamp}_eulers.png'\n",
    "#     ),\n",
    "#     facecolor='white',\n",
    "#     transparent=False,\n",
    "#     bbox_inches='tight'\n",
    "# )"
   ]
  },
  {
   "cell_type": "code",
   "execution_count": null,
   "metadata": {},
   "outputs": [],
   "source": [
    "origin_eulers = pg.unwind_img_data(img_data, origin_id, 'euler_zyx_deg')\n",
    "origin_euler_zs = origin_eulers[:,0]\n",
    "origin_euler_ys = origin_eulers[:,1]\n",
    "origin_euler_xs = origin_eulers[:,2]\n",
    "\n",
    "fig, ax = plt.subplots(figsize=(12,5), ncols=3)\n",
    "sns.kdeplot(origin_euler_zs, fill=True, ax=ax[0])\n",
    "sns.rugplot(origin_euler_zs, ax=ax[0])\n",
    "ax[0].axvline(np.median(origin_euler_zs), linestyle='--')\n",
    "ax[0].set_xlabel(f'Euler z Angle (deg)\\n{np.median(origin_euler_zs):.2f} +/- {np.std(origin_euler_zs):.2f}', fontsize=14)\n",
    "ax[0].yaxis.label.set_size(14)\n",
    "\n",
    "sns.kdeplot(origin_euler_ys, fill=True, ax=ax[1])\n",
    "sns.rugplot(origin_euler_ys, ax=ax[1])\n",
    "ax[1].axvline(np.median(origin_euler_ys), linestyle='--')\n",
    "ax[1].set_xlabel(f'Euler y Angle (deg)\\n{np.median(origin_euler_ys):.2f} +/- {np.std(origin_euler_ys):.2f}', fontsize=14)\n",
    "ax[1].yaxis.label.set_size(14)\n",
    "\n",
    "sns.kdeplot(origin_euler_xs, fill=True, ax=ax[2])\n",
    "sns.rugplot(origin_euler_xs, ax=ax[2])\n",
    "ax[2].axvline(np.median(origin_euler_xs), linestyle='--')\n",
    "# ax.set_xlim(-181, -179)\n",
    "ax[2].set_xlabel(f'Euler x Angle (deg)\\n{np.median(origin_euler_xs):.2f} +/- {np.std(origin_euler_xs):.2f}', fontsize=14)\n",
    "ax[2].yaxis.label.set_size(14)\n",
    "\n",
    "fig.suptitle('Origin')\n",
    "\n",
    "timestamp = str(time.time()).replace('.', '_')\n",
    "# fig.savefig(\n",
    "#     os.path.join(\n",
    "#         f'/home/evanmayer/TIME_data/mirror_mapping/testing/{run}/results_recal/',\n",
    "#         f'{timestamp}_origin_eulers.png'\n",
    "#     ),\n",
    "#     facecolor='white',\n",
    "#     transparent=False,\n",
    "#     bbox_inches='tight'\n",
    "# )"
   ]
  },
  {
   "cell_type": "markdown",
   "metadata": {},
   "source": [
    "Use this cell if processing scan data. Otherwise, comment out."
   ]
  },
  {
   "cell_type": "code",
   "execution_count": null,
   "metadata": {},
   "outputs": [],
   "source": [
    "%autoreload\n",
    "import importlib\n",
    "\n",
    "plt.style.use('seaborn-v0_8-paper')\n",
    "importlib.reload(pg)\n",
    "\n",
    "timestamp = str(time.time()).replace('.', '_')\n",
    "\n",
    "xs, ys, commanded_pts, measured_pts, camera_dist = pg.post_process_scan(\n",
    "    img_data,\n",
    "    f'/home/evanmayer/TIME_data/mirror_mapping/testing/{run}/results_recal/',\n",
    "    os.path.join('..', 'data', 'input', 'profiles', '25in_breadboard_raster_skipline_10x10_0.40mx0.40m.csv'),\n",
    "    raft_id,\n",
    "    origin_id=origin_id,\n",
    "    timestamp=timestamp\n",
    ")\n",
    "pg.make_plots(\n",
    "    f'/home/evanmayer/TIME_data/mirror_mapping/testing/{run}/results_recal/',\n",
    "    xs,\n",
    "    ys,\n",
    "    commanded_pts,\n",
    "    measured_pts,\n",
    "    camera_dist,\n",
    "    filter_results=True,\n",
    "    timestamp=timestamp,\n",
    "    savefig=False\n",
    ")"
   ]
  },
  {
   "cell_type": "markdown",
   "metadata": {},
   "source": [
    "Use this cell if processing repeatability data. Otherwise, comment out."
   ]
  },
  {
   "cell_type": "code",
   "execution_count": null,
   "metadata": {},
   "outputs": [],
   "source": [
    "# %autoreload\n",
    "\n",
    "# timestamp = str(time.time()).replace('.', '_')\n",
    "\n",
    "# commanded_pts, measured_pts = pg.post_process_repeatability(\n",
    "#     img_data,\n",
    "#     f'/home/evanmayer/TIME_data/mirror_mapping/testing/{run}/results_recal/',\n",
    "#     os.path.join('..', 'data', 'input', 'profiles', '25in_breadboard_raster_skipline_many_tie_point_10x10_0.40mx0.40m.csv'),\n",
    "#     raft_id,\n",
    "#     origin_id=origin_id,\n",
    "#     timestamp=timestamp,\n",
    "#     savefig=False\n",
    "# )\n",
    "# pg.make_repeatability_plots(\n",
    "#     f'/home/evanmayer/TIME_data/mirror_mapping/testing/{run}/results_recal/',\n",
    "#     commanded_pts,\n",
    "#     measured_pts,\n",
    "#     timestamp=timestamp,\n",
    "#     savefig=False\n",
    "# )"
   ]
  },
  {
   "cell_type": "markdown",
   "metadata": {},
   "source": [
    "Uncomment this cell if you'd like to observe the stability of the a particular entity in the given dataset."
   ]
  },
  {
   "cell_type": "code",
   "execution_count": null,
   "metadata": {},
   "outputs": [],
   "source": [
    "# %autoreload\n",
    "\n",
    "# timestamp = str(time.time()).replace('.', '_')\n",
    "\n",
    "# measured_pts = pg.post_process_measurement_error(\n",
    "#     img_data,\n",
    "#     f'/home/evanmayer/TIME_data/mirror_mapping/testing/{run}/results_recal/',\n",
    "#     origin_id,\n",
    "#     timestamp=timestamp,\n",
    "#     savefig=False\n",
    "# )\n",
    "# pg.make_measurement_error_plots(\n",
    "#     f'/home/evanmayer/TIME_data/mirror_mapping/testing/{run}/results_recal/',\n",
    "#     measured_pts,\n",
    "#     origin_id,\n",
    "#     timestamp=timestamp,\n",
    "#     savefig=False\n",
    "# )"
   ]
  },
  {
   "cell_type": "code",
   "execution_count": null,
   "metadata": {},
   "outputs": [],
   "source": [
    "# %autoreload\n",
    "\n",
    "# timestamp = str(time.time()).replace('.', '_')\n",
    "\n",
    "# measured_pts = pg.post_process_measurement_error(\n",
    "#     img_data,\n",
    "#     f'/home/evanmayer/TIME_data/mirror_mapping/testing/{run}/results_recal/',\n",
    "#     'board',\n",
    "#     timestamp=timestamp,\n",
    "#     savefig=False\n",
    "# )\n",
    "# pg.make_measurement_error_plots(\n",
    "#     f'/home/evanmayer/TIME_data/mirror_mapping/testing/{run}/results_recal/',\n",
    "#     measured_pts,\n",
    "#     'board',\n",
    "#     timestamp=timestamp,\n",
    "#     savefig=False\n",
    "# )"
   ]
  },
  {
   "cell_type": "code",
   "execution_count": null,
   "metadata": {},
   "outputs": [],
   "source": []
  }
 ],
 "metadata": {
  "kernelspec": {
   "display_name": "Python 3 (ipykernel)",
   "language": "python",
   "name": "python3"
  },
  "language_info": {
   "codemirror_mode": {
    "name": "ipython",
    "version": 3
   },
   "file_extension": ".py",
   "mimetype": "text/x-python",
   "name": "python",
   "nbconvert_exporter": "python",
   "pygments_lexer": "ipython3",
   "version": "3.10.11"
  },
  "vscode": {
   "interpreter": {
    "hash": "6750627cd874d0c95877acff9acc62195d6a8718424fed6513219ae2f64cd542"
   }
  }
 },
 "nbformat": 4,
 "nbformat_minor": 2
}
