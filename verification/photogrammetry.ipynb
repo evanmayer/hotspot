{
 "cells": [
  {
   "cell_type": "code",
   "execution_count": 139,
   "metadata": {},
   "outputs": [],
   "source": [
    "import importlib\n",
    "import matplotlib.pyplot as plt\n",
    "import os\n",
    "import pickle\n",
    "import photogrammetry as pg\n",
    "\n",
    "# plt.style.use('seaborn-poster')\n",
    "plt.style.use('default')\n",
    "\n",
    "%matplotlib qt"
   ]
  },
  {
   "cell_type": "code",
   "execution_count": 140,
   "metadata": {},
   "outputs": [
    {
     "data": {
      "text/plain": [
       "<module 'photogrammetry' from '/home/evanmayer/github/hotspot/verification/photogrammetry.py'>"
      ]
     },
     "execution_count": 140,
     "metadata": {},
     "output_type": "execute_result"
    }
   ],
   "source": [
    "importlib.reload(pg)"
   ]
  },
  {
   "cell_type": "code",
   "execution_count": 141,
   "metadata": {},
   "outputs": [],
   "source": [
    "# check for pickled camera matrices to avoid expensive recalibration\n",
    "if not (\n",
    "    os.path.exists('camera_cal_mtx.pickle') and\n",
    "    os.path.exists('camera_cal_dist.pickle') and\n",
    "    os.path.exists('camera_cal_optimal_camera_matrix.pickle')\n",
    "):\n",
    "    # calibrate the camera for distortion\n",
    "    mtx, dist, optimal_camera_matrix, roi = pg.calibrate_camera(\n",
    "        os.path.join('input', 'camera_cal'),\n",
    "        plot=False\n",
    "    )\n",
    "    with open('camera_cal_mtx.pickle', 'wb') as f:\n",
    "        pickle.dump(mtx, f, protocol=pickle.HIGHEST_PROTOCOL)\n",
    "    with open('camera_cal_dist.pickle', 'wb') as f:\n",
    "        pickle.dump(dist, f, protocol=pickle.HIGHEST_PROTOCOL)\n",
    "    with open('camera_cal_optimal_camera_matrix.pickle', 'wb') as f:\n",
    "        pickle.dump(optimal_camera_matrix, f, protocol=pickle.HIGHEST_PROTOCOL)\n",
    "else:\n",
    "    with open('camera_cal_mtx.pickle', 'rb') as f:\n",
    "        mtx = pickle.load(f)\n",
    "    with open('camera_cal_dist.pickle', 'rb') as f:\n",
    "        dist = pickle.load(f)\n",
    "    with open('camera_cal_optimal_camera_matrix.pickle', 'rb') as f:\n",
    "        optimal_camera_matrix = pickle.load(f)"
   ]
  },
  {
   "cell_type": "code",
   "execution_count": 142,
   "metadata": {},
   "outputs": [],
   "source": [
    "image_data = pg.find_targets(\n",
    "    os.path.join('input', 'meas', 'try2'),\n",
    "    os.path.join('input', 'targets'),\n",
    "    mtx,\n",
    "    dist,\n",
    "    optimal_camera_matrix,\n",
    "    plot=False\n",
    ")"
   ]
  },
  {
   "cell_type": "code",
   "execution_count": 143,
   "metadata": {},
   "outputs": [],
   "source": [
    "plt.close('all')"
   ]
  },
  {
   "cell_type": "code",
   "execution_count": 144,
   "metadata": {},
   "outputs": [
    {
     "data": {
      "text/plain": [
       "<module 'photogrammetry' from '/home/evanmayer/github/hotspot/verification/photogrammetry.py'>"
      ]
     },
     "execution_count": 144,
     "metadata": {},
     "output_type": "execute_result"
    }
   ],
   "source": [
    "importlib.reload(pg)"
   ]
  },
  {
   "cell_type": "code",
   "execution_count": 145,
   "metadata": {},
   "outputs": [],
   "source": [
    "command_file = os.path.join('..', 'data', 'input', 'profiles', '24in_breadboard_raster_9x9_.2x.2.csv')\n",
    "pg.post_process_many_to_many(image_data, command_file)"
   ]
  },
  {
   "cell_type": "code",
   "execution_count": null,
   "metadata": {},
   "outputs": [],
   "source": []
  }
 ],
 "metadata": {
  "interpreter": {
   "hash": "3f7d6449d6e38d9464716f7867ca49d547230cad11817e08e660ed63d0553b3c"
  },
  "kernelspec": {
   "display_name": "Python 3.9.6 ('astr')",
   "language": "python",
   "name": "python3"
  },
  "language_info": {
   "codemirror_mode": {
    "name": "ipython",
    "version": 3
   },
   "file_extension": ".py",
   "mimetype": "text/x-python",
   "name": "python",
   "nbconvert_exporter": "python",
   "pygments_lexer": "ipython3",
   "version": "3.9.6"
  },
  "orig_nbformat": 4
 },
 "nbformat": 4,
 "nbformat_minor": 2
}
