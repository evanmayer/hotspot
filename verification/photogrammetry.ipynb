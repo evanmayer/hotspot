{
 "cells": [
  {
   "cell_type": "code",
   "execution_count": null,
   "metadata": {},
   "outputs": [],
   "source": [
    "import cv2\n",
    "import glob\n",
    "import matplotlib.pyplot as plt\n",
    "import numpy as np\n",
    "import os\n",
    "import pickle\n",
    "import photogrammetry as pg\n",
    "import time\n",
    "\n",
    "# %matplotlib qt\n",
    "\n",
    "plt.style.use('default')\n",
    "\n",
    "%load_ext autoreload\n",
    "%autoreload 2"
   ]
  },
  {
   "cell_type": "code",
   "execution_count": null,
   "metadata": {},
   "outputs": [],
   "source": [
    "# in case a new board type is needed\n",
    "# pg.generate_charuco_board(pg.BOARD_VERT_SHAPE, pg.BOARD_SQUARE_SIZE, pg.BOARD_ARUCO_SIZE, aruco_dict=cv2.aruco.DICT_4X4_1000, gen_png=True, invert=True)"
   ]
  },
  {
   "cell_type": "code",
   "execution_count": null,
   "metadata": {
    "scrolled": true
   },
   "outputs": [],
   "source": [
    "%autoreload 2\n",
    "\n",
    "run = '20230623_1'\n",
    "cal_path = f'/home/evanmayer/TIME_data/mirror_mapping/testing/{run}/calibration/20230629_0'\n",
    "\n",
    "extensions = ['.jpeg', '.jpg', '.JPG', '.PNG']#, '.tiff', '.TIFF']\n",
    "files = []\n",
    "for ext in extensions:\n",
    "    files += sorted(glob.glob(os.path.join(cal_path, '**/**' + ext), recursive=True))\n",
    "assert files, 'No image files found when searching for images for camera calibration.'\n",
    "\n",
    "# check for pickled camera matrices to avoid expensive recalibration\n",
    "if not (\n",
    "    os.path.exists(os.path.join(cal_path, 'camera_cal_mtx.pickle')) and\n",
    "    os.path.exists(os.path.join(cal_path, 'camera_cal_dist.pickle')) and\n",
    "    os.path.exists(os.path.join(cal_path, 'camera_cal_optimal_camera_matrix.pickle'))\n",
    "):\n",
    "    # calibrate the camera for distortion\n",
    "    mtx, dist, optimal_camera_matrix, roi = pg.calibrate_camera(\n",
    "        cal_path,\n",
    "        files,\n",
    "        square_size=pg.BOARD_SQUARE_SIZE,\n",
    "        aruco_size=pg.BOARD_ARUCO_SIZE,\n",
    "        guess_intrinsics=True,\n",
    "        plot=True,\n",
    "        savefig=False,\n",
    "        write_mrcal=False,\n",
    "    )\n",
    "\n",
    "    with open(os.path.join(cal_path, 'camera_cal_mtx.pickle'), 'wb') as f:\n",
    "        pickle.dump(mtx, f, protocol=pickle.HIGHEST_PROTOCOL)\n",
    "    with open(os.path.join(cal_path, 'camera_cal_dist.pickle'), 'wb') as f:\n",
    "        pickle.dump(dist, f, protocol=pickle.HIGHEST_PROTOCOL)\n",
    "    with open(os.path.join(cal_path, 'camera_cal_optimal_camera_matrix.pickle'), 'wb') as f:\n",
    "        pickle.dump(optimal_camera_matrix, f, protocol=pickle.HIGHEST_PROTOCOL)\n",
    "else:\n",
    "    with open(os.path.join(cal_path, 'camera_cal_mtx.pickle'), 'rb') as f:\n",
    "        mtx = pickle.load(f)\n",
    "    with open(os.path.join(cal_path, 'camera_cal_dist.pickle'), 'rb') as f:\n",
    "        dist = pickle.load(f)\n",
    "    with open(os.path.join(cal_path, 'camera_cal_optimal_camera_matrix.pickle'), 'rb') as f:\n",
    "        optimal_camera_matrix = pickle.load(f)\n",
    "\n",
    "print('Camera matrix:', mtx)\n",
    "print('Distortion matrix:', dist)\n",
    "mtx_boofcv = np.array([\n",
    "    [1653.5405560649892, 0, 2011.1627804232648],\n",
    "    [0, 1655.631444381979,  1515.845563652173],\n",
    "    [0, 0, 1]\n",
    "])\n",
    "print('Mine:\\n', cv2.calibrationMatrixValues(mtx, (4032, 3024), 1.7e-6 * 4032, 1.7e-6 * 3024))\n",
    "print('vs. BoofCV:\\n', cv2.calibrationMatrixValues(mtx_boofcv, (4032, 3024), 1.7e-6 * 4032, 1.7e-6 * 3024))\n",
    "\n",
    "print('Mine: (may not share distortion model with BoofCV)\\n', dist)\n",
    "dist_boofcv = np.array([\n",
    "    -0.001963787455093832,\n",
    "    0.0026115087601481127,\n",
    "    -0.015169613897069615,\n",
    "    0.02001275069414555,\n",
    "    -0.01121304725629186,\n",
    "    0.0023117429319429944\n",
    "])\n",
    "print('vs. BoofCV:\\n', dist_boofcv)"
   ]
  },
  {
   "attachments": {},
   "cell_type": "markdown",
   "metadata": {},
   "source": [
    "`sort_images_exif ./ ./`"
   ]
  },
  {
   "cell_type": "code",
   "execution_count": null,
   "metadata": {},
   "outputs": [],
   "source": [
    "meas_path = f'/home/evanmayer/TIME_data/mirror_mapping/testing/{run}/measurement/'\n",
    "files = []\n",
    "for ext in extensions:\n",
    "    files += sorted(glob.glob(os.path.join(meas_path, '**' + ext)))\n",
    "assert files, 'No image files found when searching for images for measurement.'\n",
    "\n",
    "# If necessary, skip some images (e.g. interleaved visits of the home position)\n",
    "# slice = np.s_[0::2] # scans\n",
    "slice = np.s_[1::2] # repeatability\n",
    "# slice = np.s_[:] # all\n",
    "files = files[slice]\n",
    "print(len(files))"
   ]
  },
  {
   "cell_type": "code",
   "execution_count": null,
   "metadata": {
    "scrolled": true
   },
   "outputs": [],
   "source": [
    "# use camera cal matrix to de-distort a few images to check\n",
    "for file in files[:2]:\n",
    "    fig, ax = plt.subplots(figsize=(12,7))\n",
    "    ax.imshow(pg.load_to_gray(file, mtx, dist), cmap='bone')"
   ]
  },
  {
   "cell_type": "code",
   "execution_count": null,
   "metadata": {},
   "outputs": [],
   "source": [
    "origin_id = 998\n",
    "raft_id = 999"
   ]
  },
  {
   "cell_type": "code",
   "execution_count": null,
   "metadata": {
    "scrolled": true
   },
   "outputs": [],
   "source": [
    "%autoreload 2\n",
    "\n",
    "img_data = pg.measure_images(files, mtx, dist, aruco_ids=[origin_id, raft_id], use_extrinsic_priors=True, plot=False)"
   ]
  },
  {
   "cell_type": "code",
   "execution_count": null,
   "metadata": {
    "scrolled": true
   },
   "outputs": [],
   "source": [
    "fig, ax = plt.subplots(figsize=(12,5), subplot_kw={'projection':'3d'})\n",
    "ax.view_init(elev=0, azim=0, roll=0)\n",
    "\n",
    "for file, entities in img_data.items():\n",
    "    for id, pose in entities.items():\n",
    "        for key, val in pose.items():\n",
    "            print(os.path.basename(file), id, key, val)\n",
    "            if key == 'tvec_rel_camera':\n",
    "            # if key == 'tvec':\n",
    "                if id == raft_id:\n",
    "                    color = 'k'\n",
    "                elif id == origin_id:\n",
    "                    color = 'b'\n",
    "                elif id == 'board':\n",
    "                    color = 'r'\n",
    "                else:\n",
    "                    continue\n",
    "                ax.scatter(\n",
    "                    val[0],\n",
    "                    val[1],\n",
    "                    val[2],\n",
    "                    color=color,\n",
    "                    # label=id,\n",
    "                    alpha=0.7\n",
    "                )\n",
    "\n",
    "ax.scatter(0,0,0, color='m', label='origin')\n",
    "# ax.legend()\n",
    "ax.set_box_aspect([1,1,1])\n",
    "origin = np.array([-0.277, 0.284, 0.360])\n",
    "sz = .4\n",
    "ax.set_xlim(-sz + origin[0], sz + origin[0])\n",
    "ax.set_ylim(-sz + origin[1], sz + origin[1])\n",
    "ax.set_zlim(-sz/10 + origin[2], sz/10 + origin[2]);"
   ]
  },
  {
   "cell_type": "code",
   "execution_count": null,
   "metadata": {},
   "outputs": [],
   "source": [
    "origin_vals = pg.unwind_img_data(img_data, 998, 'tvec')\n",
    "origin_mean = np.mean(origin_vals, axis=0)\n",
    "origin_std = np.std(origin_vals, axis=0)\n",
    "print(origin_mean, origin_std)\n",
    "\n",
    "fig, ax = plt.subplots(ncols=3)\n",
    "ax[0].scatter(origin_vals[:,0], origin_vals[:,1])\n",
    "ax[0].scatter(origin_mean[0], origin_mean[1], color='r')\n",
    "ax[0].set(xlabel='X', ylabel='Y')\n",
    "ax[1].scatter(origin_vals[:,1], origin_vals[:,2])\n",
    "ax[1].scatter(origin_mean[1], origin_mean[2], color='r')\n",
    "ax[1].set(xlabel='Y', ylabel='Z')\n",
    "ax[2].scatter(origin_vals[:,0], origin_vals[:,2])\n",
    "ax[2].scatter(origin_mean[0], origin_mean[2], color='r')\n",
    "ax[2].set(xlabel='X', ylabel='Z')\n",
    "[a.set_aspect('equal') for a in ax]\n",
    "fig.tight_layout()"
   ]
  },
  {
   "cell_type": "code",
   "execution_count": null,
   "metadata": {},
   "outputs": [],
   "source": [
    "fig, ax = plt.subplots()\n",
    "origin_zs = []\n",
    "raft_zs = []\n",
    "for file, entities in img_data.items():\n",
    "    for id, pose in entities.items():\n",
    "        for key, val in pose.items():\n",
    "            if key == 'tvec':\n",
    "                if id == origin_id:\n",
    "                    origin_zs.append(val[2])\n",
    "                elif id == raft_id:\n",
    "                    raft_zs.append(val[2])\n",
    "                else:\n",
    "                    continue\n",
    "origin_zs = np.array(origin_zs)\n",
    "raft_zs = np.array(raft_zs)\n",
    "print(origin_zs, raft_zs)\n",
    "origin_inliers = np.where(np.abs(origin_zs - np.median(origin_zs)) <= np.abs(np.median(origin_zs)) + 3. * np.nanstd(origin_zs))[0]\n",
    "raft_inliers = np.where(np.abs(raft_zs - np.median(raft_zs)) <= np.abs(np.median(raft_zs)) + 3. * np.nanstd(raft_zs))[0]\n",
    "print(len(origin_inliers))\n",
    "print(len(raft_inliers))\n",
    "ax.plot(range(len(origin_zs[origin_inliers])), origin_zs[origin_inliers]*1e3, marker='o', linestyle='none')\n",
    "ax.plot(range(len(raft_zs[raft_inliers])), raft_zs[raft_inliers]*1e3, marker='o', linestyle='none')\n",
    "print('origin std', np.nanstd(origin_zs[origin_inliers]))\n",
    "print('raft std', np.nanstd(raft_zs[raft_inliers]))\n",
    "ax.set_xlabel('Scan Number')\n",
    "ax.set_ylabel('z-position in board frame (mm)')"
   ]
  },
  {
   "cell_type": "code",
   "execution_count": null,
   "metadata": {},
   "outputs": [],
   "source": [
    "thetas = []\n",
    "euler_zs = []\n",
    "euler_ys = []\n",
    "euler_xs = []\n",
    "board_tvecs_x = []\n",
    "board_tvecs_y = []\n",
    "board_tvecs_z = []\n",
    "origin_tvecs_x = []\n",
    "origin_tvecs_y = []\n",
    "origin_tvecs_z = []\n",
    "for file in files:\n",
    "    if file in img_data.keys():\n",
    "        try:\n",
    "            theta = pg.estimate_angular_offset(img_data, file, 'board', raft_id)\n",
    "            thetas.append(theta)\n",
    "            euler_zs.append(img_data[file]['board']['euler_zyx_deg'][0])\n",
    "            euler_ys.append(img_data[file]['board']['euler_zyx_deg'][1])\n",
    "            euler_xs.append(img_data[file]['board']['euler_zyx_deg'][2])\n",
    "            board_tvecs_x.append(img_data[file]['board']['tvec_rel_camera'][0])\n",
    "            board_tvecs_y.append(img_data[file]['board']['tvec_rel_camera'][1])\n",
    "            board_tvecs_z.append(img_data[file]['board']['tvec_rel_camera'][2])\n",
    "            origin_tvecs_x.append(img_data[file][origin_id]['tvec_rel_camera'][0])\n",
    "            origin_tvecs_y.append(img_data[file][origin_id]['tvec_rel_camera'][1])\n",
    "            origin_tvecs_z.append(img_data[file][origin_id]['tvec_rel_camera'][2])\n",
    "        except:\n",
    "            pass\n",
    "thetas = np.array(thetas)\n",
    "\n",
    "fig, ax = plt.subplots()\n",
    "ax.hist(thetas, bins=50);\n",
    "\n",
    "import seaborn as sns\n",
    "\n",
    "fig, ax = plt.subplots()\n",
    "sns.kdeplot(euler_zs, fill=True, ax=ax)\n",
    "sns.rugplot(euler_zs, ax=ax)\n",
    "ax.axvline(np.mean(euler_zs), linestyle='--')\n",
    "ax.set_xlabel(f'Euler z Angle (deg)\\n{np.mean(euler_zs):.2f} +/- {np.std(euler_zs):.2f}')\n",
    "\n",
    "fig, ax = plt.subplots()\n",
    "sns.kdeplot(euler_ys, fill=True, ax=ax)\n",
    "sns.rugplot(euler_ys, ax=ax)\n",
    "ax.axvline(np.mean(euler_ys), linestyle='--')\n",
    "ax.set_xlabel(f'Euler y Angle (deg)\\n{np.mean(euler_ys):.2f} +/- {np.std(euler_ys):.2f}')\n",
    "\n",
    "fig, ax = plt.subplots()\n",
    "sns.kdeplot(euler_xs, fill=True, ax=ax)\n",
    "sns.rugplot(euler_xs, ax=ax)\n",
    "ax.axvline(np.mean(euler_xs), linestyle='--')\n",
    "# ax.set_xlim(-181, -179)\n",
    "ax.set_xlabel(f'Euler x Angle (deg)\\n{np.mean(euler_xs):.2f} +/- {np.std(euler_xs):.2f}')"
   ]
  },
  {
   "cell_type": "code",
   "execution_count": null,
   "metadata": {},
   "outputs": [],
   "source": [
    "# Error incurred at a given distance from the charuco board origin, given the variance in charuco board euler angles\n",
    "dtheta = 0.03 * np.pi / 180.\n",
    "example_dist = 0.03 * np.sqrt(2)\n",
    "example_dz = example_dist * np.tan(dtheta)\n",
    "print(example_dz * 1e3, 'mm')"
   ]
  },
  {
   "cell_type": "code",
   "execution_count": null,
   "metadata": {},
   "outputs": [],
   "source": [
    "# Expected error incurred in raft position by the joint variance of board position and raft position in the camera frame\n",
    "std_x = np.sqrt((np.std(origin_tvecs_x))**2 + (np.std(board_tvecs_x))**2)\n",
    "std_y = np.sqrt((np.std(origin_tvecs_y))**2 + (np.std(board_tvecs_y))**2)\n",
    "std_z = np.sqrt((np.std(origin_tvecs_z))**2 + (np.std(board_tvecs_z))**2)\n",
    "\n",
    "print(std_x * 1e3, std_y * 1e3, std_z * 1e3)"
   ]
  },
  {
   "cell_type": "code",
   "execution_count": null,
   "metadata": {},
   "outputs": [],
   "source": [
    "np.sqrt(np.std(origin_tvecs_x) ** 2 + np.std(origin_tvecs_y) ** 2 + np.std(origin_tvecs_z) ** 2)"
   ]
  },
  {
   "cell_type": "markdown",
   "metadata": {},
   "source": [
    "Use this cell if processing scan data. Otherwise, comment out."
   ]
  },
  {
   "cell_type": "code",
   "execution_count": null,
   "metadata": {},
   "outputs": [],
   "source": [
    "# %autoreload\n",
    "# import importlib\n",
    "\n",
    "# plt.style.use('seaborn-v0_8-paper')\n",
    "# importlib.reload(pg)\n",
    "\n",
    "# timestamp = str(time.time()).replace('.', '_')\n",
    "\n",
    "# xs, ys, commanded_pts, measured_pts, camera_dist = pg.post_process_scan(\n",
    "#     img_data,\n",
    "#     f'/home/evanmayer/TIME_data/mirror_mapping/testing/{run}/results_recal/',\n",
    "#     os.path.join('..', 'data', 'input', 'profiles', '25in_breadboard_raster_skipline_10x10_0.40mx0.40m.csv'),\n",
    "#     raft_id,\n",
    "#     origin_id=origin_id,\n",
    "#     timestamp=timestamp\n",
    "# )\n",
    "# pg.make_plots(\n",
    "#     f'/home/evanmayer/TIME_data/mirror_mapping/testing/{run}/results_recal/',\n",
    "#     xs,\n",
    "#     ys,\n",
    "#     commanded_pts,\n",
    "#     measured_pts,\n",
    "#     camera_dist,\n",
    "#     filter_results=True,\n",
    "#     timestamp=timestamp,\n",
    "#     savefig=True\n",
    "# )"
   ]
  },
  {
   "cell_type": "markdown",
   "metadata": {},
   "source": [
    "Use this cell if processing repeatability data. Otherwise, comment out."
   ]
  },
  {
   "cell_type": "code",
   "execution_count": null,
   "metadata": {},
   "outputs": [],
   "source": [
    "%autoreload\n",
    "\n",
    "timestamp = str(time.time()).replace('.', '_')\n",
    "\n",
    "commanded_pts, measured_pts = pg.post_process_repeatability(\n",
    "    img_data,\n",
    "    f'/home/evanmayer/TIME_data/mirror_mapping/testing/{run}/results_recal/',\n",
    "    os.path.join('..', 'data', 'input', 'profiles', '25in_breadboard_raster_skipline_many_tie_point_10x10_0.40mx0.40m.csv'),\n",
    "    raft_id,\n",
    "    origin_id=origin_id,\n",
    "    timestamp=timestamp,\n",
    "    savefig=False\n",
    ")\n",
    "pg.make_repeatability_plots(\n",
    "    f'/home/evanmayer/TIME_data/mirror_mapping/testing/{run}/results_recal/',\n",
    "    commanded_pts,\n",
    "    measured_pts,\n",
    "    timestamp=timestamp,\n",
    "    savefig=True\n",
    ")"
   ]
  },
  {
   "cell_type": "markdown",
   "metadata": {},
   "source": [
    "Uncomment this cell if you'd like to observe the stability of the estimated origin positions in the given dataset."
   ]
  },
  {
   "cell_type": "code",
   "execution_count": null,
   "metadata": {},
   "outputs": [],
   "source": [
    "%autoreload\n",
    "\n",
    "timestamp = str(time.time()).replace('.', '_')\n",
    "\n",
    "commanded_pts, measured_pts = pg.post_process_origin(\n",
    "    img_data,\n",
    "    f'/home/evanmayer/TIME_data/mirror_mapping/testing/{run}/results_recal/',\n",
    "    os.path.join('..', 'data', 'input', 'profiles', '25in_breadboard_raster_skipline_many_tie_point_10x10_0.40mx0.40m.csv'),\n",
    "    origin_id,\n",
    "    timestamp=timestamp,\n",
    "    savefig=False\n",
    ")\n",
    "pg.make_origin_plots(\n",
    "    f'/home/evanmayer/TIME_data/mirror_mapping/testing/{run}/results_recal/',\n",
    "    commanded_pts,\n",
    "    measured_pts,\n",
    "    timestamp=timestamp,\n",
    "    savefig=True\n",
    ")"
   ]
  },
  {
   "cell_type": "code",
   "execution_count": null,
   "metadata": {},
   "outputs": [],
   "source": []
  }
 ],
 "metadata": {
  "kernelspec": {
   "display_name": "Python 3 (ipykernel)",
   "language": "python",
   "name": "python3"
  },
  "language_info": {
   "codemirror_mode": {
    "name": "ipython",
    "version": 3
   },
   "file_extension": ".py",
   "mimetype": "text/x-python",
   "name": "python",
   "nbconvert_exporter": "python",
   "pygments_lexer": "ipython3",
   "version": "3.10.11"
  },
  "vscode": {
   "interpreter": {
    "hash": "6750627cd874d0c95877acff9acc62195d6a8718424fed6513219ae2f64cd542"
   }
  }
 },
 "nbformat": 4,
 "nbformat_minor": 2
}
