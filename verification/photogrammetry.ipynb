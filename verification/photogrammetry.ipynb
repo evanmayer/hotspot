{
 "cells": [
  {
   "cell_type": "code",
   "execution_count": 1,
   "metadata": {},
   "outputs": [],
   "source": [
    "import importlib\n",
    "import matplotlib.pyplot as plt\n",
    "import os\n",
    "import pickle\n",
    "import photogrammetry as pg\n",
    "\n",
    "# plt.style.use('seaborn-poster')\n",
    "plt.style.use('default')\n",
    "\n",
    "%matplotlib qt"
   ]
  },
  {
   "cell_type": "code",
   "execution_count": 2,
   "metadata": {},
   "outputs": [
    {
     "data": {
      "text/plain": [
       "<module 'photogrammetry' from '/home/evanmayer/github/hotspot/verification/photogrammetry.py'>"
      ]
     },
     "execution_count": 2,
     "metadata": {},
     "output_type": "execute_result"
    }
   ],
   "source": [
    "importlib.reload(pg)"
   ]
  },
  {
   "cell_type": "code",
   "execution_count": 3,
   "metadata": {},
   "outputs": [],
   "source": [
    "# check for pickled camera matrices to avoid expensive recalibration\n",
    "if not (\n",
    "    os.path.exists('camera_cal_mtx.pickle') and\n",
    "    os.path.exists('camera_cal_dist.pickle') and\n",
    "    os.path.exists('camera_cal_optimal_camera_matrix.pickle')\n",
    "):\n",
    "    # calibrate the camera for distortion\n",
    "    mtx, dist, optimal_camera_matrix, roi = pg.calibrate_camera(\n",
    "        os.path.join('input', 'camera_cal', 'charuco'),\n",
    "        method='charuco',\n",
    "        plot=False\n",
    "    )\n",
    "    with open('camera_cal_mtx.pickle', 'wb') as f:\n",
    "        pickle.dump(mtx, f, protocol=pickle.HIGHEST_PROTOCOL)\n",
    "    with open('camera_cal_dist.pickle', 'wb') as f:\n",
    "        pickle.dump(dist, f, protocol=pickle.HIGHEST_PROTOCOL)\n",
    "    with open('camera_cal_optimal_camera_matrix.pickle', 'wb') as f:\n",
    "        pickle.dump(optimal_camera_matrix, f, protocol=pickle.HIGHEST_PROTOCOL)\n",
    "else:\n",
    "    with open('camera_cal_mtx.pickle', 'rb') as f:\n",
    "        mtx = pickle.load(f)\n",
    "    with open('camera_cal_dist.pickle', 'rb') as f:\n",
    "        dist = pickle.load(f)\n",
    "    with open('camera_cal_optimal_camera_matrix.pickle', 'rb') as f:\n",
    "        optimal_camera_matrix = pickle.load(f)"
   ]
  },
  {
   "cell_type": "code",
   "execution_count": 4,
   "metadata": {},
   "outputs": [
    {
     "name": "stderr",
     "output_type": "stream",
     "text": [
      "INFO:photogrammetry:Corner detection after de-distortion in input/meas/charuco_test/IMG_9501.JPG: True\n",
      "INFO:photogrammetry:Corner detection after de-distortion in input/meas/charuco_test/IMG_9501 (copy).JPG: True\n",
      "INFO:photogrammetry:Corner detection after de-distortion in input/meas/charuco_test/IMG_9501 (another copy).JPG: True\n",
      "INFO:photogrammetry:Corner detection after de-distortion in input/meas/charuco_test/IMG_9502 (another copy).JPG: True\n",
      "INFO:photogrammetry:Corner detection after de-distortion in input/meas/charuco_test/IMG_9502 (3rd copy).JPG: True\n",
      "INFO:photogrammetry:Corner detection after de-distortion in input/meas/charuco_test/IMG_9501 (5th copy).JPG: True\n",
      "INFO:photogrammetry:Corner detection after de-distortion in input/meas/charuco_test/IMG_9501 (4th copy).JPG: True\n",
      "INFO:photogrammetry:Corner detection after de-distortion in input/meas/charuco_test/IMG_9502 (6th copy).JPG: True\n",
      "INFO:photogrammetry:Corner detection after de-distortion in input/meas/charuco_test/IMG_9501 (3rd copy).JPG: True\n",
      "INFO:photogrammetry:Corner detection after de-distortion in input/meas/charuco_test/IMG_9501 (6th copy).JPG: True\n",
      "INFO:photogrammetry:Corner detection after de-distortion in input/meas/charuco_test/IMG_9502 (5th copy).JPG: True\n",
      "INFO:photogrammetry:Corner detection after de-distortion in input/meas/charuco_test/IMG_9502 (4th copy).JPG: True\n",
      "INFO:photogrammetry:Corner detection after de-distortion in input/meas/charuco_test/IMG_9502 (copy).JPG: True\n",
      "INFO:photogrammetry:Corner detection after de-distortion in input/meas/charuco_test/IMG_9503 (3rd copy).JPG: True\n",
      "INFO:photogrammetry:Corner detection after de-distortion in input/meas/charuco_test/IMG_9503 (4th copy).JPG: True\n",
      "INFO:photogrammetry:Corner detection after de-distortion in input/meas/charuco_test/IMG_9502.JPG: True\n",
      "INFO:photogrammetry:Corner detection after de-distortion in input/meas/charuco_test/IMG_9503 (copy).JPG: True\n",
      "INFO:photogrammetry:Corner detection after de-distortion in input/meas/charuco_test/IMG_9503 (6th copy).JPG: True\n",
      "INFO:photogrammetry:Corner detection after de-distortion in input/meas/charuco_test/IMG_9503 (5th copy).JPG: True\n",
      "INFO:photogrammetry:Corner detection after de-distortion in input/meas/charuco_test/IMG_9503 (another copy).JPG: True\n",
      "INFO:photogrammetry:Corner detection after de-distortion in input/meas/charuco_test/IMG_9504 (4th copy).JPG: True\n",
      "INFO:photogrammetry:Corner detection after de-distortion in input/meas/charuco_test/IMG_9504 (3rd copy).JPG: True\n",
      "INFO:photogrammetry:Corner detection after de-distortion in input/meas/charuco_test/IMG_9504 (5th copy).JPG: True\n",
      "INFO:photogrammetry:Corner detection after de-distortion in input/meas/charuco_test/IMG_9503.JPG: True\n",
      "INFO:photogrammetry:Corner detection after de-distortion in input/meas/charuco_test/IMG_9504 (6th copy).JPG: True\n",
      "INFO:photogrammetry:Corner detection after de-distortion in input/meas/charuco_test/IMG_9504 (another copy).JPG: True\n",
      "INFO:photogrammetry:Corner detection after de-distortion in input/meas/charuco_test/IMG_9505 (3rd copy).JPG: True\n",
      "INFO:photogrammetry:Corner detection after de-distortion in input/meas/charuco_test/IMG_9505 (6th copy).JPG: True\n",
      "INFO:photogrammetry:Corner detection after de-distortion in input/meas/charuco_test/IMG_9504 (copy).JPG: True\n",
      "INFO:photogrammetry:Corner detection after de-distortion in input/meas/charuco_test/IMG_9505 (5th copy).JPG: True\n",
      "INFO:photogrammetry:Corner detection after de-distortion in input/meas/charuco_test/IMG_9504.JPG: True\n",
      "INFO:photogrammetry:Corner detection after de-distortion in input/meas/charuco_test/IMG_9505 (4th copy).JPG: True\n",
      "INFO:photogrammetry:Corner detection after de-distortion in input/meas/charuco_test/IMG_9505 (another copy).JPG: True\n",
      "INFO:photogrammetry:Corner detection after de-distortion in input/meas/charuco_test/IMG_9505 (copy).JPG: True\n",
      "INFO:photogrammetry:Corner detection after de-distortion in input/meas/charuco_test/IMG_9506 (3rd copy).JPG: True\n",
      "INFO:photogrammetry:Corner detection after de-distortion in input/meas/charuco_test/IMG_9505.JPG: True\n",
      "INFO:photogrammetry:Corner detection after de-distortion in input/meas/charuco_test/IMG_9506 (4th copy).JPG: True\n",
      "INFO:photogrammetry:Corner detection after de-distortion in input/meas/charuco_test/IMG_9506 (5th copy).JPG: True\n",
      "INFO:photogrammetry:Corner detection after de-distortion in input/meas/charuco_test/IMG_9506 (6th copy).JPG: True\n",
      "INFO:photogrammetry:Corner detection after de-distortion in input/meas/charuco_test/IMG_9506 (another copy).JPG: True\n",
      "INFO:photogrammetry:Corner detection after de-distortion in input/meas/charuco_test/IMG_9506 (copy).JPG: True\n",
      "INFO:photogrammetry:Corner detection after de-distortion in input/meas/charuco_test/IMG_9506.JPG: True\n",
      "INFO:photogrammetry:Corner detection after de-distortion in input/meas/charuco_test/IMG_9507 (3rd copy).JPG: True\n",
      "INFO:photogrammetry:Corner detection after de-distortion in input/meas/charuco_test/IMG_9507 (4th copy).JPG: True\n",
      "INFO:photogrammetry:Corner detection after de-distortion in input/meas/charuco_test/IMG_9507 (5th copy).JPG: True\n",
      "INFO:photogrammetry:Corner detection after de-distortion in input/meas/charuco_test/IMG_9507 (6th copy).JPG: True\n",
      "INFO:photogrammetry:Corner detection after de-distortion in input/meas/charuco_test/IMG_9507 (another copy).JPG: True\n",
      "INFO:photogrammetry:Corner detection after de-distortion in input/meas/charuco_test/IMG_9507 (copy).JPG: True\n",
      "INFO:photogrammetry:Corner detection after de-distortion in input/meas/charuco_test/IMG_9507.JPG: True\n"
     ]
    }
   ],
   "source": [
    "image_data_charuco_test = pg.find_targets(\n",
    "    os.path.join('input', 'meas', 'charuco_test'),\n",
    "    os.path.join('input', 'targets'),\n",
    "    mtx,\n",
    "    dist,\n",
    "    optimal_camera_matrix,\n",
    "    stride=1,\n",
    "    plot=False\n",
    ")"
   ]
  },
  {
   "cell_type": "code",
   "execution_count": 5,
   "metadata": {},
   "outputs": [],
   "source": [
    "# print(image_data)"
   ]
  },
  {
   "cell_type": "code",
   "execution_count": 11,
   "metadata": {},
   "outputs": [],
   "source": [
    "plt.close('all')"
   ]
  },
  {
   "cell_type": "code",
   "execution_count": 12,
   "metadata": {},
   "outputs": [
    {
     "data": {
      "text/plain": [
       "<module 'photogrammetry' from '/home/evanmayer/github/hotspot/verification/photogrammetry.py'>"
      ]
     },
     "execution_count": 12,
     "metadata": {},
     "output_type": "execute_result"
    }
   ],
   "source": [
    "importlib.reload(pg)"
   ]
  },
  {
   "cell_type": "code",
   "execution_count": 14,
   "metadata": {},
   "outputs": [
    {
     "name": "stderr",
     "output_type": "stream",
     "text": [
      "INFO:photogrammetry:dist of raft_target from SW\n",
      "\tmean 0.2188231145998646\n",
      "\tstd 0.00017337256997134167\n",
      "\tstd (mm) 0.17337256997134168\n",
      "\t% err 0.07922955044688361 %\n",
      "INFO:photogrammetry:8 + 19.68/32\"\n",
      "INFO:photogrammetry:dist of SE_target from SW\n",
      "\tmean 0.4605444654392554\n",
      "\tstd 0.00018593309948051204\n",
      "\tstd (mm) 0.18593309948051204\n",
      "\t% err 0.04037245335326608 %\n",
      "INFO:photogrammetry:18 + 4.21/32\"\n",
      "INFO:photogrammetry:dist of NW_target from SW\n",
      "\tmean 0.5195596119401296\n",
      "\tstd 0.00037403624736442317\n",
      "\tstd (mm) 0.37403624736442315\n",
      "\t% err 0.07199101677047302 %\n",
      "INFO:photogrammetry:20 + 14.56/32\"\n",
      "INFO:photogrammetry:dist of NE_target from SW\n",
      "\tmean 0.6629498300922072\n",
      "\tstd 0.00018706161573560384\n",
      "\tstd (mm) 0.18706161573560384\n",
      "\t% err 0.028216556856132856 %\n",
      "INFO:photogrammetry:26 + 3.21/32\"\n"
     ]
    }
   ],
   "source": [
    "command_file = os.path.join('..', 'data', 'input', 'profiles', '24in_breadboard_raster_7x7_.15x.15.csv')\n",
    "pg.post_process_many_to_many(image_data_charuco_test, command_file, ref='SW')\n",
    "# pg.post_process_many_to_one(image_data_charuco_test)"
   ]
  },
  {
   "cell_type": "code",
   "execution_count": null,
   "metadata": {},
   "outputs": [],
   "source": []
  }
 ],
 "metadata": {
  "interpreter": {
   "hash": "3f7d6449d6e38d9464716f7867ca49d547230cad11817e08e660ed63d0553b3c"
  },
  "kernelspec": {
   "display_name": "Python 3.9.6 ('astr')",
   "language": "python",
   "name": "python3"
  },
  "language_info": {
   "codemirror_mode": {
    "name": "ipython",
    "version": 3
   },
   "file_extension": ".py",
   "mimetype": "text/x-python",
   "name": "python",
   "nbconvert_exporter": "python",
   "pygments_lexer": "ipython3",
   "version": "3.9.6"
  },
  "orig_nbformat": 4
 },
 "nbformat": 4,
 "nbformat_minor": 2
}
