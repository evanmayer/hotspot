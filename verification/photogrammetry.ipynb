{
 "cells": [
  {
   "cell_type": "code",
   "execution_count": 7,
   "metadata": {},
   "outputs": [],
   "source": [
    "import importlib\n",
    "import matplotlib.pyplot as plt\n",
    "import os\n",
    "import pickle\n",
    "import photogrammetry as pg\n",
    "\n",
    "# plt.style.use('seaborn-poster')\n",
    "plt.style.use('default')\n",
    "\n",
    "%matplotlib qt"
   ]
  },
  {
   "cell_type": "code",
   "execution_count": 8,
   "metadata": {},
   "outputs": [
    {
     "data": {
      "text/plain": [
       "<module 'photogrammetry' from '/home/evanmayer/github/hotspot/verification/photogrammetry.py'>"
      ]
     },
     "execution_count": 8,
     "metadata": {},
     "output_type": "execute_result"
    }
   ],
   "source": [
    "importlib.reload(pg)"
   ]
  },
  {
   "cell_type": "code",
   "execution_count": 9,
   "metadata": {},
   "outputs": [
    {
     "name": "stderr",
     "output_type": "stream",
     "text": [
      "INFO:photogrammetry:Camera calibration charuco finding in input/camera_cal/charuco/2022-05-12 12.46 (3).jpeg: True\n",
      "INFO:photogrammetry:Camera calibration charuco finding in input/camera_cal/charuco/2022-05-12 12.46 (5).jpeg: True\n",
      "INFO:photogrammetry:Camera calibration charuco finding in input/camera_cal/charuco/2022-05-12 12.46 (6).jpeg: True\n",
      "INFO:photogrammetry:Camera calibration charuco finding in input/camera_cal/charuco/2022-05-12 12.46 (9).jpeg: True\n",
      "INFO:photogrammetry:Camera calibration charuco finding in input/camera_cal/charuco/2022-05-12 12.46.jpeg: True\n",
      "INFO:photogrammetry:Camera calibration charuco finding in input/camera_cal/charuco/2022-05-12 12.46 (4).jpeg: True\n",
      "INFO:photogrammetry:Camera calibration charuco finding in input/camera_cal/charuco/2022-05-12 12.46 (1).jpeg: True\n",
      "INFO:photogrammetry:Camera calibration charuco finding in input/camera_cal/charuco/2022-05-12 12.46 (8).jpeg: True\n",
      "INFO:photogrammetry:Camera calibration charuco finding in input/camera_cal/charuco/2022-05-12 12.46 (2).jpeg: True\n",
      "INFO:photogrammetry:Camera calibration charuco finding in input/camera_cal/charuco/2022-05-12 12.46 (7).jpeg: True\n",
      "INFO:photogrammetry:Camera calibration charuco finding in input/camera_cal/charuco/2022-05-12 12.46 (10).jpeg: True\n"
     ]
    }
   ],
   "source": [
    "# check for pickled camera matrices to avoid expensive recalibration\n",
    "if not (\n",
    "    os.path.exists('camera_cal_mtx.pickle') and\n",
    "    os.path.exists('camera_cal_dist.pickle') and\n",
    "    os.path.exists('camera_cal_optimal_camera_matrix.pickle')\n",
    "):\n",
    "    # calibrate the camera for distortion\n",
    "    mtx, dist, optimal_camera_matrix, roi = pg.calibrate_camera(\n",
    "        os.path.join('input', 'camera_cal', 'charuco'),\n",
    "        method='charuco',\n",
    "        plot=False\n",
    "    )\n",
    "    with open('camera_cal_mtx.pickle', 'wb') as f:\n",
    "        pickle.dump(mtx, f, protocol=pickle.HIGHEST_PROTOCOL)\n",
    "    with open('camera_cal_dist.pickle', 'wb') as f:\n",
    "        pickle.dump(dist, f, protocol=pickle.HIGHEST_PROTOCOL)\n",
    "    with open('camera_cal_optimal_camera_matrix.pickle', 'wb') as f:\n",
    "        pickle.dump(optimal_camera_matrix, f, protocol=pickle.HIGHEST_PROTOCOL)\n",
    "else:\n",
    "    with open('camera_cal_mtx.pickle', 'rb') as f:\n",
    "        mtx = pickle.load(f)\n",
    "    with open('camera_cal_dist.pickle', 'rb') as f:\n",
    "        dist = pickle.load(f)\n",
    "    with open('camera_cal_optimal_camera_matrix.pickle', 'rb') as f:\n",
    "        optimal_camera_matrix = pickle.load(f)"
   ]
  },
  {
   "cell_type": "code",
   "execution_count": 9,
   "metadata": {},
   "outputs": [
    {
     "name": "stderr",
     "output_type": "stream",
     "text": [
      "INFO:photogrammetry:Corner detection after de-distortion in input/meas/try7p1/IMG_9018.JPG: True\n",
      "INFO:photogrammetry:Corner detection after de-distortion in input/meas/try7p1/IMG_9017.JPG: True\n",
      "INFO:photogrammetry:Corner detection after de-distortion in input/meas/try7p1/IMG_9014.JPG: True\n",
      "INFO:photogrammetry:Corner detection after de-distortion in input/meas/try7p1/IMG_9013.JPG: True\n",
      "INFO:photogrammetry:Corner detection after de-distortion in input/meas/try7p1/IMG_9020.JPG: True\n",
      "INFO:photogrammetry:Corner detection after de-distortion in input/meas/try7p1/IMG_9015.JPG: True\n",
      "INFO:photogrammetry:Corner detection after de-distortion in input/meas/try7p1/IMG_9016.JPG: True\n",
      "INFO:photogrammetry:Corner detection after de-distortion in input/meas/try7p1/IMG_9019.JPG: True\n",
      "INFO:photogrammetry:Corner detection after de-distortion in input/meas/try7p1/IMG_9021.JPG: True\n",
      "INFO:photogrammetry:Corner detection after de-distortion in input/meas/try7p1/IMG_9022.JPG: True\n",
      "INFO:photogrammetry:Corner detection after de-distortion in input/meas/try7p1/IMG_9023.JPG: True\n",
      "INFO:photogrammetry:Corner detection after de-distortion in input/meas/try7p1/IMG_9024.JPG: True\n",
      "INFO:photogrammetry:Corner detection after de-distortion in input/meas/try7p1/IMG_9025.JPG: True\n",
      "INFO:photogrammetry:Corner detection after de-distortion in input/meas/try7p1/IMG_9026.JPG: True\n",
      "INFO:photogrammetry:Corner detection after de-distortion in input/meas/try7p1/IMG_9027.JPG: True\n",
      "INFO:photogrammetry:Corner detection after de-distortion in input/meas/try7p1/IMG_9029.JPG: True\n",
      "INFO:photogrammetry:Corner detection after de-distortion in input/meas/try7p1/IMG_9028.JPG: True\n",
      "INFO:photogrammetry:Corner detection after de-distortion in input/meas/try7p1/IMG_9031.JPG: True\n",
      "INFO:photogrammetry:Corner detection after de-distortion in input/meas/try7p1/IMG_9030.JPG: True\n",
      "INFO:photogrammetry:Corner detection after de-distortion in input/meas/try7p1/IMG_9032.JPG: True\n",
      "INFO:photogrammetry:Corner detection after de-distortion in input/meas/try7p1/IMG_9033.JPG: True\n",
      "INFO:photogrammetry:Corner detection after de-distortion in input/meas/try7p1/IMG_9034.JPG: True\n",
      "INFO:photogrammetry:Corner detection after de-distortion in input/meas/try7p1/IMG_9035.JPG: True\n",
      "INFO:photogrammetry:Corner detection after de-distortion in input/meas/try7p1/IMG_9036.JPG: True\n",
      "INFO:photogrammetry:Corner detection after de-distortion in input/meas/try7p1/IMG_9037.JPG: True\n",
      "INFO:photogrammetry:Corner detection after de-distortion in input/meas/try7p1/IMG_9038.JPG: True\n",
      "INFO:photogrammetry:Corner detection after de-distortion in input/meas/try7p1/IMG_9040.JPG: True\n",
      "INFO:photogrammetry:Corner detection after de-distortion in input/meas/try7p1/IMG_9039.JPG: True\n",
      "INFO:photogrammetry:Corner detection after de-distortion in input/meas/try7p1/IMG_9041.JPG: True\n",
      "INFO:photogrammetry:Corner detection after de-distortion in input/meas/try7p1/IMG_9042.JPG: True\n",
      "INFO:photogrammetry:Corner detection after de-distortion in input/meas/try7p1/IMG_9043.JPG: True\n",
      "INFO:photogrammetry:Corner detection after de-distortion in input/meas/try7p1/IMG_9044.JPG: True\n",
      "INFO:photogrammetry:Corner detection after de-distortion in input/meas/try7p1/IMG_9045.JPG: True\n",
      "INFO:photogrammetry:Corner detection after de-distortion in input/meas/try7p1/IMG_9046.JPG: True\n",
      "INFO:photogrammetry:Corner detection after de-distortion in input/meas/try7p1/IMG_9047.JPG: True\n",
      "INFO:photogrammetry:Corner detection after de-distortion in input/meas/try7p1/IMG_9048.JPG: True\n",
      "INFO:photogrammetry:Corner detection after de-distortion in input/meas/try7p1/IMG_9049.JPG: True\n",
      "INFO:photogrammetry:Corner detection after de-distortion in input/meas/try7p1/IMG_9050.JPG: True\n",
      "INFO:photogrammetry:Corner detection after de-distortion in input/meas/try7p1/IMG_9051.JPG: True\n",
      "INFO:photogrammetry:Corner detection after de-distortion in input/meas/try7p1/IMG_9053.JPG: True\n",
      "INFO:photogrammetry:Corner detection after de-distortion in input/meas/try7p1/IMG_9054.JPG: True\n",
      "INFO:photogrammetry:Corner detection after de-distortion in input/meas/try7p1/IMG_9052.JPG: True\n",
      "INFO:photogrammetry:Corner detection after de-distortion in input/meas/try7p1/IMG_9056.JPG: True\n",
      "INFO:photogrammetry:Corner detection after de-distortion in input/meas/try7p1/IMG_9055.JPG: True\n",
      "INFO:photogrammetry:Corner detection after de-distortion in input/meas/try7p1/IMG_9057.JPG: True\n",
      "INFO:photogrammetry:Corner detection after de-distortion in input/meas/try7p1/IMG_9058.JPG: True\n",
      "INFO:photogrammetry:Corner detection after de-distortion in input/meas/try7p1/IMG_9060.JPG: True\n",
      "INFO:photogrammetry:Corner detection after de-distortion in input/meas/try7p1/IMG_9059.JPG: True\n",
      "INFO:photogrammetry:Corner detection after de-distortion in input/meas/try7p1/IMG_9061.JPG: True\n"
     ]
    }
   ],
   "source": [
    "image_data_try7p1 = pg.find_targets(\n",
    "    os.path.join('input', 'meas', 'try7p1'),\n",
    "    os.path.join('input', 'targets'),\n",
    "    mtx,\n",
    "    dist,\n",
    "    optimal_camera_matrix,\n",
    "    stride=1,\n",
    "    plot=False\n",
    ")"
   ]
  },
  {
   "cell_type": "code",
   "execution_count": 5,
   "metadata": {},
   "outputs": [],
   "source": [
    "# print(image_data)"
   ]
  },
  {
   "cell_type": "code",
   "execution_count": 22,
   "metadata": {},
   "outputs": [],
   "source": [
    "plt.close('all')"
   ]
  },
  {
   "cell_type": "code",
   "execution_count": 20,
   "metadata": {},
   "outputs": [
    {
     "data": {
      "text/plain": [
       "<module 'photogrammetry' from '/home/evanmayer/github/hotspot/verification/photogrammetry.py'>"
      ]
     },
     "execution_count": 20,
     "metadata": {},
     "output_type": "execute_result"
    }
   ],
   "source": [
    "importlib.reload(pg)"
   ]
  },
  {
   "cell_type": "code",
   "execution_count": 21,
   "metadata": {},
   "outputs": [],
   "source": [
    "command_file = os.path.join('..', 'data', 'input', 'profiles', '24in_breadboard_raster_7x7_.15x.15.csv')\n",
    "pg.post_process_many_to_many(image_data_try7, command_file, ref='SW')\n",
    "# pg.post_process_many_to_one(image_data)"
   ]
  },
  {
   "cell_type": "code",
   "execution_count": null,
   "metadata": {},
   "outputs": [],
   "source": []
  }
 ],
 "metadata": {
  "interpreter": {
   "hash": "3f7d6449d6e38d9464716f7867ca49d547230cad11817e08e660ed63d0553b3c"
  },
  "kernelspec": {
   "display_name": "Python 3.9.6 ('astr')",
   "language": "python",
   "name": "python3"
  },
  "language_info": {
   "codemirror_mode": {
    "name": "ipython",
    "version": 3
   },
   "file_extension": ".py",
   "mimetype": "text/x-python",
   "name": "python",
   "nbconvert_exporter": "python",
   "pygments_lexer": "ipython3",
   "version": "3.9.6"
  },
  "orig_nbformat": 4
 },
 "nbformat": 4,
 "nbformat_minor": 2
}
