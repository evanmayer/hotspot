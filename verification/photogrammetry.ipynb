{
 "cells": [
  {
   "cell_type": "code",
   "execution_count": null,
   "metadata": {},
   "outputs": [],
   "source": [
    "import importlib\n",
    "import json\n",
    "import matplotlib.pyplot as plt\n",
    "import os\n",
    "import pickle\n",
    "import photogrammetry as pg\n",
    "\n",
    "plt.style.use('seaborn-poster')\n",
    "# plt.style.use('default')"
   ]
  },
  {
   "cell_type": "code",
   "execution_count": null,
   "metadata": {},
   "outputs": [],
   "source": [
    "importlib.reload(pg)"
   ]
  },
  {
   "cell_type": "code",
   "execution_count": null,
   "metadata": {},
   "outputs": [],
   "source": [
    "# check for pickled camera matrices to avoid expensive recalibration\n",
    "if not (\n",
    "    os.path.exists('camera_cal_mtx.pickle') and\n",
    "    os.path.exists('camera_cal_dist.pickle') and\n",
    "    os.path.exists('camera_cal_optimal_camera_matrix.pickle')\n",
    "):\n",
    "    # calibrate the camera for distortion\n",
    "    mtx, dist, optimal_camera_matrix, roi = pg.calibrate_camera(\n",
    "        os.path.join('input', 'camera_cal'),\n",
    "        method='charuco',\n",
    "        plot=False\n",
    "    )\n",
    "    with open('camera_cal_mtx.pickle', 'wb') as f:\n",
    "        pickle.dump(mtx, f, protocol=pickle.HIGHEST_PROTOCOL)\n",
    "    with open('camera_cal_dist.pickle', 'wb') as f:\n",
    "        pickle.dump(dist, f, protocol=pickle.HIGHEST_PROTOCOL)\n",
    "    with open('camera_cal_optimal_camera_matrix.pickle', 'wb') as f:\n",
    "        pickle.dump(optimal_camera_matrix, f, protocol=pickle.HIGHEST_PROTOCOL)\n",
    "else:\n",
    "    with open('camera_cal_mtx.pickle', 'rb') as f:\n",
    "        mtx = pickle.load(f)\n",
    "    with open('camera_cal_dist.pickle', 'rb') as f:\n",
    "        dist = pickle.load(f)\n",
    "    with open('camera_cal_optimal_camera_matrix.pickle', 'rb') as f:\n",
    "        optimal_camera_matrix = pickle.load(f)"
   ]
  },
  {
   "cell_type": "code",
   "execution_count": null,
   "metadata": {},
   "outputs": [],
   "source": [
    "importlib.reload(pg)\n",
    "\n",
    "image_data_charuco = pg.find_targets(\n",
    "    os.path.join('input', 'meas', '20220804', '10x10_0.30x0.30_20220804_r5'),\n",
    "    os.path.join('input', 'targets'),\n",
    "    mtx,\n",
    "    dist,\n",
    "    optimal_camera_matrix,\n",
    "    stride=1,\n",
    "    plot=False\n",
    ")"
   ]
  },
  {
   "cell_type": "code",
   "execution_count": null,
   "metadata": {},
   "outputs": [],
   "source": [
    "# plt.close('all')"
   ]
  },
  {
   "cell_type": "code",
   "execution_count": null,
   "metadata": {},
   "outputs": [],
   "source": [
    "# print(image_data_charuco)"
   ]
  },
  {
   "cell_type": "code",
   "execution_count": null,
   "metadata": {},
   "outputs": [],
   "source": [
    "importlib.reload(pg)\n",
    "command_file = os.path.join('..', 'data', 'input', 'profiles', '24in_breadboard_raster_skipline_10x10_0.30x0.30.csv')\n",
    "pg.post_process_many_to_many(image_data_charuco, command_file, ref='SW', SW_offset=(.05822, .18449))\n",
    "# pg.post_process_many_to_one(image_data_charuco)"
   ]
  },
  {
   "cell_type": "code",
   "execution_count": null,
   "metadata": {},
   "outputs": [],
   "source": [
    "# with open('output/18x18_.2x.2_20220721_r1_location_data.json', mode='w') as f:\n",
    "#     s = json.dumps(image_data_charuco)\n",
    "#     f.write(s)"
   ]
  },
  {
   "cell_type": "code",
   "execution_count": null,
   "metadata": {},
   "outputs": [],
   "source": [
    "pixel_scales = []\n",
    "for img, img_data in image_data_charuco.items():\n",
    "    if os.path.exists(img):\n",
    "        pixel_scales.append(img_data['px_per_m'] / 1000.)\n",
    "f = plt.figure()\n",
    "ax = plt.axes()\n",
    "ax.hist(pixel_scales, edgecolor='k')\n",
    "ax.set_xlabel('Pixels per millimeter')\n",
    "ax.set_ylabel('Counts')\n",
    "ax.ticklabel_format(axis='x', useOffset=False)\n",
    "plt.show()"
   ]
  },
  {
   "cell_type": "code",
   "execution_count": null,
   "metadata": {},
   "outputs": [],
   "source": []
  },
  {
   "cell_type": "code",
   "execution_count": null,
   "metadata": {},
   "outputs": [],
   "source": []
  }
 ],
 "metadata": {
  "kernelspec": {
   "display_name": "Python 3 (ipykernel)",
   "language": "python",
   "name": "python3"
  },
  "language_info": {
   "codemirror_mode": {
    "name": "ipython",
    "version": 3
   },
   "file_extension": ".py",
   "mimetype": "text/x-python",
   "name": "python",
   "nbconvert_exporter": "python",
   "pygments_lexer": "ipython3",
   "version": "3.10.5"
  },
  "vscode": {
   "interpreter": {
    "hash": "6750627cd874d0c95877acff9acc62195d6a8718424fed6513219ae2f64cd542"
   }
  }
 },
 "nbformat": 4,
 "nbformat_minor": 2
}
