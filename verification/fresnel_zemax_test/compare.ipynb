{
 "cells": [
  {
   "cell_type": "code",
   "execution_count": null,
   "metadata": {},
   "outputs": [],
   "source": [
    "import matplotlib.pyplot as plt\n",
    "import numpy as np\n",
    "import poppy\n",
    "import astropy.units as u\n",
    "import astropy.constants as c\n",
    "\n",
    "%matplotlib widget"
   ]
  },
  {
   "cell_type": "code",
   "execution_count": null,
   "metadata": {},
   "outputs": [],
   "source": [
    "plt.close('all')\n",
    "npix = 128\n",
    "pupil_radius = u.m * 0.046875\n",
    "\n",
    "print(pupil_radius)\n",
    "lambd = 922. * u.micron\n",
    "\n",
    "# define wavefront\n",
    "wf = poppy.FresnelWavefront(pupil_radius, wavelength=lambd, npix=npix, oversample=(5 + 1/3))\n",
    "# define entrance pupil\n",
    "wf *= poppy.CircularAperture(radius=pupil_radius)\n",
    "\n",
    "plt.figure(figsize=(12,5))\n",
    "wf.display('both',colorbar=True, showpadding=True)\n",
    "plt.suptitle(\"Entrance Pupil\", fontsize=18)\n",
    "\n",
    "z = 1. * u.m\n",
    "wf.propagate_fresnel(z)\n",
    "\n",
    "plt.figure(figsize=(12,5))\n",
    "wf.display('both',colorbar=True, vmax_wfe=np.pi)\n",
    "plt.suptitle(\"After propagating {}\".format(z), fontsize=18)\n",
    "ax0 = plt.gca()\n",
    "\n",
    "plt.figure(figsize=(12,5))\n",
    "y, x = wf.coordinates()\n",
    "plt.plot(x[wf.intensity.shape[1]//2,:], wf.intensity[wf.intensity.shape[1]//2,:])\n",
    "plt.title(\"Cut through PSF at z={:0.2e}\".format(z))\n",
    "plt.xlabel('Position [m]')\n",
    "plt.ylabel('Intensity relative to entrance pupil')\n",
    "ax1 = plt.gca()\n",
    "\n",
    "print(wf.intensity.shape)"
   ]
  },
  {
   "cell_type": "markdown",
   "metadata": {},
   "source": [
    "Load test data: propagation of a disk aperture along some arbitrary axis to a flat plane aligned with the source plane."
   ]
  },
  {
   "cell_type": "code",
   "execution_count": null,
   "metadata": {},
   "outputs": [],
   "source": [
    "data = np.load('arb_angle_results.npz')\n",
    "xx_img = data['xx_img']\n",
    "yy_img = data['yy_img']\n",
    "dest_prime = data['dest_prime']\n",
    "fresnel_img = data['fresnel_img']\n",
    "intensity = np.abs(fresnel_img) ** 2.\n",
    "dest_prime_grid = dest_prime.reshape((xx_img.shape[0], xx_img.shape[1], 3))\n",
    "\n",
    "stride = 1\n",
    "fig, axes = plt.subplots(figsize=(12,5), nrows=1, ncols=2)\n",
    "im = axes[0].pcolormesh(\n",
    "    xx_img[::stride, ::stride],\n",
    "    yy_img[::stride, ::stride],\n",
    "    intensity[::stride, ::stride],\n",
    "    cmap='Greys_r'\n",
    ")\n",
    "fig.colorbar(im, ax=axes[0])\n",
    "axes[0].set_aspect('equal')\n",
    "axes[0].set_xlim(ax0.get_xlim())\n",
    "axes[0].set_ylim(ax0.get_ylim())\n",
    "\n",
    "im = axes[1].pcolormesh(\n",
    "    xx_img[::stride, ::stride],\n",
    "    yy_img[::stride, ::stride],\n",
    "    np.angle(fresnel_img[::stride, ::stride]),\n",
    "    cmap='RdBu_r'\n",
    ")\n",
    "fig.colorbar(im, ax=axes[1])\n",
    "axes[1].set_aspect('equal')\n",
    "axes[0].set_xlim(ax0.get_xlim())\n",
    "axes[0].set_ylim(ax0.get_ylim())\n",
    "\n",
    "ax1.plot(xx_img[intensity.shape[1]//2,:], intensity[intensity.shape[1]//2,:])\n",
    "\n",
    "print(intensity.shape)"
   ]
  },
  {
   "cell_type": "code",
   "execution_count": null,
   "metadata": {},
   "outputs": [],
   "source": [
    "fig, axes = plt.subplots(figsize=(12,5), nrows=1, ncols=2)\n",
    "im = axes[0].pcolormesh(\n",
    "    xx_img[::stride, ::stride],\n",
    "    yy_img[::stride, ::stride],\n",
    "    (wf.intensity - intensity[::stride, ::stride]),\n",
    "    cmap='Greys_r'\n",
    ")\n",
    "fig.colorbar(im, ax=axes[0])\n",
    "axes[0].set_aspect('equal')\n",
    "axes[0].set_xlim(ax0.get_xlim())\n",
    "axes[0].set_ylim(ax0.get_ylim())\n",
    "\n",
    "im = axes[1].pcolormesh(\n",
    "    xx_img[::stride, ::stride],\n",
    "    yy_img[::stride, ::stride],\n",
    "    wf.phase - np.angle(fresnel_img[::stride, ::stride]),\n",
    "    cmap='RdBu_r'\n",
    ")\n",
    "fig.colorbar(im, ax=axes[1])\n",
    "axes[1].set_aspect('equal')"
   ]
  },
  {
   "cell_type": "code",
   "execution_count": null,
   "metadata": {},
   "outputs": [],
   "source": [
    "plt.figure(figsize=(12,5))\n",
    "plt.plot(xx_img[intensity.shape[1]//2,:], (wf.intensity[wf.intensity.shape[1] // 2,:] - intensity[intensity.shape[1] // 2,:]))\n",
    "plt.title('Diff')\n",
    "plt.xlabel('Position [m]')\n",
    "plt.ylabel('Intensity relative to entrance pupil')\n",
    "plt.gca().set_xlim(ax1.get_xlim())"
   ]
  },
  {
   "cell_type": "code",
   "execution_count": null,
   "metadata": {},
   "outputs": [],
   "source": []
  }
 ],
 "metadata": {
  "kernelspec": {
   "display_name": "Python 3.9.6 ('astr')",
   "language": "python",
   "name": "python3"
  },
  "language_info": {
   "codemirror_mode": {
    "name": "ipython",
    "version": 3
   },
   "file_extension": ".py",
   "mimetype": "text/x-python",
   "name": "python",
   "nbconvert_exporter": "python",
   "pygments_lexer": "ipython3",
   "version": "3.9.6"
  },
  "orig_nbformat": 4,
  "vscode": {
   "interpreter": {
    "hash": "e39184a2566919545282b6b2defdf46c96b16b608248dc8f5587d40e05783a53"
   }
  }
 },
 "nbformat": 4,
 "nbformat_minor": 2
}
