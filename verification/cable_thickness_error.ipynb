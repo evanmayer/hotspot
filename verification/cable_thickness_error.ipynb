{
 "cells": [
  {
   "cell_type": "code",
   "execution_count": 1,
   "metadata": {},
   "outputs": [
    {
     "name": "stdout",
     "output_type": "stream",
     "text": [
      "Using matplotlib backend: <object object at 0x000001E5F3B88EB0>\n"
     ]
    }
   ],
   "source": [
    "# Assuming an infinitesimally small raft, and a spool whose diameter is determined entirely by\n",
    "#  how much string is wound onto it, calculate the cable length error incurred by assuming a \n",
    "# constant diameter.\n",
    "import matplotlib.pyplot as plt\n",
    "import numpy as np\n",
    "\n",
    "# %matplotlib"
   ]
  },
  {
   "cell_type": "markdown",
   "metadata": {},
   "source": [
    "In order to compute the total length error incurred by not considering a non-ideal spool of starting radius $r_0$ (one for which for which the radius changes according to the change in angle due to thread spooled onto it), start with the arc length formula:\n",
    "\n",
    "$$\n",
    "s = r_0 \\theta \n",
    "$$\n",
    "\n",
    "Then, taking the convention that a positive angular change produces a positive change in length of thread played out $ds$, for a small change in angle $d\\theta$,\n",
    "\n",
    "$$\n",
    "\\frac{ds}{d\\theta} = \\frac{d}{d\\theta}(r_0 \\theta)\n",
    "$$\n",
    "\n",
    "$$\n",
    "\\frac{ds}{d\\theta} = \\frac{dr}{d\\theta}\\theta + r_0 \\frac{d\\theta}{d\\theta} = \\frac{dr}{d\\theta}\\theta + r_0,\n",
    "$$\n",
    "\n",
    "recognizing that for an ideal spool, $\\frac{dr}{d\\theta} = 0$, so this reduces to\n",
    "\n",
    "$$\n",
    "\\frac{ds}{d\\theta} = r_0,\n",
    "$$\n",
    "\n",
    "$$\n",
    "\\therefore ds = r_0 {d\\theta}\n",
    "$$\n",
    "\n",
    "as expected. For a non-ideal spool, approximate the effect of accumulating layers of thread by the relation\n",
    "\n",
    "$$\n",
    "\\frac{dr}{d\\theta} \\sim k,\n",
    "$$\n",
    "\n",
    "and $k < 0$ by the convention above. Then we have\n",
    "\n",
    "$$\n",
    "\\frac{ds}{d\\theta} = k\\theta + r_0\n",
    "$$\n",
    "\n",
    "We can then solve for the actual amount of thread, $s$, played out or retracted for a given change in angle by integrating over a range of angles:\n",
    "\n",
    "$$\n",
    "\\int ds = \\int_{\\theta_0}^{\\theta_1} k \\theta d\\theta + \\int_{\\theta_0}^{\\theta_1} r_0 d\\theta,\n",
    "$$\n",
    "\n",
    "$$\n",
    "s = \\frac{k}{2} (\\theta_1^2 - \\theta_0^2) + r_0 (\\theta_1 - \\theta_0).\n",
    "$$\n",
    "\n",
    "We should now recognize two terms: the left hand non-ideal error term, $\\frac{k}{2} (\\theta_1^2 - \\theta_0^2)$, which corrects the ideal term, $r_0 (\\theta_1 - \\theta_0)$. "
   ]
  },
  {
   "cell_type": "code",
   "execution_count": 2,
   "metadata": {},
   "outputs": [
    {
     "name": "stdout",
     "output_type": "stream",
     "text": [
      "cable lengths before:\n",
      " [[0.635      0.        ]\n",
      " [0.99190171 0.762     ]]\n",
      "-1.9894367886486917e-06\n"
     ]
    }
   ],
   "source": [
    "aspect_ratio = 1.2 # w:h\n",
    "h = 25. * 0.0254 # 25\" in meters\n",
    "w = aspect_ratio * h\n",
    "# eyelet positions\n",
    "sw = (0,0)\n",
    "nw = (0,h)\n",
    "se = (w,0)\n",
    "ne = (w,h)\n",
    "# surf corners\n",
    "surf_corners = np.array([[sw, nw], [se, ne]])\n",
    "# raft centroid position - this starting position is the \"zero point\" of reference for cable length changes\n",
    "# assume all cable lengths are known perfectly at this position.\n",
    "init_pos = nw#(.5,.5)\n",
    "# raft corners\n",
    "raft_corners = np.array([[init_pos, init_pos], [init_pos, init_pos]])\n",
    "# starting cable lengths\n",
    "before = np.linalg.norm(raft_corners - surf_corners, axis=-1)\n",
    "print('cable lengths before:\\n', before)\n",
    "# let spool radii be equal when all cable lengths are equal\n",
    "# # valid if all spools have the same amount of thread spooled on them to begin with.\n",
    "r_sw, r_nw, r_se, r_ne = 4 * [0.0302 / 2.] # m\n",
    "r_spools = np.array([[r_sw, r_nw], [r_se, r_ne]])\n",
    "# define dr/domega, the rate of radius change for a change in angle\n",
    "# ~0.0001 m change in diameter for 4 rotations estimated by Evan\n",
    "# convention: \"positive\" rotations produce longer cables, so dr/dth < 0 by losing spooled up cable.\n",
    "k = -(0.0001 / 2.) / (4. * 2. * np.pi)\n",
    "print(k)"
   ]
  },
  {
   "cell_type": "code",
   "execution_count": 3,
   "metadata": {},
   "outputs": [],
   "source": [
    "xs = np.linspace(sw[0], se[0], num=20)\n",
    "ys = np.linspace(sw[1], nw[1], num=20)\n",
    "\n",
    "sw_errs = np.zeros((len(xs), len(ys)))\n",
    "nw_errs = np.zeros(sw_errs.shape)\n",
    "ne_errs = np.zeros(sw_errs.shape)\n",
    "se_errs = np.zeros(sw_errs.shape)\n",
    "\n",
    "for i, x in enumerate(xs):\n",
    "    for j, y in enumerate(ys):\n",
    "        pos = (x,y)\n",
    "        raft_corners = np.array([[pos, pos], [pos, pos]])\n",
    "        after = np.linalg.norm(raft_corners - surf_corners, axis=-1)\n",
    "        # determine \"perfect spool\" radians required to produce the necessary cable length change\n",
    "        s = after - before\n",
    "        # s = r theta\n",
    "        dth = s / (r_spools) # the angle command issued to motors under the ideal assumption\n",
    "        # calculate error term as described above to find the cable length error incurred by assuming an ideal spool\n",
    "        # consider only one move for now - start with theta0 = 0, theta1 = deltatheta.\n",
    "        ds = (k / 2.) * np.sign(dth) * (dth ** 2.)\n",
    "        # print('radius change after move:\\n', dr)\n",
    "        sw_errs[i][j] = ds[0][0]\n",
    "        nw_errs[i][j] = ds[1][0]\n",
    "        se_errs[i][j] = ds[0][1]\n",
    "        ne_errs[i][j] = ds[1][1]"
   ]
  },
  {
   "cell_type": "code",
   "execution_count": 4,
   "metadata": {},
   "outputs": [
    {
     "data": {
      "text/plain": [
       "<matplotlib.colorbar.Colorbar at 0x1e5f9eb7af0>"
      ]
     },
     "execution_count": 4,
     "metadata": {},
     "output_type": "execute_result"
    }
   ],
   "source": [
    "X,Y = np.meshgrid(xs, ys)\n",
    "\n",
    "fig, axs = plt.subplots(nrows=2, ncols=2, figsize=(10,8))\n",
    "fig.suptitle('How much cable length error accumulated from each spool \\nafter a single move to each position?')\n",
    "kwargs = {\n",
    "    'cmap': 'Spectral',\n",
    "    'vmin': np.min([sw_errs.min(), nw_errs.min(), se_errs.min(), ne_errs.min()]),\n",
    "    'vmax': np.max([sw_errs.max(), nw_errs.max(), se_errs.max(), ne_errs.max()])\n",
    "}\n",
    "im = axs[1][0].pcolormesh(X, Y, sw_errs, **kwargs)\n",
    "axs[1][0].set_title('SW')\n",
    "\n",
    "im = axs[0][0].pcolormesh(X, Y, nw_errs, **kwargs)\n",
    "axs[0][0].set_title('NW')\n",
    "\n",
    "im = axs[1][1].pcolormesh(X, Y, se_errs, **kwargs)\n",
    "axs[1][1].set_title('SE')\n",
    "\n",
    "im = axs[0][1].pcolormesh(X, Y, ne_errs, **kwargs)\n",
    "axs[0][1].set_title('NE')\n",
    "\n",
    "for i in range(axs.shape[0]):\n",
    "    for j in range(axs.shape[1]):\n",
    "        axs[i][j].scatter(init_pos[0], init_pos[1], edgecolor='w', facecolor='k', label='Initial\\nPosition')\n",
    "        axs[i][j].set_xlabel('X-position (m)')\n",
    "        axs[i][j].set_ylabel('Y-position (m)')\n",
    "        axs[i][j].set_aspect('equal')\n",
    "# fig.tight_layout()\n",
    "axs[0][1].legend(loc='best')\n",
    "# https://stackoverflow.com/a/13784887\n",
    "fig.subplots_adjust(right=0.8)\n",
    "cbar_ax = fig.add_axes([0.85, 0.14, 0.03, 0.7])\n",
    "fig.colorbar(im, cax=cbar_ax, label='Length Error (m)')\n",
    "\n",
    "# plt.show()"
   ]
  },
  {
   "cell_type": "code",
   "execution_count": 5,
   "metadata": {},
   "outputs": [],
   "source": [
    "# s = np.linspace(-1, 1, num=100)\n",
    "# thets_pos = -r_sw + np.sqrt(2. * k * s + r_sw ** 2.) / k\n",
    "# thets_neg = -r_sw - np.sqrt(2. * k * s + r_sw ** 2.) / k\n",
    "\n",
    "# ax = plt.axes()\n",
    "# ax.plot(thets_pos-thets_pos.mean(), s)\n",
    "# ax.plot(thets_neg-thets_neg.mean(), s)"
   ]
  },
  {
   "cell_type": "code",
   "execution_count": 6,
   "metadata": {},
   "outputs": [],
   "source": [
    "# ax = plt.axes()\n",
    "# for r in np.linspace(.01, .1, num=200):\n",
    "#     print(r)\n",
    "#     ax.plot(s, np.sqrt(2. * k * s + r ** 2.))"
   ]
  },
  {
   "cell_type": "code",
   "execution_count": 7,
   "metadata": {},
   "outputs": [
    {
     "name": "stdout",
     "output_type": "stream",
     "text": [
      "Groups: <KeysViewHDF5 ['LabJack Cmd', 'algorithm']>\n",
      "Datasets: <KeysViewHDF5 ['Addresses Turned On', 'Local Time (s)']>\n",
      "Datasets: <KeysViewHDF5 ['Local Time (s)', 'Motor Delta Angle Command (rad)', 'Position Command (m)', 'Spool Radius Angle Correction (rad)']>\n"
     ]
    }
   ],
   "source": [
    "import h5py\n",
    "\n",
    "f = h5py.File('..\\data\\output\\hotspot_20220120-215653.hdf5')\n",
    "fig0 = plt.figure()\n",
    "ax0 = plt.axes()\n",
    "\n",
    "print('Groups:', f.keys())\n",
    "for group in f.keys():\n",
    "    print('Datasets:', f[group].keys())\n",
    "\n",
    "rads = f['algorithm']['Spool Radius Angle Correction (rad)']\n",
    "ax0.plot(rads)\n",
    "\n",
    "plt.show()"
   ]
  },
  {
   "cell_type": "code",
   "execution_count": null,
   "metadata": {},
   "outputs": [],
   "source": []
  }
 ],
 "metadata": {
  "interpreter": {
   "hash": "09fc14451d3f6ce9712c149e1b894929c86f252f3351a0a48bccbd738cf13a3d"
  },
  "kernelspec": {
   "display_name": "Python 3.9.6 64-bit ('astr': conda)",
   "language": "python",
   "name": "python3"
  },
  "language_info": {
   "codemirror_mode": {
    "name": "ipython",
    "version": 3
   },
   "file_extension": ".py",
   "mimetype": "text/x-python",
   "name": "python",
   "nbconvert_exporter": "python",
   "pygments_lexer": "ipython3",
   "version": "3.9.6"
  },
  "orig_nbformat": 4
 },
 "nbformat": 4,
 "nbformat_minor": 2
}
