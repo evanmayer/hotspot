{
 "cells": [
  {
   "cell_type": "code",
   "execution_count": null,
   "metadata": {},
   "outputs": [],
   "source": [
    "import matplotlib.pyplot as plt\n",
    "import numpy as np"
   ]
  },
  {
   "cell_type": "code",
   "execution_count": null,
   "metadata": {},
   "outputs": [],
   "source": [
    "# all dims in meters\n",
    "IN_TO_METERS = 0.0254\n",
    "# https://www.dropbox.com/sh/bcnsqxhntwaoxdq/AABFhMAjY68ykwWP5YUB-46za?dl=0&preview=26624a+MIRROR+P1.pdf\n",
    "# Which dim is considered X and which is Y will depend on how the mapper is mounted on the mirror.\n",
    "# Verify this before using the files.\n",
    "MIRRORS = {\n",
    "    'P1': np.array([23.622, 19.685]) * IN_TO_METERS,\n",
    "    'K1': np.array([23.622, 18.110]) * IN_TO_METERS,\n",
    "    'K2': np.array([25.591, 25.591]) * IN_TO_METERS,\n",
    "    'K3': np.array([29.530, 21.650]) * IN_TO_METERS,\n",
    "    'F1': np.array([31.496, 18.110]) * IN_TO_METERS,\n",
    "    '24in_breadboard': np.array([24.000, 24.000]) * IN_TO_METERS,\n",
    "    '25in_breadboard': np.array([24.000, 25.000]) * IN_TO_METERS,\n",
    "    # P2 not accessible, not mapped\n",
    "}\n",
    "\n",
    "GEOMETRY_HEADER = 'sw_0,sw_1,nw_0,nw_1,se_0,se_1,ne_0,ne_1,w,h\\n'"
   ]
  },
  {
   "cell_type": "code",
   "execution_count": null,
   "metadata": {},
   "outputs": [],
   "source": [
    "# The N-S (y) distance from the contact patch of the perforated aluminum extrusion frame with the mirror edge\n",
    "# to the eyelet the fishing line passes through\n",
    "Y_EYELET_DIST = 0.07788 # see HOWTO.md for the measurement/derivation\n",
    "# The x-positions of each eyelet should be fixed, but if the motor mount brackets are moved to other \n",
    "# holes in the aluminum extrusions, these positions may need to be edited after re-measuring.\n",
    "# The SW corner of the frame is the one with an aluminum side alignment tab.\n",
    "WESTERN_X = 0.05819\n",
    "EASTERN_X = 0.5526\n",
    "\n",
    "# The raft dimensions are determined by the distances between the eyelets on the raft.\n",
    "# These won't change unless someone makes a new version of the Hawkeye raft.\n",
    "width = 0.0695 # E-W dim\n",
    "height = 0.0602 # N-S dim\n",
    "\n",
    "for i, key in enumerate(MIRRORS.keys()):\n",
    "    filename = key + '.csv'\n",
    "    with open(filename, 'w') as f:\n",
    "        f.write(GEOMETRY_HEADER)\n",
    "        sw_0 = WESTERN_X # E-W coord\n",
    "        sw_1 = Y_EYELET_DIST# N-S coord\n",
    "        nw_0 = WESTERN_X\n",
    "        nw_1 = MIRRORS[key][1] - Y_EYELET_DIST\n",
    "        se_0 = EASTERN_X\n",
    "        se_1 = Y_EYELET_DIST\n",
    "        ne_0 = EASTERN_X\n",
    "        ne_1 = MIRRORS[key][1] - Y_EYELET_DIST\n",
    "        line = ','.join([str(item) for item in [sw_0, sw_1, nw_0, nw_1, se_0, se_1, ne_0, ne_1, width, height]]) + '\\n'\n",
    "        f.write(line) \n",
    "\n",
    "        f = plt.figure(i)\n",
    "        ax = plt.axes()\n",
    "        ax.set_title(key)\n",
    "        ax.grid(True, linestyle='--')\n",
    "        ax.scatter(0., 0., color='r', label='Origin')\n",
    "        ax.axhline(0, color='k', label='Mirror dimensions')\n",
    "        ax.axhline(MIRRORS[key][1], color='k')\n",
    "        ax.axvline(0, color='k')\n",
    "        ax.axvline(MIRRORS[key][0], color='k')\n",
    "        ax.scatter([sw_0, nw_0, se_0, ne_0], [sw_1, nw_1, se_1, ne_1], color='k', label='Eyelet positions')\n",
    "        ax.set_xlabel('X-offset from origin (m)')\n",
    "        ax.set_ylabel('Y-offset from origin (m)')\n",
    "        ax.legend(loc='best')\n",
    "        plt.show()"
   ]
  },
  {
   "cell_type": "code",
   "execution_count": null,
   "metadata": {},
   "outputs": [],
   "source": []
  }
 ],
 "metadata": {
  "kernelspec": {
   "display_name": "Python 3.7.10 ('hotspot')",
   "language": "python",
   "name": "python3"
  },
  "language_info": {
   "codemirror_mode": {
    "name": "ipython",
    "version": 3
   },
   "file_extension": ".py",
   "mimetype": "text/x-python",
   "name": "python",
   "nbconvert_exporter": "python",
   "pygments_lexer": "ipython3",
   "version": "3.10.5"
  },
  "orig_nbformat": 4,
  "vscode": {
   "interpreter": {
    "hash": "6750627cd874d0c95877acff9acc62195d6a8718424fed6513219ae2f64cd542"
   }
  }
 },
 "nbformat": 4,
 "nbformat_minor": 2
}
